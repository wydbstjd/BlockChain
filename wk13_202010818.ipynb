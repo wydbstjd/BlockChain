{
 "cells": [
  {
   "cell_type": "code",
   "execution_count": 1,
   "id": "ef3b88af-3fb3-4535-a476-f4c5db4dc852",
   "metadata": {},
   "outputs": [
    {
     "name": "stdout",
     "output_type": "stream",
     "text": [
      "Overwriting src/MathMultiply7.sol\n"
     ]
    }
   ],
   "source": [
    "%%writefile src/MathMultiply7.sol\n",
    "//SPDX-License-Identifier: GPL-3.0-or-later\n",
    "pragma solidity ^0.8.0;\n",
    "\n",
    "contract Multiply7 {\n",
    "    event PrintLog(string s, address _from, uint _amount);\n",
    "    event PrintLog(address _addr1, address _addr2);\n",
    "    event PrintLog(uint);\n",
    "    receive() external payable {\n",
    "        emit PrintLog(msg.sender, tx.origin); // tx.origin은 트랜잭션을 최초로 생성한 외부 계정, msg.sender는 현재 msg를 전달하는 측의 주소를 뜻한다.\n",
    "    }\n",
    "    fallback() external payable {\n",
    "        emit PrintLog(msg.sender, tx.origin);\n",
    "    }\n",
    "    function multiply(uint input) pure public returns(uint) {\n",
    "        return input * 77;\n",
    "    }\n",
    "    function getAddress() view public returns(address) {\n",
    "        return address(this);\n",
    "    }\n",
    "}\n",
    "\n",
    "contract Math {\n",
    "    Multiply7 m7 = new Multiply7();\n",
    "    function deposit(uint amount) payable public {\n",
    "        require(msg.value == amount);\n",
    "    }\n",
    "    function setM7(address payable _addr) public {\n",
    "        m7 = Multiply7(_addr);\n",
    "    }\n",
    "    function multiply() view public returns(uint) {\n",
    "        uint res = m7.multiply(8);\n",
    "        return res;\n",
    "    }\n",
    "    function send123M7() public payable {\n",
    "        payable(address(m7)).transfer(123 wei);\n",
    "    }\n",
    "    function getBalanceOfThis() public view returns(uint) {\n",
    "        return address(this).balance;\n",
    "    }\n",
    "    function getBalanceOfM7() public view returns(uint) {\n",
    "        return address(m7).balance;\n",
    "    }\n",
    "    function getAddressOfM7() view public returns(address) {\n",
    "        return address(m7);\n",
    "   }\n",
    "}"
   ]
  },
  {
   "cell_type": "code",
   "execution_count": 2,
   "id": "43fa7153-2c5c-4fd2-82e6-38c5200d6ab9",
   "metadata": {},
   "outputs": [],
   "source": [
    "!solc-windows.exe --optimize --combined-json abi,bin src/MathMultiply7.sol > src/MathMultiply7.json"
   ]
  },
  {
   "cell_type": "code",
   "execution_count": 3,
   "id": "2b02e82d-c6bc-4542-9270-6e3aaee3b875",
   "metadata": {},
   "outputs": [
    {
     "name": "stdout",
     "output_type": "stream",
     "text": [
      "Overwriting src/MathMultiply7DeployFromFile.js\n"
     ]
    }
   ],
   "source": [
    "%%writefile src/MathMultiply7DeployFromFile.js\n",
    "var Web3 = require('web3');\n",
    "var web3 = new Web3('http://localhost:8345');\n",
    "\n",
    "var _abiBinJson = require('./MathMultiply7.json');\n",
    "contractNames = Object.keys(_abiBinJson.contracts);\n",
    "contractName = contractNames[0];\n",
    "console.log(\"- contract name: \", contractName);\n",
    "_abi = _abiBinJson.contracts[contractName].abi;\n",
    "_bin = _abiBinJson.contracts[contractName].bin;\n",
    "\n",
    "async function deploy() {\n",
    "    const accounts = await web3.eth.getAccounts();\n",
    "    console.log(\"Deploying the contract from \" + accounts[0]);\n",
    "    var deployed = await new web3.eth.Contract(_abi)\n",
    "        .deploy({data: \"0x\" + _bin})\n",
    "        .send({from: accounts[0], gas:364124}, function (err, transactionHash) {\n",
    "            if (!err) console.log(\"hash: \" + transactionHash);\n",
    "        })\n",
    "    console.log(\"---> The contract deployed to: \" + deployed.options.address);\n",
    "}\n",
    "deploy()"
   ]
  },
  {
   "cell_type": "code",
   "execution_count": 4,
   "id": "3c7ea985-b750-4fd2-a3fa-75339c5b5c02",
   "metadata": {},
   "outputs": [
    {
     "name": "stdout",
     "output_type": "stream",
     "text": [
      "- contract name:  src/MathMultiply7.sol:Math\n",
      "Deploying the contract from 0xd9f4dF6782f64D745f242D8B1768bEb54a3Ee310\n",
      "hash: 0xd1058525720d1762f835fc2161a21ce01ef0a0105e061c7113c4f47332ec0a42\n",
      "---> The contract deployed to: 0x90CdE294Deec56f37409Ebaf028F55b8136FCC6e\n"
     ]
    }
   ],
   "source": [
    "!node src/MathMultiply7DeployFromFile.js"
   ]
  },
  {
   "cell_type": "code",
   "execution_count": 5,
   "id": "bc7c651a-4e32-41b2-9188-5128c7e7bf1d",
   "metadata": {},
   "outputs": [
    {
     "name": "stdout",
     "output_type": "stream",
     "text": [
      "Overwriting src/MathMultiply7UseFromFile.js\n"
     ]
    }
   ],
   "source": [
    "%%writefile src/MathMultiply7UseFromFile.js\n",
    "var Web3 = require('web3');\n",
    "var web3 = new Web3(new Web3.providers.WebsocketProvider('ws://localhost:8345'));\n",
    "\n",
    "var _abiBinJson = require('./MathMultiply7.json');\n",
    "contractNames = Object.keys(_abiBinJson.contracts);\n",
    "contractName = contractNames[0];\n",
    "abi = _abiBinJson.contracts[contractName].abi;\n",
    "addr = \"0x90CdE294Deec56f37409Ebaf028F55b8136FCC6e\";\n",
    "\n",
    "async function doIt() {\n",
    "    const accounts = await web3.eth.getAccounts();\n",
    "    console.log(\"Account: \" + accounts[0]);\n",
    "    const balanceBefore = await web3.eth.getBalance(accounts[0]);\n",
    "    console.log(\"Balance before: \" + balanceBefore);\n",
    "    var _instance = new web3.eth.Contract(abi, addr);\n",
    "\n",
    "    await _instance.methods.multiply().call().then(console.log); // 8 x 77 = 616 출력\n",
    "    await _instance.methods.deposit(123).send({from: accounts[0], value: 123}); // 123 wei 입금\n",
    "    await _instance.methods.getBalanceOfM7().call().then(console.log); // M7 잔고 (0) 출력\n",
    "    await _instance.methods.send123M7().send({from: accounts[0]}); // M7 계좌로 123 wei 입금, tx.origin은 accounts[0], msg.sender는 Math 컨트랙의 주소\n",
    "    await _instance.methods.getBalanceOfM7().call().then(console.log); // M7 잔고 (123) 출력\n",
    "\n",
    "    await _instance.methods.getAddressOfM7().call().then(console.log); // Math 컨트랙트가 참조하는 Multiply7 컨트랙 주소를 의미\n",
    "\n",
    "    const balanceAfter = await web3.eth.getBalance(accounts[0]);\n",
    "    console.log(\"Balance after: \" + balanceAfter);\n",
    "    console.log(\"Balance diff: \" + (balanceBefore - balanceAfter));\n",
    "    process.exit(1);\n",
    "}\n",
    "doIt()"
   ]
  },
  {
   "cell_type": "code",
   "execution_count": 6,
   "id": "3756522b-8723-4d1b-9aed-5ef483919451",
   "metadata": {},
   "outputs": [
    {
     "name": "stdout",
     "output_type": "stream",
     "text": [
      "Account: 0xd9f4dF6782f64D745f242D8B1768bEb54a3Ee310\n",
      "Balance before: 999988549652801077205\n",
      "616\n",
      "0\n",
      "123\n",
      "0x8DAdA62deD3aa849CecA059e668f7ed2f08C9602\n",
      "Balance after: 999988410746216765442\n",
      "Balance diff: 138906584350720\n"
     ]
    }
   ],
   "source": [
    "!node src/MathMultiply7UseFromFile.js"
   ]
  },
  {
   "cell_type": "code",
   "execution_count": null,
   "id": "8a942601-9ef5-43e5-9189-b4beb498aada",
   "metadata": {},
   "outputs": [],
   "source": []
  }
 ],
 "metadata": {
  "kernelspec": {
   "display_name": "Python 3 (ipykernel)",
   "language": "python",
   "name": "python3"
  },
  "language_info": {
   "codemirror_mode": {
    "name": "ipython",
    "version": 3
   },
   "file_extension": ".py",
   "mimetype": "text/x-python",
   "name": "python",
   "nbconvert_exporter": "python",
   "pygments_lexer": "ipython3",
   "version": "3.10.6"
  }
 },
 "nbformat": 4,
 "nbformat_minor": 5
}
