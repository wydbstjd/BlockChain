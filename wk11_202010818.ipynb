{
 "cells": [
  {
   "cell_type": "code",
   "execution_count": 1,
   "id": "30c59228-5327-456f-aab9-40bae09749f1",
   "metadata": {},
   "outputs": [
    {
     "name": "stdout",
     "output_type": "stream",
     "text": [
      "Overwriting src/MyBank.sol\n"
     ]
    }
   ],
   "source": [
    "%%writefile src/MyBank.sol\n",
    "//SPDX-License-Identifier: GPL-3.0-or-later\n",
    "pragma solidity ^0.8.0;\n",
    "\n",
    "contract MyBank {\n",
    "    address owner; //address payable owner;\n",
    "    uint balance;\n",
    "    constructor() { //constructor() public {\n",
    "        owner = msg.sender;\n",
    "        balance = address(this).balance;\n",
    "    }\n",
    "    function deposit(uint amount) public payable {\n",
    "        require(msg.value == amount);\n",
    "        balance += amount;\n",
    "    }\n",
    "    function withdraw(uint amount) public payable {\n",
    "        balance -= amount;   // 송금 전 감액\n",
    "        payable(owner).transfer(amount); // 이전 owner.transfer(amount)\n",
    "    }\n",
    "    function transferTo(address payable receiver, uint amount) public payable {\n",
    "        balance -= amount;   // 송금 전 감액\n",
    "        receiver.transfer(amount);\n",
    "    }\n",
    "    function getBalance() public view returns (uint) {\n",
    "        return balance;\n",
    "    }\n",
    "    function getBalanceOfThis() public view returns (uint) {\n",
    "        return address(this).balance;\n",
    "    }\n",
    "    function getBalanceOfOwner() public view returns (uint) {\n",
    "        return owner.balance;\n",
    "    }\n",
    "}"
   ]
  },
  {
   "cell_type": "code",
   "execution_count": 2,
   "id": "92a9495c-0e5b-4036-b758-f8f7aae5363f",
   "metadata": {},
   "outputs": [],
   "source": [
    "!solc-windows.exe --optimize --combined-json abi,bin src/MyBank.sol > src/MyBank.json"
   ]
  },
  {
   "cell_type": "code",
   "execution_count": 3,
   "id": "099939b2-933e-46f0-b851-05992afc4456",
   "metadata": {},
   "outputs": [
    {
     "name": "stdout",
     "output_type": "stream",
     "text": [
      "{\"contracts\":{\"src/MyBank.sol:MyBank\":{\"abi\":[{\"inputs\":[],\"stateMutability\":\"nonpayable\",\"type\":\"constructor\"},{\"inputs\":[{\"internalType\":\"uint256\",\"name\":\"amount\",\"type\":\"uint256\"}],\"name\":\"deposit\",\"outputs\":[],\"stateMutability\":\"payable\",\"type\":\"function\"},{\"inputs\":[],\"name\":\"getBalance\",\"outputs\":[{\"internalType\":\"uint256\",\"name\":\"\",\"type\":\"uint256\"}],\"stateMutability\":\"view\",\"type\":\"function\"},{\"inputs\":[],\"name\":\"getBalanceOfOwner\",\"outputs\":[{\"internalType\":\"uint256\",\"name\":\"\",\"type\":\"uint256\"}],\"stateMutability\":\"view\",\"type\":\"function\"},{\"inputs\":[],\"name\":\"getBalanceOfThis\",\"outputs\":[{\"internalType\":\"uint256\",\"name\":\"\",\"type\":\"uint256\"}],\"stateMutability\":\"view\",\"type\":\"function\"},{\"inputs\":[{\"internalType\":\"address payable\",\"name\":\"receiver\",\"type\":\"address\"},{\"internalType\":\"uint256\",\"name\":\"amount\",\"type\":\"uint256\"}],\"name\":\"transferTo\",\"outputs\":[],\"stateMutability\":\"payable\",\"type\":\"function\"},{\"inputs\":[{\"internalType\":\"uint256\",\"name\":\"amount\",\"type\":\"uint256\"}],\"name\":\"withdraw\",\"outputs\":[],\"stateMutability\":\"payable\",\"type\":\"function\"}],\"bin\":\"608060405234801561000f575f80fd5b505f80546001600160a01b0319163317905547600155610268806100325f395ff3fe608060405260043610610054575f3560e01c806312065fe0146100585780632ccb1b301461007a5780632e1a7d4d1461008f578063934d85b4146100a2578063b6b55f25146100b4578063d8c24541146100c7575b5f80fd5b348015610063575f80fd5b506001545b60405190815260200160405180910390f35b61008d6100883660046101a6565b6100e4565b005b61008d61009d3660046101db565b610132565b3480156100ad575f80fd5b5047610068565b61008d6100c23660046101db565b610182565b3480156100d2575f80fd5b505f546001600160a01b031631610068565b8060015f8282546100f59190610206565b90915550506040516001600160a01b0383169082156108fc029083905f818181858888f1935050505015801561012d573d5f803e3d5ffd5b505050565b8060015f8282546101439190610206565b90915550505f80546040516001600160a01b039091169183156108fc02918491818181858888f1935050505015801561017e573d5f803e3d5ffd5b5050565b80341461018d575f80fd5b8060015f82825461019e919061021f565b909155505050565b5f80604083850312156101b7575f80fd5b82356001600160a01b03811681146101cd575f80fd5b946020939093013593505050565b5f602082840312156101eb575f80fd5b5035919050565b634e487b7160e01b5f52601160045260245ffd5b81810381811115610219576102196101f2565b92915050565b80820180821115610219576102196101f256fea264697066735822122078c718586e0f89183f996f86ac5cecab60626c1d1440ecbb422ea1b264c5de8f64736f6c63430008180033\"}},\"version\":\"0.8.24+commit.e11b9ed9.Windows.msvc\"}\n"
     ]
    }
   ],
   "source": [
    "!type src\\MyBank.json"
   ]
  },
  {
   "cell_type": "code",
   "execution_count": 4,
   "id": "7ce00e00-9633-4c1e-8e2c-c4ac0687a82d",
   "metadata": {},
   "outputs": [
    {
     "name": "stdout",
     "output_type": "stream",
     "text": [
      "Overwriting src/MyBankDeployAbiBinFromFile.js\n"
     ]
    }
   ],
   "source": [
    "%%writefile src/MyBankDeployAbiBinFromFile.js\n",
    "var Web3=require('web3');\n",
    "var web3=new Web3('http://localhost:8345');\n",
    "\n",
    "var _abiBinJson = require('./MyBank.json');\n",
    "contractName = Object.keys(_abiBinJson.contracts);\n",
    "_abi = _abiBinJson.contracts[contractName].abi;\n",
    "_bin = _abiBinJson.contracts[contractName].bin;\n",
    "\n",
    "async function deploy() {\n",
    "    const accounts = await web3.eth.getAccounts();\n",
    "    console.log(\"Deploying teh contract from \" + accounts[0]);\n",
    "    var deployed = await new web3.eth.Contract(_abi)\n",
    "        .deploy({data: '0x'+_bin})\n",
    "        .send({from: accounts[0], gas: 364124}, function(err, transactionHash) {\n",
    "            if(!err) console.log(\"hash: \" + transactionHash);\n",
    "        })\n",
    "    console.log(\"---> The contract deployed to: \" + deployed.options.address);\n",
    "}\n",
    "deploy()"
   ]
  },
  {
   "cell_type": "code",
   "execution_count": 5,
   "id": "45985c47-4226-4ccf-847c-94e4fdeabdfe",
   "metadata": {},
   "outputs": [
    {
     "name": "stdout",
     "output_type": "stream",
     "text": [
      "Deploying teh contract from 0xA3Df2B486ECf9A0D21d503C200dE78D878237954\n",
      "hash: 0x81ad2fdf7b5bfef9e274c574dacf40bcaa295d979d6f1f47c1bcd4e9de36c84f\n",
      "---> The contract deployed to: 0x80Bde13dd2C82aC90E29412aca13CFaC5D4f50a0\n"
     ]
    }
   ],
   "source": [
    "!node src/MyBankDeployAbiBinFromFile.js"
   ]
  },
  {
   "cell_type": "code",
   "execution_count": 6,
   "id": "8b66f9d7-14be-4ec9-b192-02ce0af98fcd",
   "metadata": {},
   "outputs": [
    {
     "name": "stdout",
     "output_type": "stream",
     "text": [
      "Overwriting src/MyBankUse.js\n"
     ]
    }
   ],
   "source": [
    "%%writefile src/MyBankUse.js\n",
    "var Web3=require('web3');\n",
    "var web3=new Web3('http://localhost:8345');\n",
    "\n",
    "var _abiBinJson = require('./MyBank.json');\n",
    "contractName = Object.keys(_abiBinJson.contracts);\n",
    "abi = _abiBinJson.contracts[contractName].abi;\n",
    "\n",
    "var myBank = new web3.eth.Contract(abi, \"0x80Bde13dd2C82aC90E29412aca13CFaC5D4f50a0\");\n",
    "\n",
    "async function doIt() {\n",
    "    const accounts = await web3.eth.getAccounts();\n",
    "    //console.log(\"Call from: \" + accounts[0]);\n",
    "\n",
    "    await myBank.methods.deposit(1122).send({from: accounts[0], value:1122});\n",
    "    await myBank.methods.getBalance().call().then(console.log);\n",
    "    await myBank.methods.withdraw(1111).send({from: accounts[0]});\n",
    "    await myBank.methods.getBalance().call().then(console.log);\n",
    "    await myBank.methods.transferTo(accounts[3], 11).send({from: accounts[0]});\n",
    "    await myBank.methods.getBalance().call().then(console.log);\n",
    "    bal3 = await web3.eth.getBalance(accounts[3])\n",
    "    console.log(\"account3 balance: \", bal3);\n",
    "}\n",
    "\n",
    "doIt();"
   ]
  },
  {
   "cell_type": "code",
   "execution_count": 7,
   "id": "e52ee449-4431-4550-967e-53633ccd02d0",
   "metadata": {},
   "outputs": [
    {
     "name": "stdout",
     "output_type": "stream",
     "text": [
      "1122\n",
      "11\n",
      "0\n",
      "account3 balance:  1000000000000000000011\n"
     ]
    }
   ],
   "source": [
    "!node src/MyBankUse.js"
   ]
  },
  {
   "cell_type": "code",
   "execution_count": 30,
   "id": "82b9b8b5-195b-406f-bd63-6fbb7aa7ff25",
   "metadata": {},
   "outputs": [],
   "source": [
    "# 11주 강의자료 MyBank.sol을 ganache@8345에 배포하고, 다음을 테스트하세요.\n",
    "\n",
    "# - 은행에 1122 입금하고, 잔고 출력\n",
    "\n",
    "# - 은행에서 1111 출금하고, 잔고 출력\n",
    "\n",
    "# - transferTo() 함수를 호출해서, 자신의 account3으로 이체하고, 잔고 출력"
   ]
  }
 ],
 "metadata": {
  "kernelspec": {
   "display_name": "Python 3 (ipykernel)",
   "language": "python",
   "name": "python3"
  },
  "language_info": {
   "codemirror_mode": {
    "name": "ipython",
    "version": 3
   },
   "file_extension": ".py",
   "mimetype": "text/x-python",
   "name": "python",
   "nbconvert_exporter": "python",
   "pygments_lexer": "ipython3",
   "version": "3.10.6"
  }
 },
 "nbformat": 4,
 "nbformat_minor": 5
}
