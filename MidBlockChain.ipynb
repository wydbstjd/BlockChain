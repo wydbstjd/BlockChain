{
 "cells": [
  {
   "cell_type": "markdown",
   "id": "2c643fe8-8372-4ee9-8d76-124aac37edfa",
   "metadata": {},
   "source": [
    "# 중간 기출"
   ]
  },
  {
   "cell_type": "markdown",
   "id": "db565af1-29c5-4cab-873e-ee258c386e1e",
   "metadata": {},
   "source": [
    "## 문제 1번"
   ]
  },
  {
   "cell_type": "code",
   "execution_count": 3,
   "id": "1d11637d-fc7c-49d6-b67d-70409cfb798c",
   "metadata": {},
   "outputs": [
    {
     "name": "stdout",
     "output_type": "stream",
     "text": [
      "Overwriting src/midterm1.js\n"
     ]
    }
   ],
   "source": [
    "%%writefile src/midterm1.js\n",
    "miner.setEtherbase(eth.accounts[0]);\n",
    "console.log('1-1: ');\n",
    "console.log(JSON.stringify(admin.nodeInfo));\n",
    "console.log('\\n\\n1-2: ');\n",
    "console.log('accounts: ', eth.accounts);\n",
    "console.log('balance1(ether): ', web3.fromWei(eth.getBalance(eth.accounts[0]), 'ether'));\n",
    "console.log('balance2(ether): ', web3.fromWei(eth.getBalance(eth.accounts[1]), 'ether'));\n",
    "console.log('blockNumber: ', eth.blockNumber);"
   ]
  },
  {
   "cell_type": "code",
   "execution_count": 4,
   "id": "5cd1998d-0031-4b59-822f-c279b9780014",
   "metadata": {},
   "outputs": [
    {
     "name": "stdout",
     "output_type": "stream",
     "text": [
      "1-1: \n",
      "{\"id\":\"0f7e8c77b75ca399b1987a36e6d0704803a5d7fe242df350fb69061d2ff1ac4f\",\"name\":\"Geth/jsl/v1.10.26-stable-e5eb32ac/windows-amd64/go1.18.5\",\"enode\":\"enode://bce3797998420c004b9cce8cf8fc5b68348f32a9c33ac30ae191144af885a55c6809c08332df0b0a214b1297b8c600292899a275e1ad036d74bd7d03a5d987df@127.0.0.1:38445\",\"enr\":\"enr:-KO4QDpXmPkaMuUCw-OG8yaNlMFjjN_C2ZdqpkLzhHyxTWdFHshelMGNNSHntm418Cy_8myyWAIy7-SKAxzLu_GNIfCGAY7XNYXVg2V0aMfGhCToWBqAgmlkgnY0gmlwhH8AAAGJc2VjcDI1NmsxoQO843l5mEIMAEuczoz4_FtoNI8yqcM6wwrhkRRK-IWlXIRzbmFwwIN0Y3CCli2DdWRwgpYt\",\"ip\":\"127.0.0.1\",\"ports\":{\"discovery\":38445,\"listener\":38445},\"listenAddr\":\"[::]:38445\",\"protocols\":{\"eth\":{\"network\":33,\"difficulty\":10203039,\"genesis\":\"0x5704d029fe80f4fb605c0cb5e31d591511f10a46a0cb8166f97d8d559f9bc5b0\",\"config\":{\"chainId\":412,\"homesteadBlock\":0,\"eip150Block\":0,\"eip150Hash\":\"0x0000000000000000000000000000000000000000000000000000000000000000\",\"eip155Block\":0,\"eip158Block\":0,\"byzantiumBlock\":0,\"constantinopleBlock\":0,\"petersburgBlock\":0},\"head\":\"0x89408c970ca0df468c297922f430a15ceb2e1d6b947b3cfc847bbcb670e2fba1\"},\"snap\":{}}}\n",
      "\n",
      "\n",
      "1-2: \n",
      "accounts:  0xd888207069c6c7652768216b26db265b07641e74,0x63c7a0a688fe02db193e8eef0649c5919dcea6de\n",
      "balance1(ether):  145.119999999999999556\n",
      "balance2(ether):  8.88\n",
      "blockNumber:  77\n",
      "null\n"
     ]
    }
   ],
   "source": [
    "!geth --exec \"loadScript('src/midterm1.js')\" attach http://localhost:8445"
   ]
  },
  {
   "cell_type": "code",
   "execution_count": 44,
   "id": "98e8966e-44f5-4825-ba8f-2002aae90c52",
   "metadata": {},
   "outputs": [
    {
     "name": "stdout",
     "output_type": "stream",
     "text": [
      "Overwriting src/midterm2.js\n"
     ]
    }
   ],
   "source": [
    "%%writefile src/midterm2.js\n",
    "var init_sender = eth.getBalance(eth.coinbase);\n",
    "var init_receiver = eth.getBalance(eth.accounts[1]);\n",
    "console.log('init balance of sender');\n",
    "console.log('wei:', init_sender, 'ether:', web3.fromWei(init_sender, 'ether'));\n",
    "console.log('init balance of receiver');\n",
    "console.log('wei:', init_receiver, 'ether:', web3.fromWei(init_receiver, 'ether'));\n",
    "\n",
    "console.log('\\n\\n1-3');\n",
    "var t = eth.sendTransaction({\n",
    "    from: eth.coinbase,\n",
    "    to: eth.accounts[1],\n",
    "    value: web3.toWei('1.11', 'ether')});\n",
    "console.log('...mining start');\n",
    "miner.start(1); admin.sleepBlocks(1); miner.stop();\n",
    "console.log('mining done...\\n');\n",
    "\n",
    "console.log('\\n\\n1-4');\n",
    "console.log('transactionHash: ', t);\n",
    "console.log('getTransactionReceipt: ', JSON.stringify(eth.getTransactionReceipt(t)));\n",
    "\n",
    "console.log('\\n\\n1-5');\n",
    "console.log('balance of sender');\n",
    "console.log('wei:', eth.getBalance(eth.coinbase), 'ether:', web3.fromWei(eth.getBalance(eth.coinbase), 'ether'));\n",
    "console.log('balance of receiver');\n",
    "console.log('wei:', eth.getBalance(eth.accounts[1]), 'ether:', web3.fromWei(eth.getBalance(eth.accounts[1]), 'ether'));\n",
    "console.log('\\nincreased balance(receiver)');\n",
    "console.log('wei:', eth.getBalance(eth.accounts[1])-init_receiver, 'ether:', web3.fromWei(eth.getBalance(eth.accounts[1])-init_receiver, 'ether'));\n",
    "console.log('blockNumber:', eth.blockNumber);\n"
   ]
  },
  {
   "cell_type": "code",
   "execution_count": 45,
   "id": "1bd47ea3-326a-43ff-9c62-37df7a9ba1fc",
   "metadata": {},
   "outputs": [
    {
     "name": "stdout",
     "output_type": "stream",
     "text": [
      "init balance of sender\n",
      "wei: 2e+21 ether: 2000\n",
      "init balance of receiver\n",
      "wei: 0 ether: 0\n",
      "\n",
      "\n",
      "1-3\n",
      "...mining start\n",
      "mining done...\n",
      "\n",
      "\n",
      "\n",
      "1-4\n",
      "transactionHash:  0x9b30eddd6ba3f4a60f7341cbd5d655a3fbed535bd73859b4d4cf8bb4a0333068\n",
      "getTransactionReceipt:  {\"blockHash\":\"0x0ad924797358d3ea98ed6cf0fb046e60286cb4e67c353480025c852c5ce7d802\",\"blockNumber\":2473,\"contractAddress\":null,\"cumulativeGasUsed\":21000,\"effectiveGasPrice\":\"1000000000\",\"from\":\"0xd888207069c6c7652768216b26db265b07641e74\",\"gasUsed\":21000,\"logs\":[],\"logsBloom\":\"0x00000000000000000000000000000000000000000000000000000000000000000000000000000000000000000000000000000000000000000000000000000000000000000000000000000000000000000000000000000000000000000000000000000000000000000000000000000000000000000000000000000000000000000000000000000000000000000000000000000000000000000000000000000000000000000000000000000000000000000000000000000000000000000000000000000000000000000000000000000000000000000000000000000000000000000000000000000000000000000000000000000000000000000000000000000000\",\"status\":\"0x1\",\"to\":\"0x63c7a0a688fe02db193e8eef0649c5919dcea6de\",\"transactionHash\":\"0x9b30eddd6ba3f4a60f7341cbd5d655a3fbed535bd73859b4d4cf8bb4a0333068\",\"transactionIndex\":0,\"type\":\"0x0\"}\n",
      "\n",
      "\n",
      "1-5\n",
      "balance of sender\n",
      "wei: 2.00089e+21 ether: 2000.89\n",
      "balance of receiver\n",
      "wei: 1110000000000000000 ether: 1.11\n",
      "\n",
      "increased balance(receiver)\n",
      "wei: 1110000000000000000 ether: 1.11\n",
      "blockNumber: 2473\n",
      "null\n"
     ]
    }
   ],
   "source": [
    "!geth --exec \"loadScript('src/midterm2.js')\" attach http://localhost:8445"
   ]
  },
  {
   "cell_type": "markdown",
   "id": "55e9a2a1-4d0c-4e00-a868-b03191742c7f",
   "metadata": {},
   "source": [
    "## 문제 2번"
   ]
  },
  {
   "cell_type": "code",
   "execution_count": 54,
   "id": "6c663ad7-f5bb-465b-b330-9600611d0613",
   "metadata": {},
   "outputs": [
    {
     "name": "stdout",
     "output_type": "stream",
     "text": [
      "Overwriting scripts/powerOf2.html\n"
     ]
    }
   ],
   "source": [
    "%%writefile scripts/powerOf2.html\n",
    "<!doctype>\n",
    "<html>\n",
    "<head>\n",
    "<script src=\"https://cdn.jsdelivr.net/npm/web3@1.2.5/dist/web3.min.js\"></script>\n",
    "<script type=\"text/javascript\">\n",
    "    var web3 = new Web3(\"http://localhost:8345\");\n",
    "\n",
    "    function displayCoinbase() {\n",
    "        var web3version = web3.version;  //web3.version.api\n",
    "        var accounts = web3.eth.getAccounts();\n",
    "        document.getElementById('web3ver').innerText = 'web3 version: '+web3version;\n",
    "\n",
    "\n",
    "        web3.eth.getAccounts().then(function(ac) {\n",
    "            document.getElementById('web3accounts').innerText = 'account: ' + ac[0];\n",
    "        });\n",
    "        web3.eth.getCoinbase().then(function(coin) {\n",
    "            document.getElementById('web3coinbase').innerText = 'coinbase: ' + coin;\n",
    "            });\n",
    "        web3.eth.getBalance('0xbc3852dd6e305b19dbb13c51b956ea9c46fb5b3c').then(function(balance) {\n",
    "            document.getElementById('web3balance').innerText = 'balance: ' + balance;\n",
    "        });\n",
    "    }\n",
    "</script>\n",
    "</head>\n",
    "<body>\n",
    "    <h1>Hello</h1>\n",
    "    <button type=\"button\" onClick=\"displayCoinbase();\">Display Coinbase</button>\n",
    "    <div></div>\n",
    "    <div id=\"web3ver\"></div>\n",
    "    <div id=\"web3coinbase\"></div>\n",
    "    <div id=\"web3accounts\"></div>\n",
    "    <div id='web3balance'></div>\n",
    "</body>\n",
    "</html>"
   ]
  },
  {
   "cell_type": "code",
   "execution_count": 56,
   "id": "57bcb610-3f46-43d6-8592-f3090facf248",
   "metadata": {},
   "outputs": [
    {
     "name": "stdout",
     "output_type": "stream",
     "text": [
      "privkey: 3e295c8dc78fb7f3865067dfc42fe845263db7661296e7e32e3a37baa1a27a7b\n",
      "pubkey: 04f6cc26cec156c180f8a215cf54db7799d0d42179f1e0b628cf364f09da95f17d5aab7edeeb1f529137a241d07cec555b2d8ec44a4cd24e87cf98001d428f564f\n",
      "addr: 1NthZ9kJVbtxrHQiocfjLLTcMH3F2DLcgD\n",
      "sig: HO4Kn3x5EQL8Tv4od8BiHb3RXfmiHfJvTBMmYwRX+y9MdvDKAGG6JMMk27dgEw4JSC4X0xVPJ+iRCHDJirBGpnE=\n",
      "verified: True\n",
      "pubkey: 04f6cc26cec156c180f8a215cf54db7799d0d42179f1e0b628cf364f09da95f17d5aab7edeeb1f529137a241d07cec555b2d8ec44a4cd24e87cf98001d428f564f\n"
     ]
    }
   ],
   "source": [
    "import bitcoin\n",
    "privKey = bitcoin.sha256('hello key')\n",
    "print('privkey:', privKey)\n",
    "import hashlib\n",
    "x = hashlib.sha256(\"hello key\".encode()).hexdigest()\n",
    "#print(x)\n",
    "pubKey = bitcoin.privtopub(privKey)\n",
    "print('pubkey:', pubKey)\n",
    "addr = bitcoin.pubtoaddr(pubKey)\n",
    "print('addr:', addr)\n",
    "\n",
    "msg = \"let's meet in myoffice at 10 in the morning.\"\n",
    "sig = bitcoin.ecdsa_sign(msg, privKey)\n",
    "print('sig:', sig)\n",
    "print('verified:', bitcoin.ecdsa_verify(msg, sig, pubKey))\n",
    "print('pubkey:', bitcoin.ecdsa_recover(msg, sig))"
   ]
  },
  {
   "cell_type": "code",
   "execution_count": 57,
   "id": "e108d8f6-4467-4410-b6d9-6fe669664b91",
   "metadata": {},
   "outputs": [
    {
     "name": "stdout",
     "output_type": "stream",
     "text": [
      "Overwriting src/getTransaction.js\n"
     ]
    }
   ],
   "source": [
    "%%writefile src/getTransaction.js\n",
    "var Web3 = require('web3');\n",
    "var web3 = new Web3('http://localhost:8345');\n",
    "\n",
    "async function printAccountInfo() {\n",
    "    accounts = await web3.eth.getAccounts();\n",
    "    console.log(\"account0:\", accounts[0]);\n",
    "    console.log(\"account0 balance:\", await web3.eth.getBalance(accounts[0]));\n",
    "    console.log(\"account1:\", accounts[1]);\n",
    "    console.log(\"account1 balance:\", await web3.eth.getBalance(accounts[1]));\n",
    "}\n",
    "\n",
    "async function sendEther() {\n",
    "    accounts = await web3.eth.getAccounts();\n",
    "\n",
    "    tx = await web3.eth.sendTransaction({\n",
    "        from: accounts[0],\n",
    "        to: accounts[1],\n",
    "        value: 111\n",
    "    });\n",
    "\n",
    "    console.log('transaction hash:', tx.transactionHash);\n",
    "}\n",
    "\n",
    "async function printGasInfo() {\n",
    "    gasPrice = await web3.eth.getGasPrice();\n",
    "    console.log('gas Price:', gasPrice);\n",
    "}\n",
    "\n",
    "async function printNonce() {\n",
    "    accounts = await web3.eth.getAccounts();\n",
    "    nonce = await web3.eth.getTransactionCount(accounts[0]);\n",
    "    console.log('nonce:', nonce);\n",
    "}\n",
    "\n",
    "async function printBalanceChanges() {\n",
    "    accounts = await web3.eth.getAccounts();\n",
    "\n",
    "    balanceBefore0 = await web3.eth.getBalance(accounts[0]);\n",
    "    balanceBefore1 = await web3.eth.getBalance(accounts[1]);\n",
    "    \n",
    "    await sendEther();\n",
    "\n",
    "    balanceAfter0 = await web3.eth.getBalance(accounts[0]);\n",
    "    balanceAfter1 = await web3.eth.getBalance(accounts[1]);\n",
    "\n",
    "    console.log('account0 balance changes:', balanceBefore0 - balanceAfter0);\n",
    "    console.log('account1 balance changes:', balanceAfter1 - balanceBefore1);\n",
    "}\n",
    "\n",
    "async function printTotalBalance() {\n",
    "    accounts = await web3.eth.getAccounts();\n",
    "    balance0 = await web3.eth.getBalance(accounts[0]);\n",
    "    balance1 = await web3.eth.getBalance(accounts[1]);\n",
    "    totalBalance = balance0 + balance1;\n",
    "    console.log('total balance:', totalBalance);\n",
    "}\n",
    "\n",
    "(async () => {\n",
    "    await printAccountInfo();\n",
    "    await printGasInfo();\n",
    "    await printNonce();\n",
    "    await printBalanceChanges();\n",
    "    await printTotalBalance();\n",
    "})();"
   ]
  },
  {
   "cell_type": "code",
   "execution_count": 58,
   "id": "9b454056-a1ba-4f6b-9e2b-fb717135247d",
   "metadata": {},
   "outputs": [
    {
     "name": "stdout",
     "output_type": "stream",
     "text": [
      "account0: 0x8c75CF6212b515B33bA5Bae2B9277C9F7633f690\n",
      "account0 balance: 996999855874812223114\n",
      "account1: 0xB6bdc51fdcF11E0cBC825AF19a3F5fa85A6Bd1c8\n",
      "account1 balance: 1000000000000000017775\n",
      "gas Price: 2000000000\n",
      "nonce: \u001b[33m29\u001b[39m\n",
      "transaction hash: 0x308ec8a09a6fc3d3ccd84c7f8189f158e1df6b165805486b2870fbcb449e7860\n",
      "account0 balance changes: \u001b[33m384573767680\u001b[39m\n",
      "account1 balance changes: \u001b[33m0\u001b[39m\n",
      "total balance: 9969998554902384670031000000000000000017886\n"
     ]
    }
   ],
   "source": [
    "!node src/getTransaction.js"
   ]
  },
  {
   "cell_type": "markdown",
   "id": "298c39ba-2798-4754-9a5e-336a937896cd",
   "metadata": {},
   "source": [
    "# 찐 중간고사"
   ]
  },
  {
   "cell_type": "code",
   "execution_count": 101,
   "id": "dc994ff1-f55e-4ca4-b607-3b7755963a59",
   "metadata": {},
   "outputs": [
    {
     "name": "stdout",
     "output_type": "stream",
     "text": [
      "Overwriting src/Midterm.js\n"
     ]
    }
   ],
   "source": [
    "%%writefile src/Midterm.js\n",
    "var Web3 = require('web3');\n",
    "var web3 = new Web3(\"http://localhost:12345\");\n",
    "async function doIt() {\n",
    "    const accounts = await web3.eth.getAccounts();\n",
    "    console.log('(1) ac0: ' + accounts[0] + ', ac1: ' + accounts[1]);\n",
    "    console.log('(2) ac3: ' + accounts[3].substring(0,7));\n",
    "    bal0 = await web3.eth.getBalance(accounts[0]);\n",
    "    bal1 = await web3.eth.getBalance(accounts[1]);\n",
    "    console.log('(3) bal Of ac0: ' + bal0 + ', ac1: ' + bal1);\n",
    "    t = await web3.eth.sendTransaction({\n",
    "        from: accounts[0],\n",
    "        to: accounts[1],\n",
    "        value: 1122\n",
    "    }, function(err, transactionHash) {\n",
    "        if(!err) console.log(\"(4) sending \" + accounts[0] + \" --> \" + accounts[1] + \" hash: \" + transactionHash);\n",
    "    });\n",
    "    console.log(\"(5) Sent to \" + accounts[1] + \", hash: \" + t.transactionHash);\n",
    "\n",
    "    gasPrice = await web3.eth.getGasPrice();\n",
    "    gasUsed = t.gasUsed;\n",
    "    gasCost = gasPrice * gasUsed;\n",
    "    console.log(\"(6) gasUsed x gasPrice = wei \" + gasCost);\n",
    "    gasCostEther = await web3.utils.fromWei(gasCost.toString(), 'ether');\n",
    "    console.log(\"(6) gasUsed x gasPrice = ether \" + gasCostEther);\n",
    "\n",
    "    nonce = await web3.eth.getTransactionCount(accounts[0]);\n",
    "    console.log(\"(7) nonce: \" + nonce);\n",
    "\n",
    "    bal1after = await web3.eth.getBalance(accounts[1]);\n",
    "    diff = await web3.utils.toBN(bal1).sub(web3.utils.toBN(bal1after));\n",
    "    console.log(\"(8) bal diff: \" + diff.toString());\n",
    "\n",
    "    sum = await web3.utils.toBN('0');\n",
    "    for(i=0; i<10; i++) {\n",
    "        bal = await web3.eth.getBalance(accounts[i]);\n",
    "        console.log(\"sum: \" + sum + \" adding \" + i + \" bal: \" + bal);\n",
    "        sum = sum.add(await web3.utils.toBN(bal));\n",
    "    }\n",
    "    console.log('(9) balance total: ' + sum);\n",
    "\n",
    "    gasEstimate = await web3.eth.estimateGas({\n",
    "        from: accounts[0],\n",
    "        to: accounts[1],\n",
    "        value: 1122\n",
    "    });\n",
    "    console.log(gasEstimate);\n",
    "    t2 = await web3.eth.sendTransaction({\n",
    "        from: accounts[0],\n",
    "        to: accounts[1],\n",
    "        value: 1111,\n",
    "        gas: gasEstimate-1\n",
    "    }, function(err, hash){\n",
    "        console.log(\"(10) callback - sending ac0 -> ac1 hash: \"+hash);\n",
    "    });\n",
    "}\n",
    "doIt()"
   ]
  },
  {
   "cell_type": "code",
   "execution_count": 102,
   "id": "440f9142-a844-4a68-b528-036d2c908a00",
   "metadata": {},
   "outputs": [
    {
     "name": "stdout",
     "output_type": "stream",
     "text": [
      "(1) ac0: 0xF1BbBE5791D84ac2187b495709cD2F135379c5E4, ac1: 0xd77e1696E39d88d1F068e742E6F10ECCD5c98578\n",
      "(2) ac3: 0x3D502\n",
      "(3) bal Of ac0: 999997438113276237454, ac1: 1000000000000000051546\n",
      "(4) sending 0xF1BbBE5791D84ac2187b495709cD2F135379c5E4 --> 0xd77e1696E39d88d1F068e742E6F10ECCD5c98578 hash: 0x0d5542c8f4c1b504ee32125dc853a0376d5ceb7c8c05a5e6b1868ed0d0cce6e9\n",
      "(5) Sent to 0xd77e1696E39d88d1F068e742E6F10ECCD5c98578, hash: 0x0d5542c8f4c1b504ee32125dc853a0376d5ceb7c8c05a5e6b1868ed0d0cce6e9\n",
      "(6) gasUsed x gasPrice = wei 42000000000000\n",
      "(6) gasUsed x gasPrice = ether 0.000042\n",
      "(7) nonce: 47\n",
      "(8) bal diff: -1122\n",
      "sum: 0 adding 0 bal: 999997385573411054332\n",
      "sum: 999997385573411054332 adding 1 bal: 1000000000000000052668\n",
      "sum: 1999997385573411107000 adding 2 bal: 1000000000000000000000\n",
      "sum: 2999997385573411107000 adding 3 bal: 1000000000000000000000\n",
      "sum: 3999997385573411107000 adding 4 bal: 1000000000000000000000\n",
      "sum: 4999997385573411107000 adding 5 bal: 1000000000000000000000\n",
      "sum: 5999997385573411107000 adding 6 bal: 1000000000000000000000\n",
      "sum: 6999997385573411107000 adding 7 bal: 1000000000000000000000\n",
      "sum: 7999997385573411107000 adding 8 bal: 1000000000000000000000\n",
      "sum: 8999997385573411107000 adding 9 bal: 1000000000000000000000\n",
      "(9) balance total: 9999997385573411107000\n",
      "\u001b[33m21000\u001b[39m\n",
      "(10) callback - sending ac0 -> ac1 hash: undefined\n"
     ]
    },
    {
     "name": "stderr",
     "output_type": "stream",
     "text": [
      "C:\\Users\\CHOYS\\Code\\202010818\\node_modules\\web3-core-helpers\\lib\\errors.js:28\n",
      "        var err = new Error('Returned error: ' + message);\n",
      "                  ^\n",
      "\n",
      "Error: Returned error: intrinsic gas too low\n",
      "    at Object.ErrorResponse \u001b[90m(C:\\Users\\CHOYS\\Code\\202010818\\\u001b[39mnode_modules\\\u001b[4mweb3-core-helpers\u001b[24m\\lib\\errors.js:28:19\u001b[90m)\u001b[39m\n",
      "    at \u001b[90mC:\\Users\\CHOYS\\Code\\202010818\\\u001b[39mnode_modules\\\u001b[4mweb3-core-requestmanager\u001b[24m\\lib\\index.js:300:36\n",
      "    at \u001b[90mC:\\Users\\CHOYS\\Code\\202010818\\\u001b[39mnode_modules\\\u001b[4mweb3-providers-http\u001b[24m\\lib\\index.js:131:13\n",
      "\u001b[90m    at process.processTicksAndRejections (node:internal/process/task_queues:95:5)\u001b[39m {\n",
      "  data: \u001b[1mnull\u001b[22m\n",
      "}\n",
      "\n",
      "Node.js v20.12.2\n"
     ]
    }
   ],
   "source": [
    "!node src/Midterm.js"
   ]
  },
  {
   "cell_type": "code",
   "execution_count": null,
   "id": "7f41dc9d-ace4-48ff-a33b-51b34125043e",
   "metadata": {},
   "outputs": [],
   "source": []
  }
 ],
 "metadata": {
  "kernelspec": {
   "display_name": "Python 3 (ipykernel)",
   "language": "python",
   "name": "python3"
  },
  "language_info": {
   "codemirror_mode": {
    "name": "ipython",
    "version": 3
   },
   "file_extension": ".py",
   "mimetype": "text/x-python",
   "name": "python",
   "nbconvert_exporter": "python",
   "pygments_lexer": "ipython3",
   "version": "3.10.6"
  }
 },
 "nbformat": 4,
 "nbformat_minor": 5
}
