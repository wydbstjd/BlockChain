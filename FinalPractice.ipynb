{
 "cells": [
  {
   "cell_type": "code",
   "execution_count": 10,
   "id": "e6394e96-38d9-4c88-9946-647d2d21aa0d",
   "metadata": {},
   "outputs": [
    {
     "name": "stdout",
     "output_type": "stream",
     "text": [
      "Overwriting src/OrderContract2.sol\n"
     ]
    }
   ],
   "source": [
    "%%writefile src/OrderContract2.sol\n",
    "//SPDX-License-Identifier:GPL-3.0-or-later\n",
    "pragma solidity ^0.8.0;\n",
    "\n",
    "contract CustomerContract {\n",
    "    struct Customer {\n",
    "        uint id;\n",
    "        string name;\n",
    "        string phone;\n",
    "        string home;\n",
    "    }\n",
    "\n",
    "    mapping(address => Customer) customers;\n",
    "    mapping(uint => address) IdToAddr;\n",
    "    mapping(address => uint) Mileage;\n",
    "    mapping(address => uint) BalanceOf;\n",
    "\n",
    "    function addCustomer(uint _id, string memory _name, string memory _phone, string memory _home) public {\n",
    "        require(customers[tx.origin].id == 0);\n",
    "        require(IdToAddr[_id] == address(0));\n",
    "        customers[tx.origin] = Customer(_id, _name, _phone, _home);\n",
    "        IdToAddr[_id] = tx.origin;\n",
    "        BalanceOf[tx.origin] = (tx.origin).balance;\n",
    "    }\n",
    "    function withdrawMoney(uint _num) public payable {\n",
    "        BalanceOf[tx.origin] -= _num;\n",
    "    }\n",
    "    function refundMoney(uint _num) public payable {\n",
    "        BalanceOf[tx.origin] += _num;\n",
    "    }\n",
    "    function getHomeAddress(address _addr) public view returns(string memory) {\n",
    "        Customer memory c = customers[_addr];\n",
    "        return c.home;\n",
    "    }\n",
    "    function getId(address _addr) public view returns(uint) {\n",
    "        Customer memory c = customers[_addr];\n",
    "        return c.id;\n",
    "    }\n",
    "    function addMileage(uint _amount) public {\n",
    "        Mileage[tx.origin] += _amount;\n",
    "    }\n",
    "    function getMileage() public view returns(uint) {\n",
    "        return Mileage[tx.origin];\n",
    "    }\n",
    "    function refundMileage(uint _amount) public {\n",
    "        Mileage[tx.origin] -= _amount;\n",
    "    }\n",
    "}\n",
    "\n",
    "contract OrderContract {\n",
    "    struct Order {\n",
    "        uint id;\n",
    "        string productName;\n",
    "        uint amount;\n",
    "        uint cost;\n",
    "        uint timestamp;\n",
    "        string status;\n",
    "        string home;\n",
    "    }\n",
    "\n",
    "    mapping(address => Order) orders;\n",
    "    mapping(uint => address) IdToAddr;\n",
    "\n",
    "    address owner;\n",
    "    CustomerContract c;\n",
    "    uint OrderCount = 0;\n",
    "    uint TotalCost = 0;\n",
    "    uint[] OrderIds;\n",
    "    constructor() {\n",
    "        c = new CustomerContract();\n",
    "        owner = msg.sender;\n",
    "    }\n",
    "    function addCustomer(uint _id, string memory _name, string memory _phone, string memory _home) public {\n",
    "        c.addCustomer(_id, _name, _phone, _home);\n",
    "    }\n",
    "    function getHomeAddress(address _addr) public view returns(string memory) {\n",
    "        return c.getHomeAddress(_addr);\n",
    "    }\n",
    "    function addMileage(uint _amount) public {\n",
    "        c.addMileage(_amount);\n",
    "    }\n",
    "    function refundMileage(uint _amount) public {\n",
    "        c.refundMileage(_amount);\n",
    "    }\n",
    "    function withdrawMoney(uint _num) public payable {\n",
    "        c.withdrawMoney(_num);\n",
    "    }\n",
    "    function refundMoney(uint _num) public payable {\n",
    "        c.refundMoney(_num);\n",
    "    }\n",
    "    function placeOrder(uint _id, string memory _productName, uint _amount, uint _cost) public payable{\n",
    "        require(c.getId(tx.origin) != 0, \"Customer does not exist\");\n",
    "        require(orders[tx.origin].id == 0, \"Order ID already exists\");\n",
    "        require(msg.value == _cost);\n",
    "        \n",
    "        string memory _home = c.getHomeAddress(tx.origin);\n",
    "        orders[tx.origin] = Order(_id, _productName, _amount, _cost, block.timestamp, \"Ordered\", _home);\n",
    "        IdToAddr[_id] = tx.origin;\n",
    "\n",
    "        OrderCount += 1;\n",
    "        TotalCost += _cost;\n",
    "        OrderIds.push(_id);\n",
    "        withdrawMoney(_cost);\n",
    "        addMileage(_cost/100);\n",
    "        \n",
    "    }\n",
    "    function getStatus(uint _id) public view returns(string memory) {\n",
    "        Order memory o = orders[IdToAddr[_id]];\n",
    "        return o.status;\n",
    "    }\n",
    "    function updateStatus(uint _id, string memory _status) public {\n",
    "        require(IdToAddr[_id] == tx.origin);\n",
    "        orders[IdToAddr[_id]].status = _status;\n",
    "    }\n",
    "    function getOrderItem() public view returns(Order[] memory) {\n",
    "        Order[] memory allOrders = new Order[](OrderCount);\n",
    "        for(uint i=0; i<OrderCount; i++) {\n",
    "            allOrders[i] = orders[IdToAddr[OrderIds[i]]];\n",
    "        }\n",
    "        return allOrders;\n",
    "    }\n",
    "    function getOrderById(uint _id) public view returns(uint, string memory, string memory, string memory) {\n",
    "        Order memory o = orders[IdToAddr[_id]];\n",
    "        return (o.id, o.productName, o.status, o.home);\n",
    "    }\n",
    "    function getNOrder() public view returns(uint) {\n",
    "        return OrderCount;\n",
    "    }\n",
    "    function getTotalOrderAmount() public view returns(uint) {\n",
    "        return TotalCost;\n",
    "    }\n",
    "    function queryBalance() public view returns(uint) {\n",
    "        return address(this).balance;\n",
    "    }\n",
    "    function refund(uint _id) public {\n",
    "        require(orders[IdToAddr[_id]].id != 0);\n",
    "        OrderCount -= 1;\n",
    "        TotalCost -= orders[IdToAddr[_id]].cost;\n",
    "        orders[IdToAddr[_id]].status = \"Refunded\";\n",
    "        refundMileage(orders[IdToAddr[_id]].cost/100);\n",
    "        payable(owner).transfer(orders[IdToAddr[_id]].cost);\n",
    "    }\n",
    "}"
   ]
  },
  {
   "cell_type": "code",
   "execution_count": 11,
   "id": "318f1199-f67a-40d2-9486-7ee81099971f",
   "metadata": {},
   "outputs": [],
   "source": [
    "!solc-windows.exe --optimize --combined-json abi,bin src/OrderContract2.sol > src/OrderContract2.json"
   ]
  },
  {
   "cell_type": "code",
   "execution_count": 16,
   "id": "016fffd7-8718-4588-af44-2bbe15730ab8",
   "metadata": {},
   "outputs": [
    {
     "name": "stdout",
     "output_type": "stream",
     "text": [
      "Overwriting src/OrderContractDeploy.js\n"
     ]
    }
   ],
   "source": [
    "%%writefile src/OrderContractDeploy.js\n",
    "var Web3 = require('web3');\n",
    "var web3 = new Web3('http://localhost:8345');\n",
    "\n",
    "var _abiBinJson = require('./OrderContract2.json');\n",
    "var contractName = Object.keys(_abiBinJson.contracts);\n",
    "\n",
    "_abi = _abiBinJson.contracts[contractName[1]].abi;\n",
    "_bin = _abiBinJson.contracts[contractName[1]].bin;\n",
    "\n",
    "async function deploy() {\n",
    "    const accounts = await web3.eth.getAccounts();\n",
    "\n",
    "    await new web3.eth.Contract(_abi).deploy({data: \"0x\" + _bin}).estimateGas(function(err, gas) {\n",
    "        if(!err) console.log(\"gas: \" + gas);\n",
    "    })\n",
    "\n",
    "    var deployed = await new web3.eth.Contract(_abi)\n",
    "        .deploy({data: \"0x\" + _bin})\n",
    "        .send({from: accounts[0], gas:2000000}, function(err, transactionHash) {\n",
    "            if(!err) console.log(\"hash: \" + transactionHash);\n",
    "        });\n",
    "    console.log(\"The contract deployed to: \" + deployed.options.address);\n",
    "}\n",
    "deploy()"
   ]
  },
  {
   "cell_type": "code",
   "execution_count": 17,
   "id": "a09beb99-eb83-431c-bfda-5d5795974aa2",
   "metadata": {},
   "outputs": [
    {
     "name": "stdout",
     "output_type": "stream",
     "text": [
      "gas: 1912201\n",
      "hash: 0xa8ed6098760b139f9c27f5e6e3788e26e45c7a7f2b4a3f0fd881b7f2edffa102\n",
      "The contract deployed to: 0x0C30b3dc06eBf105B34bF040fd9b05d505B22238\n"
     ]
    }
   ],
   "source": [
    "!node src/OrderContractDeploy.js"
   ]
  },
  {
   "cell_type": "code",
   "execution_count": 18,
   "id": "84d978b2-82ff-4872-8878-7deaa53801da",
   "metadata": {},
   "outputs": [
    {
     "name": "stdout",
     "output_type": "stream",
     "text": [
      "Overwriting src/OrderContractUse.js\n"
     ]
    }
   ],
   "source": [
    "%%writefile src/OrderContractUse.js\n",
    "var Web3 = require('web3');\n",
    "var web3 = new Web3('http://localhost:8345');\n",
    "\n",
    "var _abiBinJson = require('./OrderContract2.json');\n",
    "var contractName = Object.keys(_abiBinJson.contracts);\n",
    "\n",
    "abi = _abiBinJson.contracts[contractName[1]].abi;\n",
    "addr = \"0x0C30b3dc06eBf105B34bF040fd9b05d505B22238\";\n",
    "order = new web3.eth.Contract(abi, addr);\n",
    "\n",
    "async function doIt() {\n",
    "    const accounts = await web3.eth.getAccounts();\n",
    "    console.log(\"acc1: \" + accounts[1] + \" bal1: \" + await web3.eth.getBalance(accounts[1]));\n",
    "    console.log(\"acc2: \" + accounts[2] + \" bal2: \" + await web3.eth.getBalance(accounts[2]));\n",
    "    console.log(\"acc3: \" + accounts[3] + \" bal3: \" + await web3.eth.getBalance(accounts[3]));\n",
    "\n",
    "    await order.methods.addCustomer(111, \"kim\", \"010-2017-1111\", \"111 hongji-dong jongro-gu seoul\").send({from: accounts[1], gas: 1622664});\n",
    "    await order.methods.addCustomer(112, \"lee\", \"010-2017-1112\", \"112 hongji-dong jongro-gu seoul\").send({from: accounts[2], gas: 1622664});\n",
    "    await order.methods.addCustomer(113, \"lim\", \"010-2017-1113\", \"113 hongji-dong jongro-gu seoul\").send({from: accounts[3], gas: 1622664});\n",
    "\n",
    "    await order.methods.getHomeAddress(accounts[1]).call().then(console.log);\n",
    "    await order.methods.getHomeAddress(accounts[2]).call().then(console.log);\n",
    "    await order.methods.getHomeAddress(accounts[3]).call().then(console.log);\n",
    "\n",
    "    await order.methods.placeOrder(555, \"T-Shirt\", 2, 1115).send({from: accounts[1], gas: 1622664, value:1115});\n",
    "    await order.methods.placeOrder(556, \"T-Shirt\", 3, 1116).send({from: accounts[2], gas: 1622664, value:1116});\n",
    "    await order.methods.placeOrder(557, \"T-Shirt\", 4, 1117).send({from: accounts[3], gas: 1622664, value:1117});\n",
    "\n",
    "    await order.methods.getNOrder().call().then(console.log);\n",
    "    await order.methods.getTotalOrderAmount().call().then(console.log);\n",
    "    await order.methods.queryBalance().call().then(console.log);\n",
    "\n",
    "    await order.methods.updateStatus(556, \"On delivery\").send({from: accounts[2], gas: 1622664});\n",
    "    await order.methods.getOrderItem().call().then(function (arr) {\n",
    "        for(i=0; i<arr.length; i++) {\n",
    "            console.log(arr[i].id, arr[i].productName, arr[i].status, arr[i].home);\n",
    "        }\n",
    "    });\n",
    "\n",
    "    await order.methods.refund(556).send({from: accounts[2], gas: 1622664});\n",
    "    await order.methods.getNOrder().call().then(console.log);\n",
    "    await order.methods.getTotalOrderAmount().call().then(console.log);\n",
    "    await order.methods.queryBalance().call().then(console.log);\n",
    "\n",
    "    await order.methods.getOrderItem().call().then(function (arr) {\n",
    "        for(i=0; i<arr.length; i++) {\n",
    "            console.log(arr[i].id, arr[i].productName, arr[i].status, arr[i].home);\n",
    "        }\n",
    "    });\n",
    "}\n",
    "doIt()"
   ]
  },
  {
   "cell_type": "code",
   "execution_count": 19,
   "id": "47a03bc2-d224-4ce2-b71c-cfbdbb930f71",
   "metadata": {},
   "outputs": [
    {
     "name": "stdout",
     "output_type": "stream",
     "text": [
      "acc1: 0xa9643989300947AC769B56E51E27fa8ec19fa399 bal1: 999982527284531624568\n",
      "acc2: 0x8aDEAe08913b985ddec97e6a50c7e89C2492BBbC bal2: 999983792758179461341\n",
      "acc3: 0x21189730f8dadC1D6453463589159D30f9715A47 bal3: 999985698290540751404\n",
      "111 hongji-dong jongro-gu seoul\n",
      "112 hongji-dong jongro-gu seoul\n",
      "113 hongji-dong jongro-gu seoul\n",
      "3\n",
      "3348\n",
      "3348\n",
      "555 T-Shirt Ordered 111 hongji-dong jongro-gu seoul\n",
      "556 T-Shirt On delivery 112 hongji-dong jongro-gu seoul\n",
      "557 T-Shirt Ordered 113 hongji-dong jongro-gu seoul\n",
      "2\n",
      "2232\n",
      "2232\n",
      "555 T-Shirt Ordered 111 hongji-dong jongro-gu seoul\n",
      "556 T-Shirt Refunded 112 hongji-dong jongro-gu seoul\n"
     ]
    }
   ],
   "source": [
    "!node src/OrderContractUse.js"
   ]
  },
  {
   "cell_type": "markdown",
   "id": "f426f16a-132f-489f-a73a-a4302558283f",
   "metadata": {},
   "source": [
    "# 가위바위보"
   ]
  },
  {
   "cell_type": "code",
   "execution_count": 1,
   "id": "980cdf00-3382-4a96-82ff-cef43104b609",
   "metadata": {},
   "outputs": [
    {
     "name": "stdout",
     "output_type": "stream",
     "text": [
      "Overwriting src/Rsp.sol\n"
     ]
    }
   ],
   "source": [
    "%%writefile src/Rsp.sol\n",
    "//SPDX-License-Identifier:GPL-3.0-or-later\n",
    "pragma solidity ^0.8.0;\n",
    "\n",
    "contract Rsp {\n",
    "    address owner;\n",
    "    address A;\n",
    "    address B;\n",
    "    uint result;\n",
    "\n",
    "    mapping(address => uint) AddToRsp;\n",
    "    mapping(address => uint) BalanceOf;\n",
    "    constructor() {\n",
    "        owner = msg.sender;\n",
    "    }\n",
    "    function setA() public payable {\n",
    "        A = tx.origin;\n",
    "        AddToRsp[A] = uint8(uint256(keccak256(abi.encodePacked(block.timestamp)))%3);\n",
    "        BalanceOf[A] = (A).balance;\n",
    "        require(msg.value == 1000);\n",
    "        BalanceOf[A] -= 1000;\n",
    "    }\n",
    "    function setB(uint8 user) public payable{\n",
    "        require(user >= 0 && user <= 2);\n",
    "        B = tx.origin;\n",
    "        AddToRsp[B] = user;\n",
    "        BalanceOf[B] = (B).balance;\n",
    "        require(msg.value == 1000);\n",
    "        BalanceOf[B] -= 1000;\n",
    "    }\n",
    "    function play() public {\n",
    "        if (AddToRsp[A] == AddToRsp[B]) {\n",
    "            result = 0; //비겼을 때\n",
    "        }\n",
    "        else if ((AddToRsp[A] == 0 && AddToRsp[B] == 1) || (AddToRsp[A] == 1 && AddToRsp[B] == 2) || (AddToRsp[A] == 2 && AddToRsp[B] == 0)) {\n",
    "            result = 1; // A가 이겼을 때\n",
    "        }\n",
    "        else {\n",
    "            result = 2; // B가 이겼을 때\n",
    "        }\n",
    "    }\n",
    "    function getMatchResult() public view returns(string memory){\n",
    "        if (result == 0) {\n",
    "            return \"tie\";\n",
    "        }\n",
    "        else if (result == 1) {\n",
    "            return \"A wins\";\n",
    "        }\n",
    "        else {\n",
    "            return \"B wins\";\n",
    "        }\n",
    "    }\n",
    "    function distributeBetAmount() public payable{\n",
    "        if (result == 1) {\n",
    "            payable(owner).transfer(2000);\n",
    "            BalanceOf[A] += 2000;\n",
    "        }\n",
    "        else if (result == 2) {\n",
    "            payable(owner).transfer(2000);\n",
    "            BalanceOf[B] += 2000;\n",
    "        }\n",
    "        else {\n",
    "            payable(owner).transfer(2000);\n",
    "        }\n",
    "    }\n",
    "    function gameresult() public view returns(uint, uint, uint) {\n",
    "        return (BalanceOf[A], BalanceOf[B], address(this).balance);\n",
    "    }\n",
    "}"
   ]
  },
  {
   "cell_type": "code",
   "execution_count": 2,
   "id": "21ac7fca-ab64-4d27-8007-8536103d1171",
   "metadata": {},
   "outputs": [],
   "source": [
    "!solc-windows.exe --optimize --combined-json abi,bin src/Rsp.sol > src/Rsp.json"
   ]
  },
  {
   "cell_type": "code",
   "execution_count": 3,
   "id": "319914ad-987f-41eb-95cc-0c9e2bfbeb18",
   "metadata": {},
   "outputs": [
    {
     "name": "stdout",
     "output_type": "stream",
     "text": [
      "Overwriting src/RspDeploy.js\n"
     ]
    }
   ],
   "source": [
    "%%writefile src/RspDeploy.js\n",
    "var Web3 = require('web3');\n",
    "var web3 = new Web3('http://localhost:8345');\n",
    "\n",
    "var _abiBinJson = require('./Rsp.json');\n",
    "var contractName = Object.keys(_abiBinJson.contracts);\n",
    "\n",
    "_abi = _abiBinJson.contracts[contractName].abi;\n",
    "_bin = _abiBinJson.contracts[contractName].bin;\n",
    "\n",
    "async function deploy() {\n",
    "    const accounts = await web3.eth.getAccounts();\n",
    "\n",
    "    await new web3.eth.Contract(_abi).deploy({data: \"0x\" + _bin}).estimateGas(function(err, gas) {\n",
    "        if(!err) console.log(\"gas: \" + gas);\n",
    "    })\n",
    "\n",
    "    var deployed = await new web3.eth.Contract(_abi)\n",
    "        .deploy({data: \"0x\" + _bin})\n",
    "        .send({from: accounts[0], gas:2000000}, function(err, transactionHash) {\n",
    "            if(!err) console.log(\"hash: \" + transactionHash);\n",
    "        });\n",
    "    console.log(\"The contract deployed to: \" + deployed.options.address);\n",
    "}\n",
    "deploy()"
   ]
  },
  {
   "cell_type": "code",
   "execution_count": 4,
   "id": "261d9852-b796-4847-abc9-25a371423f49",
   "metadata": {},
   "outputs": [
    {
     "name": "stdout",
     "output_type": "stream",
     "text": [
      "gas: 387899\n",
      "hash: 0x6c4275088d2b1aa1e607923b0f6158eb577803ccf96367bd0cee2eb2abf7c79b\n",
      "The contract deployed to: 0x4583932c8a147AD6Cf4D5Fc03471eBb6F421087b\n"
     ]
    }
   ],
   "source": [
    "!node src/RspDeploy.js"
   ]
  },
  {
   "cell_type": "code",
   "execution_count": 5,
   "id": "6a55e9fa-9d25-4302-9da5-5a47a545b44d",
   "metadata": {},
   "outputs": [
    {
     "name": "stdout",
     "output_type": "stream",
     "text": [
      "Overwriting src/RspUse.js\n"
     ]
    }
   ],
   "source": [
    "%%writefile src/RspUse.js\n",
    "var Web3 = require('web3');\n",
    "var web3 = new Web3('http://localhost:8345');\n",
    "\n",
    "var _abiBinJson = require('./Rsp.json');\n",
    "var contractName = Object.keys(_abiBinJson.contracts);\n",
    "\n",
    "abi = _abiBinJson.contracts[contractName].abi;\n",
    "addr = \"0x4583932c8a147AD6Cf4D5Fc03471eBb6F421087b\";\n",
    "\n",
    "rsp = new web3.eth.Contract(abi, addr);\n",
    "async function doIt() {\n",
    "    const accounts = await web3.eth.getAccounts();\n",
    "    \n",
    "    await rsp.methods.setA().send({from: accounts[1], value: 1000, gas:200000});\n",
    "    await rsp.methods.setB(2).send({from: accounts[2], value: 1000, gas:200000});\n",
    "    await rsp.methods.play().send({from: accounts[0], gas:200000});\n",
    "    await rsp.methods.gameresult().call().then(console.log);\n",
    "    await rsp.methods.getMatchResult().call().then(console.log);\n",
    "    await rsp.methods.distributeBetAmount().send({from: accounts[0], gas:200000});\n",
    "    await rsp.methods.gameresult().call().then(console.log);\n",
    "}\n",
    "doIt();"
   ]
  },
  {
   "cell_type": "code",
   "execution_count": 6,
   "id": "c4a83ed5-0a2f-4739-aac6-e381ecf862ce",
   "metadata": {},
   "outputs": [
    {
     "name": "stdout",
     "output_type": "stream",
     "text": [
      "Result {\n",
      "  \u001b[32m'0'\u001b[39m: \u001b[32m'999999346280292998000'\u001b[39m,\n",
      "  \u001b[32m'1'\u001b[39m: \u001b[32m'999999365407073598000'\u001b[39m,\n",
      "  \u001b[32m'2'\u001b[39m: \u001b[32m'2000'\u001b[39m\n",
      "}\n",
      "B wins\n",
      "Result {\n",
      "  \u001b[32m'0'\u001b[39m: \u001b[32m'999999346280292998000'\u001b[39m,\n",
      "  \u001b[32m'1'\u001b[39m: \u001b[32m'999999365407073600000'\u001b[39m,\n",
      "  \u001b[32m'2'\u001b[39m: \u001b[32m'0'\u001b[39m\n",
      "}\n"
     ]
    }
   ],
   "source": [
    "!node src/RspUse.js"
   ]
  },
  {
   "cell_type": "code",
   "execution_count": null,
   "id": "37b80373-83e4-46e9-9e1b-04fa32c1696d",
   "metadata": {},
   "outputs": [],
   "source": []
  }
 ],
 "metadata": {
  "kernelspec": {
   "display_name": "Python 3 (ipykernel)",
   "language": "python",
   "name": "python3"
  },
  "language_info": {
   "codemirror_mode": {
    "name": "ipython",
    "version": 3
   },
   "file_extension": ".py",
   "mimetype": "text/x-python",
   "name": "python",
   "nbconvert_exporter": "python",
   "pygments_lexer": "ipython3",
   "version": "3.10.6"
  }
 },
 "nbformat": 4,
 "nbformat_minor": 5
}
