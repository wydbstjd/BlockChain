{
 "cells": [
  {
   "cell_type": "code",
   "execution_count": 1,
   "id": "66ffdb1c-438f-4fa4-b512-beccb9090d49",
   "metadata": {},
   "outputs": [],
   "source": [
    "# 강의자료의 Greeter 컨트랙을 수정, 배포하고 API를 사용하는 프로그램을 작성하세요.\n",
    "\n",
    "# - Ganache에서 실행한다.\n",
    "\n",
    "# - Greeter 컨트랙은 counter를 가지도록 하여 (Counter를 참조하여 수정한다), greet() 할 경우 몇 회나 호출되었는지 추적한다.\n",
    "\n",
    "# - greet()를 호출하여 Hello를 출력하면서, 현재의 호출회수도 병기되도록 한다.\n",
    "\n",
    "# - 3회 greet()를 호출하여 counter가 증가하는지 확인하면서 출력한다."
   ]
  },
  {
   "cell_type": "code",
   "execution_count": 2,
   "id": "03059bdf-3cc3-4bcc-a9ec-717ef6b63bc7",
   "metadata": {},
   "outputs": [
    {
     "name": "stdout",
     "output_type": "stream",
     "text": [
      "Overwriting src/Greeter.sol\n"
     ]
    }
   ],
   "source": [
    "%%writefile src/Greeter.sol\n",
    "// SPDX-License-Identifier: GPL-3.0\n",
    "\n",
    "pragma solidity ^0.8.0;\n",
    "\n",
    "contract Greeter {\n",
    "    string greeting = \"Hello\";\n",
    "    uint256 counter = 0;\n",
    "\n",
    "    function greet() public returns (string memory, uint256) {\n",
    "        counter++;\n",
    "        return (greeting, counter);\n",
    "    }\n",
    "}"
   ]
  },
  {
   "cell_type": "code",
   "execution_count": 3,
   "id": "4568c182-4ffa-40fe-b9f5-fdef018a739a",
   "metadata": {},
   "outputs": [],
   "source": [
    "!solc-windows.exe --optimize --combined-json abi,bin src/Greeter.sol > src/Greeter.json"
   ]
  },
  {
   "cell_type": "code",
   "execution_count": 4,
   "id": "5f19996c-5595-4215-b424-bc8d13b7af0e",
   "metadata": {},
   "outputs": [
    {
     "name": "stdout",
     "output_type": "stream",
     "text": [
      "{\"contracts\":{\"src/Greeter.sol:Greeter\":{\"abi\":[{\"inputs\":[],\"name\":\"greet\",\"outputs\":[{\"internalType\":\"string\",\"name\":\"\",\"type\":\"string\"},{\"internalType\":\"uint256\",\"name\":\"\",\"type\":\"uint256\"}],\"stateMutability\":\"nonpayable\",\"type\":\"function\"}],\"bin\":\"60c0604052600560809081526448656c6c6f60d81b60a0525f9061002390826100d1565b505f600155348015610033575f80fd5b50610190565b634e487b7160e01b5f52604160045260245ffd5b600181811c9082168061006157607f821691505b60208210810361007f57634e487b7160e01b5f52602260045260245ffd5b50919050565b601f8211156100cc57805f5260205f20601f840160051c810160208510156100aa5750805b601f840160051c820191505b818110156100c9575f81556001016100b6565b50505b505050565b81516001600160401b038111156100ea576100ea610039565b6100fe816100f8845461004d565b84610085565b602080601f831160018114610131575f841561011a5750858301515b5f19600386901b1c1916600185901b178555610188565b5f85815260208120601f198616915b8281101561015f57888601518255948401946001909101908401610140565b508582101561017c57878501515f19600388901b60f8161c191681555b505060018460011b0185555b505050505050565b6101df8061019d5f395ff3fe608060405234801561000f575f80fd5b5060043610610029575f3560e01c8063cfae32171461002d575b5f80fd5b61003561004c565b6040516100439291906100fb565b60405180910390f35b600180546060915f9190826100608361014d565b91905055505f60015481805461007590610171565b80601f01602080910402602001604051908101604052809291908181526020018280546100a190610171565b80156100ec5780601f106100c3576101008083540402835291602001916100ec565b820191905f5260205f20905b8154815290600101906020018083116100cf57829003601f168201915b50505050509150915091509091565b604081525f83518060408401525f5b81811015610127576020818701810151606086840101520161010a565b505f606082850101526060601f19601f8301168401019150508260208301529392505050565b5f6001820161016a57634e487b7160e01b5f52601160045260245ffd5b5060010190565b600181811c9082168061018557607f821691505b6020821081036101a357634e487b7160e01b5f52602260045260245ffd5b5091905056fea2646970667358221220100f59b645f3bdf6ae6fa97c9c3925fa97c703f488b0244934f48fed978f552964736f6c63430008180033\"}},\"version\":\"0.8.24+commit.e11b9ed9.Windows.msvc\"}\n"
     ]
    }
   ],
   "source": [
    "!type src\\Greeter.json"
   ]
  },
  {
   "cell_type": "code",
   "execution_count": 5,
   "id": "75dc3427-81b8-4fea-9be1-2cc878048599",
   "metadata": {},
   "outputs": [
    {
     "name": "stdout",
     "output_type": "stream",
     "text": [
      "Overwriting src/GreeterDeployFromFile.js\n"
     ]
    }
   ],
   "source": [
    "%%writefile src/GreeterDeployFromFile.js\n",
    "var Web3 = require('web3');\n",
    "var web3 = new Web3('http://localhost:8345');\n",
    "\n",
    "_abiBinJson = require('./Greeter.json');\n",
    "contractName = Object.keys(_abiBinJson.contracts);\n",
    "_abi = _abiBinJson.contracts[contractName].abi;\n",
    "_bin = _abiBinJson.contracts[contractName].bin;\n",
    "\n",
    "async function deploy() {\n",
    "    const accounts = await web3.eth.getAccounts();\n",
    "    var deployed = await new web3.eth.Contract(_abi)\n",
    "        .deploy({data: '0x'+_bin})\n",
    "        .send({from: accounts[0], gas:364124})\n",
    "        .then(function(newContractInstance) {\n",
    "            console.log('address: ', newContractInstance.options.address);\n",
    "        });\n",
    "}\n",
    "\n",
    "deploy();"
   ]
  },
  {
   "cell_type": "code",
   "execution_count": 6,
   "id": "3113733a-efec-4afd-85c8-c399cdb30169",
   "metadata": {},
   "outputs": [
    {
     "name": "stdout",
     "output_type": "stream",
     "text": [
      "address:  0xCf966Bc401F63C48BA01805B764b1fbb7D12b028\n"
     ]
    }
   ],
   "source": [
    "!node src/GreeterDeployFromFile.js"
   ]
  },
  {
   "cell_type": "code",
   "execution_count": 7,
   "id": "fc02d9dc-6b79-4cef-aa4c-f940d101b1ad",
   "metadata": {},
   "outputs": [
    {
     "name": "stdout",
     "output_type": "stream",
     "text": [
      "Overwriting src/GreeterUseFromFile.js\n"
     ]
    }
   ],
   "source": [
    "%%writefile src/GreeterUseFromFile.js\n",
    "var Web3 = require('web3');\n",
    "var web3 = new Web3('http://localhost:8345');\n",
    "\n",
    "_abiBinJson = require('./Greeter.json');\n",
    "contractName = Object.keys(_abiBinJson.contracts);\n",
    "abi = _abiBinJson.contracts[contractName].abi;\n",
    "addr = '0xCf966Bc401F63C48BA01805B764b1fbb7D12b028';\n",
    "\n",
    "var greeter = new web3.eth.Contract(abi, addr);\n",
    "\n",
    "async function doIt() {\n",
    "    const accounts = await web3.eth.getAccounts();\n",
    "\n",
    "    //await greeter.methods.greet().send({from: accounts[0], gas:100000});\n",
    "\n",
    "    await greeter.methods.greet().call().then(function(result) {console.log(result[0], result[1])});\n",
    "    await greeter.methods.greet().call().then(function(result) {console.log(result[0], result[1])});\n",
    "    await greeter.methods.greet().call().then(function(result) {console.log(result[0], result[1])});\n",
    "}\n",
    "doIt();"
   ]
  },
  {
   "cell_type": "code",
   "execution_count": 8,
   "id": "a6539871-7117-49a8-9e53-74144eb2bc4f",
   "metadata": {},
   "outputs": [
    {
     "name": "stdout",
     "output_type": "stream",
     "text": [
      "Hello 1\n",
      "Hello 1\n",
      "Hello 1\n"
     ]
    }
   ],
   "source": [
    "!node src/GreeterUseFromFile.js"
   ]
  },
  {
   "cell_type": "code",
   "execution_count": 9,
   "id": "0d458f3f-be96-4b11-94ad-c514997b6295",
   "metadata": {},
   "outputs": [],
   "source": [
    "# 위의 결과를 보면 호출해도 counter가 증가하지 않는 것을 볼 수 있다.\n",
    "# 이유는 call()함수는 컨트랙의 상태를 변경하지 않고 호출하는 함수이므로 값을 증가시키지 않기 때문이다.\n",
    "# 만약 값을 증가시키려면 send() 함수를 이용해야 한다."
   ]
  },
  {
   "cell_type": "code",
   "execution_count": 10,
   "id": "540b50ad-e19d-444e-a30c-c65f0b47b938",
   "metadata": {},
   "outputs": [
    {
     "name": "stdout",
     "output_type": "stream",
     "text": [
      "Overwriting src/GreeterUseFromFile.js\n"
     ]
    }
   ],
   "source": [
    "%%writefile src/GreeterUseFromFile.js\n",
    "var Web3 = require('web3');\n",
    "var web3 = new Web3('http://localhost:8345');\n",
    "\n",
    "_abiBinJson = require('./Greeter.json');\n",
    "contractName = Object.keys(_abiBinJson.contracts);\n",
    "abi = _abiBinJson.contracts[contractName].abi;\n",
    "addr = '0xCf966Bc401F63C48BA01805B764b1fbb7D12b028';\n",
    "\n",
    "var greeter = new web3.eth.Contract(abi, addr);\n",
    "\n",
    "async function doIt() {\n",
    "    const accounts = await web3.eth.getAccounts();\n",
    "\n",
    "    await greeter.methods.greet().send({from: accounts[0], gas:100000});\n",
    "    await greeter.methods.greet().send({from: accounts[0], gas:100000});\n",
    "    await greeter.methods.greet().send({from: accounts[0], gas:100000});\n",
    "    await greeter.methods.greet().call().then(function(result) {console.log(result[0], result[1])});\n",
    "}\n",
    "doIt();"
   ]
  },
  {
   "cell_type": "code",
   "execution_count": 11,
   "id": "9b987890-8f24-4713-81ce-74fc5487731c",
   "metadata": {},
   "outputs": [
    {
     "name": "stdout",
     "output_type": "stream",
     "text": [
      "Hello 4\n"
     ]
    }
   ],
   "source": [
    "!node src/GreeterUseFromFile.js"
   ]
  },
  {
   "cell_type": "code",
   "execution_count": 12,
   "id": "c4472830-af6d-4343-9d53-e4ee50a3a2d1",
   "metadata": {},
   "outputs": [],
   "source": [
    "# send()함수가 3번 실행되고 call() 함수가 1번 실행되면서 4가 출력된 것을 볼 수 있다."
   ]
  },
  {
   "cell_type": "code",
   "execution_count": null,
   "id": "3465d87d-30c7-4b88-90bd-dd188db8351d",
   "metadata": {},
   "outputs": [],
   "source": []
  }
 ],
 "metadata": {
  "kernelspec": {
   "display_name": "Python 3 (ipykernel)",
   "language": "python",
   "name": "python3"
  },
  "language_info": {
   "codemirror_mode": {
    "name": "ipython",
    "version": 3
   },
   "file_extension": ".py",
   "mimetype": "text/x-python",
   "name": "python",
   "nbconvert_exporter": "python",
   "pygments_lexer": "ipython3",
   "version": "3.10.6"
  }
 },
 "nbformat": 4,
 "nbformat_minor": 5
}
