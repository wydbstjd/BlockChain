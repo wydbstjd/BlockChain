{
 "cells": [
  {
   "cell_type": "code",
   "execution_count": 1,
   "id": "76831398-c4a0-49ff-98be-e844cf3286bc",
   "metadata": {},
   "outputs": [
    {
     "name": "stdout",
     "output_type": "stream",
     "text": [
      "Writing _genesis.json\n"
     ]
    }
   ],
   "source": [
    "%%writefile _genesis.json\n",
    "{\n",
    "  \"config\": {\n",
    "    \"chainId\": 412,\n",
    "    \"homesteadBlock\": 0,\n",
    "    \"eip150Block\": 0,\n",
    "    \"eip155Block\": 0,\n",
    "    \"eip158Block\": 0,\n",
    "    \"byzantiumBlock\": 0,\n",
    "    \"constantinopleBlock\": 0,\n",
    "    \"petersburgBlock\": 0\n",
    "  },\n",
    "  \"nonce\": \"0x0000000000000033\",\n",
    "  \"timestamp\": \"0x0\",\n",
    "  \"parentHash\": \"0x0000000000000000000000000000000000000000000000000000000000000000\",\n",
    "  \"gasLimit\": \"0x8000000\",\n",
    "  \"difficulty\": \"0x100\",\n",
    "  \"mixhash\": \"0x0000000000000000000000000000000000000000000000000000000000000000\",\n",
    "  \"coinbase\": \"0x3333333333333333333333333333333333333333\",\n",
    "  \"alloc\": {}\n",
    "}"
   ]
  },
  {
   "cell_type": "code",
   "execution_count": 2,
   "id": "c71604c7-fcd4-4768-817b-0ec4632151c5",
   "metadata": {},
   "outputs": [
    {
     "name": "stdout",
     "output_type": "stream",
     "text": [
      "Writing _gethNow.bat\n"
     ]
    }
   ],
   "source": [
    "%%writefile _gethNow.bat\n",
    "geth --identity \"jsl\" --allow-insecure-unlock --unlock 0 --datadir .\\eth --ws --ws.port 8446 --ws.origins \"*\" --http --http.addr \"localhost\" --http.port \"8445\" --http.corsdomain \"*\" --http.api \"admin, db, eth, debug, miner, net, shh, txpool, personal, web3\" --port \"38445\" --networkid 33"
   ]
  },
  {
   "cell_type": "code",
   "execution_count": 1,
   "id": "e186f129-40d8-4c6a-a2e4-35230142b424",
   "metadata": {},
   "outputs": [
    {
     "name": "stdout",
     "output_type": "stream",
     "text": [
      "Writing src/ethCommands.js\n"
     ]
    }
   ],
   "source": [
    "%%writefile src/ethCommands.js\n",
    "\n",
    "var primary = eth.accounts[0];\n",
    "var bal = eth.getBalance(primary);;\n",
    "\n",
    "console.log('balance in Wei: ', bal);\n",
    "console.log('balance in ether: ', web3.fromWei(bal, 'ether'));\n",
    "console.log('blocknumber: ', eth.blockNumber);\n",
    "console.log('coinbase: ', eth.coinbase);"
   ]
  },
  {
   "cell_type": "code",
   "execution_count": 3,
   "id": "cb184a71-dcf6-45c9-9e40-553e9e5f2b7b",
   "metadata": {},
   "outputs": [
    {
     "name": "stdout",
     "output_type": "stream",
     "text": [
      "balance in Wei:  120000000000000000000\n",
      "balance in ether:  120\n",
      "blocknumber:  60\n",
      "coinbase:  0xd888207069c6c7652768216b26db265b07641e74\n",
      "null\n"
     ]
    },
    {
     "name": "stderr",
     "output_type": "stream",
     "text": [
      "WARN [04-14|14:52:49.241] Enabling deprecated personal namespace \n"
     ]
    }
   ],
   "source": [
    "!geth --exec \"loadScript('src/ethCommands.js')\" attach http://localhost:8445"
   ]
  },
  {
   "cell_type": "code",
   "execution_count": 8,
   "id": "d271da6a-0ef3-4a0f-bf08-5a253b9a11db",
   "metadata": {},
   "outputs": [
    {
     "name": "stdout",
     "output_type": "stream",
     "text": [
      "3e295c8dc78fb7f3865067dfc42fe845263db7661296e7e32e3a37baa1a27a7b\n"
     ]
    }
   ],
   "source": [
    "import bitcoin\n",
    "privKey = bitcoin.sha256('hello key')\n",
    "print(privKey)"
   ]
  },
  {
   "cell_type": "code",
   "execution_count": 57,
   "id": "b6f1307b-6abd-4ab0-97b1-76e9c756390a",
   "metadata": {},
   "outputs": [
    {
     "name": "stdout",
     "output_type": "stream",
     "text": [
      "3e295c8dc78fb7f3865067dfc42fe845263db7661296e7e32e3a37baa1a27a7b\n"
     ]
    }
   ],
   "source": [
    "import hashlib\n",
    "x = hashlib.sha256('hello key'.encode('utf-8')).hexdigest()\n",
    "print(x)"
   ]
  },
  {
   "cell_type": "code",
   "execution_count": 14,
   "id": "dbdd9db5-5660-481e-8c14-b28ebb965614",
   "metadata": {},
   "outputs": [
    {
     "name": "stdout",
     "output_type": "stream",
     "text": [
      "04f6cc26cec156c180f8a215cf54db7799d0d42179f1e0b628cf364f09da95f17d5aab7edeeb1f529137a241d07cec555b2d8ec44a4cd24e87cf98001d428f564f\n",
      "130\n"
     ]
    }
   ],
   "source": [
    "pubKey = bitcoin.privtopub(privKey)\n",
    "print(pubKey)\n",
    "print(len(pubKey))"
   ]
  },
  {
   "cell_type": "code",
   "execution_count": 16,
   "id": "3cd9f4b3-25f7-4edf-aecb-974bb7d41366",
   "metadata": {},
   "outputs": [
    {
     "name": "stdout",
     "output_type": "stream",
     "text": [
      "1NthZ9kJVbtxrHQiocfjLLTcMH3F2DLcgD\n"
     ]
    },
    {
     "data": {
      "text/plain": [
       "34"
      ]
     },
     "execution_count": 16,
     "metadata": {},
     "output_type": "execute_result"
    }
   ],
   "source": [
    "addr = bitcoin.pubtoaddr(pubKey)\n",
    "print(addr)\n",
    "len(addr)"
   ]
  },
  {
   "cell_type": "code",
   "execution_count": 20,
   "id": "22da03b8-37ea-4e7f-8d3b-8be699bc43bb",
   "metadata": {},
   "outputs": [
    {
     "name": "stdout",
     "output_type": "stream",
     "text": [
      "e519e9540ff8a84d732c6f6e8db424d9abf4125078130221763fa573067a9059\n"
     ]
    },
    {
     "data": {
      "text/plain": [
       "64"
      ]
     },
     "execution_count": 20,
     "metadata": {},
     "output_type": "execute_result"
    }
   ],
   "source": [
    "import hashlib\n",
    "a = hashlib.sha256('hello  world'.encode('utf-8')).hexdigest()\n",
    "print(a)\n",
    "len(a)"
   ]
  },
  {
   "cell_type": "code",
   "execution_count": 28,
   "id": "637cdd44-c9be-44a9-91e0-f000fb855086",
   "metadata": {},
   "outputs": [
    {
     "name": "stdout",
     "output_type": "stream",
     "text": [
      "signature:  Gxg7F5VjSyguXWt0TGKt5op0iQZVDK22Pa1aumPpC5gRbhc1iAPdAK4p+MZNRbQcFz8BTvljoT9YYv88pTZvw30=\n",
      "verified:  True\n",
      "verified:  False\n",
      "pubkey:  04f6cc26cec156c180f8a215cf54db7799d0d42179f1e0b628cf364f09da95f17d5aab7edeeb1f529137a241d07cec555b2d8ec44a4cd24e87cf98001d428f564f\n"
     ]
    }
   ],
   "source": [
    "import bitcoin\n",
    "privKey = bitcoin.sha256('hello key')\n",
    "pubKey = bitcoin.privtopub(privKey)\n",
    "addr = bitcoin.pubtoaddr(pubKey)\n",
    "\n",
    "msg=\"let's meet in my office at 10 in the morning.\"\n",
    "\n",
    "#송신측에서는 메시지를 개인키로 사인을 해서 보낸다\n",
    "sig = bitcoin.ecdsa_sign(msg, privKey)\n",
    "print(\"signature: \",sig)\n",
    "\n",
    "#수신측에서는 공개키로 그 메시지를 검증해서 원본임을 확인하게 된다\n",
    "print(\"verified: \", bitcoin.ecdsa_verify(msg, sig, pubKey))\n",
    "\n",
    "#누군가 10시 약속을 위조하여 12시로 변경한 후 공개키로 검증해보자\n",
    "msg1=\"let's meet in my office at 12 in the morning.\"\n",
    "print(\"verified: \", bitcoin.ecdsa_verify(msg1, sig, pubKey))\n",
    "\n",
    "#공개키 구하는 법\n",
    "print(\"pubkey: \", bitcoin.ecdsa_recover(msg, sig))\n",
    "\n",
    "# signature:  Gxg7F5VjSyguXWt0TGKt5op0iQZVDK22Pa1aumPpC5gRbhc1iAPdAK4p+MZNRbQcFz8BTvljoT9YYv88pTZvw30=\n",
    "# verified:  True\n",
    "# verified:  False\n",
    "# pubkey:  04f6cc26cec156c180f8a215cf54db7799d0d42179f1e0b628cf364f09da95f17d5aab7edeeb1f529137a241d07cec555b2d8ec44a4cd24e87cf98001d428f564f"
   ]
  },
  {
   "cell_type": "code",
   "execution_count": 30,
   "id": "1b7a90ae-8fe2-47be-b257-f38a50d59b92",
   "metadata": {},
   "outputs": [
    {
     "data": {
      "image/png": "[encoded data removed]",
      "text/plain": [
       "<Figure size 640x480 with 1 Axes>"
      ]
     },
     "metadata": {},
     "output_type": "display_data"
    }
   ],
   "source": [
    "import numpy as np\n",
    "import matplotlib.pylab as pl\n",
    "\n",
    "def f(x):\n",
    "    return x**3 -3*x + 4\n",
    "\n",
    "xa = np.mgrid[-10:10:50j] # -10 ~ 10사이의 복소수 50개의 배열을 생성\n",
    "y = list()\n",
    "x = list()\n",
    "for i in range(0, len(xa)):\n",
    "    _x = xa.ravel()[i]    # 1차원배열로 변환후, 인덱스 순서대로 선택\n",
    "    _y = f(_x)\n",
    "    if _y > 0:\n",
    "        y.append(np.sqrt(_y))\n",
    "        x.append(_x)\n",
    "\n",
    "pl.plot(x, y, \"-\")\n",
    "pl.plot(x, [-yi for yi in y], \"-\")\n",
    "pl.show()"
   ]
  },
  {
   "cell_type": "code",
   "execution_count": 31,
   "id": "38c2106f-5a31-43de-815f-0563f3f8126d",
   "metadata": {},
   "outputs": [
    {
     "name": "stdout",
     "output_type": "stream",
     "text": [
      "29 -3 4\n"
     ]
    }
   ],
   "source": [
    "import pycoin.ecdsa as ecdsa\n",
    "\n",
    "e = ecdsa.ellipticcurve.CurveFp(29,-3,4)\n",
    "print(e.p(), e.a(), e.b())"
   ]
  },
  {
   "cell_type": "code",
   "execution_count": 32,
   "id": "e35d9e04-e6a0-49a5-87a2-a7a7754fa6b6",
   "metadata": {},
   "outputs": [
    {
     "name": "stdout",
     "output_type": "stream",
     "text": [
      "should be True (on curve) ->  True\n",
      "should be True (on curve) ->  True\n",
      "Should be False (not on curve) ->  False\n"
     ]
    }
   ],
   "source": [
    "print(\"should be True (on curve) -> \", e.contains_point(0,2))\n",
    "print(\"should be True (on curve) -> \", e.contains_point(22,1))\n",
    "print(\"Should be False (not on curve) -> \", e.contains_point(22,3))"
   ]
  },
  {
   "cell_type": "code",
   "execution_count": 34,
   "id": "2db8300f-36d3-4aae-8297-09025e834b5e",
   "metadata": {},
   "outputs": [
    {
     "name": "stdout",
     "output_type": "stream",
     "text": [
      "The generator point (0,2)\n",
      "1 (0,2)\n",
      "2 (6,17)\n",
      "3 (22,1)\n",
      "4 (23,3)\n",
      "5 (2,8)\n",
      "6 (7,6)\n",
      "7 (17,9)\n",
      "8 (21,3)\n",
      "9 (13,25)\n",
      "10 (3,15)\n",
      "11 (19,22)\n",
      "12 (14,26)\n",
      "13 (28,8)\n",
      "14 (8,17)\n",
      "15 (15,17)\n",
      "16 (15,12)\n",
      "17 (8,12)\n",
      "18 (28,21)\n",
      "19 (14,3)\n",
      "20 (19,7)\n",
      "21 (3,14)\n",
      "22 (13,4)\n",
      "23 (21,26)\n",
      "24 (17,20)\n",
      "25 (7,23)\n",
      "26 (2,21)\n",
      "27 (23,26)\n",
      "28 (22,28)\n",
      "29 (6,12)\n",
      "30 (0,27)\n"
     ]
    },
    {
     "data": {
      "image/png": "[encoded data removed]",
      "text/plain": [
       "<Figure size 640x480 with 1 Axes>"
      ]
     },
     "metadata": {},
     "output_type": "display_data"
    }
   ],
   "source": [
    "G=ecdsa.Point(e,0,2)\n",
    "print(\"The generator point\", G)\n",
    "for k in range(1,31):\n",
    "   print(k, str(k*G))\n",
    "   P=k*G\n",
    "   plt.scatter(P.x(),P.y())\n",
    "   plt.text(P.x(),P.y(),str(P))\n",
    "\n",
    "plt.xlabel('x')\n",
    "plt.ylabel('y')\n",
    "plt.show()"
   ]
  },
  {
   "cell_type": "code",
   "execution_count": 35,
   "id": "bc27defa-0555-44b1-ae60-133fbc4a6b46",
   "metadata": {},
   "outputs": [
    {
     "name": "stdout",
     "output_type": "stream",
     "text": [
      "4508332633520972401680970795483461372085408064557378648575352787964576829113\n",
      "0x9f7a0375604a0ae7d12a7ddec6bbb075563d786850aebd4bd81b95dde3e8eb9\n",
      "(92168875276011233774034116229820055716831085325678578550460741542679785230453, 103909432248661731144237467610673604223820020115816081937365085874404984459661)\n"
     ]
    }
   ],
   "source": [
    "import secrets\n",
    "import pycoin.ecdsa as ecdsa\n",
    "\n",
    "privKey = secrets.randbelow(ecdsa.generator_secp256k1.order())\n",
    "print(privKey)\n",
    "print(hex(privKey))\n",
    "\n",
    "pubKey = (ecdsa.generator_secp256k1 * privKey).pair()\n",
    "print(pubKey)\n"
   ]
  },
  {
   "cell_type": "code",
   "execution_count": 37,
   "id": "1c068051-beca-4ae8-82f0-08d436067c4a",
   "metadata": {},
   "outputs": [
    {
     "name": "stdout",
     "output_type": "stream",
     "text": [
      "(114542256669791235823111643896087280159274177623775365517866072481535800773403, 62402385417270587435213183941407556356501953135810621667125516403285400628515)\n",
      "True\n"
     ]
    }
   ],
   "source": [
    "import hashlib\n",
    "import codecs\n",
    "\n",
    "msg=\"let's meet in my office at 10 in the morning.\"\n",
    "hashBytes = hashlib.sha3_256(msg.encode('utf-8')).digest()\n",
    "msgHash = int.from_bytes(hashBytes, byteorder='big')\n",
    "signature = ecdsa.sign(ecdsa.generator_secp256k1, privKey, msgHash)\n",
    "print(signature)\n",
    "\n",
    "valid = ecdsa.verify(ecdsa.generator_secp256k1, pubKey, msgHash, signature)\n",
    "print(valid)"
   ]
  },
  {
   "cell_type": "code",
   "execution_count": 75,
   "id": "1e82aa9c-35c9-4d93-aafc-87aa1c4d95c6",
   "metadata": {},
   "outputs": [
    {
     "name": "stdout",
     "output_type": "stream",
     "text": [
      "Overwriting exercise1.js\n"
     ]
    }
   ],
   "source": [
    "%%writefile exercise1.js\n",
    "\n",
    "console.log('blocknumber: ', eth.blockNumber);\n",
    "console.log('enode: ', admin.nodeInfo['enode']);\n",
    "console.log('peer: ',JSON.stringify(admin.peers));\n",
    "console.log('account: ', eth.accounts);\n",
    "console.log('balance: ', eth.getBalance(eth.accounts[0]), eth.getBalance(eth.accounts[1]));\n",
    "console.log('before coinbase: ', eth.coinbase)\n",
    "miner.setEtherbase(eth.accounts[1])\n",
    "console.log('after coinbase: ', eth.coinbase)\n",
    "console.log(JSON.stringify(txpool.inspect))\n",
    "console.log('blocknumber: ', eth.blockNumber);"
   ]
  },
  {
   "cell_type": "code",
   "execution_count": 76,
   "id": "a73e4eb1-f2bd-441f-b5cf-f81cb52b085d",
   "metadata": {},
   "outputs": [
    {
     "name": "stdout",
     "output_type": "stream",
     "text": [
      "blocknumber:  60\n",
      "enode:  enode://bce3797998420c004b9cce8cf8fc5b68348f32a9c33ac30ae191144af885a55c6809c08332df0b0a214b1297b8c600292899a275e1ad036d74bd7d03a5d987df@121.128.117.17:38445\n",
      "peer:  [{\"enode\":\"enode://a72d06c3b92b20611baf66546ee5fffeb0a91d39cdd6dbc1749998045361f4c2d68ab9fce466972afb3e427c23c69b89778232e1b01030f9b60ab622f67ef449@79.127.216.33:30303?discport=30345\",\"id\":\"0ec739d6d694c0bdea175e2e512d2530d23aa0ea878b67cc08ae5503753cceb6\",\"name\":\"bor/v1.2.7/linux-amd64/go1.20.14\",\"caps\":[\"eth/66\",\"eth/67\",\"eth/68\",\"snap/1\"],\"network\":{\"localAddress\":\"121.128.117.17:59288\",\"remoteAddress\":\"79.127.216.33:30303\",\"inbound\":false,\"trusted\":false,\"static\":false},\"protocols\":{\"eth\":\"handshake\",\"snap\":\"handshake\"}}]\n",
      "account:  0xd888207069c6c7652768216b26db265b07641e74,0x63c7a0a688fe02db193e8eef0649c5919dcea6de\n",
      "balance:  120000000000000000000 0\n",
      "before coinbase:  0x63c7a0a688fe02db193e8eef0649c5919dcea6de\n",
      "after coinbase:  0x63c7a0a688fe02db193e8eef0649c5919dcea6de\n",
      "{\"pending\":{},\"queued\":{}}\n",
      "blocknumber:  60\n",
      "null\n"
     ]
    }
   ],
   "source": [
    "!geth --exec \"loadScript('exercise1.js')\" attach http://localhost:8445"
   ]
  },
  {
   "cell_type": "code",
   "execution_count": 95,
   "id": "f362c9e6-61d0-4829-91c9-97508730485f",
   "metadata": {},
   "outputs": [
    {
     "name": "stdout",
     "output_type": "stream",
     "text": [
      "hash:  1bb1de8e7722d2d8af05c6356c9f6f0846e7bc68d4ab1de49e4ffa994308769e\n",
      "f_hash:  bb2103f4a1230e5a1b198f845da9f32c7a82f8e730c88c220cebef677d7317a9\n",
      "same byte?:  True\n",
      "signature:  Gz7wmdHyXgNmnOOKaYU82P4xnLgfCd3AlZ14lkq8DiP5WhjtmFHppQD6kintizMXR7XvNr6VzUon0iOsJgiNjgk=\n",
      "verified:  True\n",
      "verified:  False\n"
     ]
    }
   ],
   "source": [
    "import bitcoin, hashlib\n",
    "\n",
    "privKey = bitcoin.sha256('hello key')\n",
    "pubKey = bitcoin.privtopub(privKey)\n",
    "addr = bitcoin.pubtoaddr(pubKey)\n",
    "\n",
    "msg = \"The Japanese acted without the consent of his Majesty the Emperor of Korea.\"\n",
    "f_msg = \"The Japanese acted with the consent of his Majesty the Emperor of Korea.\"\n",
    "\n",
    "sha = hashlib.sha256(msg.encode('UTF-8'))\n",
    "f_sha = hashlib.sha256(f_msg.encode('utf-8'))\n",
    "print('hash: ', sha.hexdigest())\n",
    "print('f_hash: ', f_sha.hexdigest())\n",
    "print('same byte?: ', sha.digest_size==f_sha.digest_size)\n",
    "\n",
    "sig = bitcoin.ecdsa_sign(msg, privKey)\n",
    "print('signature: ', sig)\n",
    "print('verified: ', bitcoin.ecdsa_verify(msg, sig, pubKey))\n",
    "f_sig = bitcoin.ecdsa_sign(f_msg, privKey)\n",
    "print('verified: ', bitcoin.ecdsa_verify(msg, f_sig, pubKey))"
   ]
  },
  {
   "cell_type": "code",
   "execution_count": 104,
   "id": "18347bca-32c2-4b8e-9755-8b2e115f5dfd",
   "metadata": {},
   "outputs": [
    {
     "name": "stdout",
     "output_type": "stream",
     "text": [
      "Overwriting mining.js\n"
     ]
    }
   ],
   "source": [
    "%%writefile mining.js\n",
    "console.log(eth.coinbase);\n",
    "console.log(eth.getBalance(eth.coinbase));\n",
    "miner.start(1); admin.sleepBlocks(1); miner.stop()\n",
    "console.log(eth.getBalance(eth.coinbase));"
   ]
  },
  {
   "cell_type": "code",
   "execution_count": 105,
   "id": "bc204083-44b3-40c3-aa61-b501b38fe32f",
   "metadata": {},
   "outputs": [
    {
     "name": "stdout",
     "output_type": "stream",
     "text": [
      "0xd888207069c6c7652768216b26db265b07641e74\n",
      "120000000000000000000\n",
      "122000000000000000000\n",
      "null\n"
     ]
    }
   ],
   "source": [
    "!geth --exec \"loadScript('mining.js')\" attach http://localhost:8445"
   ]
  },
  {
   "cell_type": "code",
   "execution_count": 13,
   "id": "9d958dd5-69d5-473f-a1b2-6006daa4171c",
   "metadata": {},
   "outputs": [
    {
     "name": "stdout",
     "output_type": "stream",
     "text": [
      "1c86253061adcef153466e06b4770da683a590dbf895192db766aef5be18bc70\n",
      "d0e7719d7633fb945d596090dfa31a95ae81b18d90352d63fc49af7f35ce2710\n"
     ]
    }
   ],
   "source": [
    "import hashlib\n",
    "\n",
    "txA = \"Hello\"\n",
    "txB = 'How are you?'\n",
    "txC = 'This is Thursday'\n",
    "txD = 'Happy new Year'\n",
    "\n",
    "_hashA = hashlib.sha256(hashlib.sha256(txA.encode()).digest()).hexdigest()\n",
    "_hashB = hashlib.sha256(hashlib.sha256(txB.encode()).digest()).hexdigest()\n",
    "\n",
    "# print(_hashA)\n",
    "\n",
    "hashAswap = \"\".join(reversed([_hashA[i:i+2] for i in range(0, hashlib.sha256(txA.encode()).digest_size * 2, 2)]))\n",
    "hashBswap = \"\".join(reversed([_hashB[i:i+2] for i in range(0, hashlib.sha256(txB.encode()).digest_size * 2, 2)]))\n",
    "\n",
    "print(hashAswap)\n",
    "print(hashBswap)"
   ]
  },
  {
   "cell_type": "code",
   "execution_count": 15,
   "id": "a023e44b-7151-47d9-aeec-b92afe992057",
   "metadata": {},
   "outputs": [
    {
     "data": {
      "text/plain": [
       "'032916ba0fc9c63fc5440a3b20069370da1b5d3c605797b28ac1a5a5876dc7e0'"
      ]
     },
     "execution_count": 15,
     "metadata": {},
     "output_type": "execute_result"
    }
   ],
   "source": [
    "hashAB=hashAswap+hashBswap\n",
    "_hashAB = hashlib.sha256(hashlib.sha256(hashAB.encode()).digest()).hexdigest()\n",
    "\n",
    "\"\".join(reversed([_hashAB[i:i+2] for i in range(0, 32*2, 2)]))"
   ]
  },
  {
   "cell_type": "code",
   "execution_count": 16,
   "id": "c8a392ab-98f1-4ae7-bfed-f06de7111f61",
   "metadata": {},
   "outputs": [
    {
     "name": "stdout",
     "output_type": "stream",
     "text": [
      "hashA: 83a590dbf895192db766aef5be18bc70\n",
      "hashB: ae81b18d90352d63fc49af7f35ce2710\n",
      "hashAB: 074fa582b6de5ba17faf8593a6f0520c\n"
     ]
    }
   ],
   "source": [
    "def doubleHashByteSwap(raw):\n",
    "    import hashlib\n",
    "    size = hashlib.sha256(raw.encode()).digest_size\n",
    "    _hash = hashlib.sha256(hashlib.sha256(raw.encode()).digest()).hexdigest()\n",
    "    hashSwap = \"\".join(reversed([_hash[i:i+2] for i in range(0, size, 2)]))\n",
    "    return hashSwap\n",
    "\n",
    "hA = doubleHashByteSwap(txA)\n",
    "hB = doubleHashByteSwap(txB)\n",
    "hAB = doubleHashByteSwap(hA + hB)\n",
    "\n",
    "print(\"hashA: {0}\\nhashB: {1}\\nhashAB: {2}\".format(hA, hB, hAB))"
   ]
  },
  {
   "cell_type": "code",
   "execution_count": 17,
   "id": "63275a8c-dbac-4d32-bf6a-37804f27af57",
   "metadata": {},
   "outputs": [
    {
     "name": "stdout",
     "output_type": "stream",
     "text": [
      "NONCE:  10000 e0458f4777612b5565be6df81b53f76943dac3f77939e886e0dc5a2fb5ad1855\n",
      "NONCE:  20000 051a66b1b1f972abb6b1ce04574551d5fea86751e18b1588d556627f11c424da\n",
      "NONCE:  30000 931475a41686265ee9f65ac07341ba85c021ca8c426990981bb582d2fbfb2299\n",
      "NONCE:  40000 4310482b52d76dea37f4ad6910bfe2bc06b4a8b63ac005b9c784f868d0fe84f2\n",
      "NONCE:  50000 8b810c0fe332eeb08db6c982170ce905567fe4a6b1a973b5b3f8db37cce0e415\n",
      "NONCE:  60000 7b8d4b1341494a017bd61a42a13ab115b95977705e08e5879d8c4934045e62ca\n",
      "NONCE:  70000 93033e94e4570eee1e720b475fec2756eaa564c0fc5beac5638a615ab46ede8c\n",
      "NONCE:  80000 2026dca4bf2d9389adc13e50d73e4b2d0f01d41b8352530b37fbf5b5080300f8\n",
      "NONCE:  90000 bc9c3c347d9fcff8723440a80815c1100fc3455554ed1dc21b78b06c226c5d64\n",
      "Solved  NONCE:  94280 guessHash:  000043ce4a61d02bff0e68ba18a7daf448cb3b93691fdd4850f6cd3f85b7a13f\n"
     ]
    },
    {
     "data": {
      "text/plain": [
       "'000043ce4a61d02bff0e68ba18a7daf448cb3b93691fdd4850f6cd3f85b7a13f'"
      ]
     },
     "execution_count": 17,
     "metadata": {},
     "output_type": "execute_result"
    }
   ],
   "source": [
    "def mining(nzeros):\n",
    "    import hashlib\n",
    "    found=False\n",
    "    blockNumber=54 # hex\n",
    "    NONCE=0\n",
    "    data='Hello'\n",
    "    previousHash='5d7c7ba21cbbcd75d14800b100252d5b428e5b1213d27c385bc141ca6b47989e'\n",
    "    while found==False:\n",
    "        z=str(blockNumber)+str(NONCE)+data+previousHash\n",
    "        guessHash=hashlib.sha256(z.encode('utf-8')).hexdigest()\n",
    "        # e.g. nzeros=4 -> str(pow(10,nzeros))[1:nzeros+1] -> \"0000\"\n",
    "        if guessHash[:nzeros]==str(pow(10,nzeros))[1:nzeros+1]:\n",
    "            found=True\n",
    "        NONCE+=1\n",
    "        if(NONCE%pow(10,nzeros)==0):   #print guessHash every 10000000\n",
    "            print(\"NONCE: \",NONCE, guessHash)\n",
    "    print(\"Solved \", \"NONCE: \", NONCE, \"guessHash: \", guessHash)\n",
    "    return guessHash\n",
    "\n",
    "mining(4)"
   ]
  },
  {
   "cell_type": "code",
   "execution_count": 18,
   "id": "060cfdaf-a3d4-4c5d-9e27-81ad8b5f169c",
   "metadata": {},
   "outputs": [
    {
     "data": {
      "text/plain": [
       "True"
      ]
     },
     "execution_count": 18,
     "metadata": {},
     "output_type": "execute_result"
    }
   ],
   "source": [
    "\"0x19626c78e1038d70e1e7e928a2c60a50f59a85d427613c461775401636e81519\" == \"0x19626c78e1038d70e1e7e928a2c60a50f59a85d427613c461775401636e81519\""
   ]
  },
  {
   "cell_type": "code",
   "execution_count": 2,
   "id": "c974eb87-911d-498b-a1ef-970ec43ba512",
   "metadata": {},
   "outputs": [
    {
     "name": "stdout",
     "output_type": "stream",
     "text": [
      "Overwriting _ganacheNow.bat\n"
     ]
    }
   ],
   "source": [
    "%%writefile _ganacheNow.bat\n",
    "node_modules\\.bin\\ganache --host \"127.0.0.1\" --port \"8345\""
   ]
  },
  {
   "cell_type": "code",
   "execution_count": 10,
   "id": "11d9a105-776d-445b-a05e-0c05a525286a",
   "metadata": {},
   "outputs": [
    {
     "name": "stdout",
     "output_type": "stream",
     "text": [
      "Overwriting src/web3ethCommands.js\n"
     ]
    }
   ],
   "source": [
    "%%writefile src/web3ethCommands.js\n",
    "var Web3=require('web3');\n",
    "var web3= new Web3('http://localhost:8345');\n",
    "web3.eth.getAccounts().then(console.log);\n",
    "web3.eth.getCoinbase().then(console.log);\n",
    "web3.eth.getBlockNumber().then(console.log);\n",
    "web3.eth.getBalance('0x6dbfdc033024d0ADA004391A32F71F9134860eCD').then(console.log);\n",
    "web3.eth.getNodeInfo().then(console.log);"
   ]
  },
  {
   "cell_type": "code",
   "execution_count": 7,
   "id": "7eb93752-78e5-4110-95c1-cdba9a900af3",
   "metadata": {},
   "outputs": [
    {
     "name": "stdout",
     "output_type": "stream",
     "text": [
      "GoError: error while compiling or running script: TypeError: Object has no member 'sendAsync' at web3.js:6384:28(29)\n",
      "\tat github.com/ethereum/go-ethereum/internal/jsre.MakeCallback.func1 (native)\n",
      "\tat <eval>:1:1(1)\n",
      "\n"
     ]
    }
   ],
   "source": [
    "!geth --exec \"loadScript('src/web3ethCommands.js')\" attach http://localhost:8345"
   ]
  },
  {
   "cell_type": "code",
   "execution_count": 12,
   "id": "0508679e-4ce2-4ab6-9a1e-736dcba22be6",
   "metadata": {},
   "outputs": [
    {
     "name": "stdout",
     "output_type": "stream",
     "text": [
      "Overwriting src/web3accounts.js\n"
     ]
    }
   ],
   "source": [
    "%%writefile src/web3accounts.js\n",
    "var Web3 = require('web3');\n",
    "var web3 = new Web3('http://localhost:8345');\n",
    "web3.eth.getAccounts(function(err,res) {console.log('(1) accounts: ' + res);});\n",
    "my = [];\n",
    "web3.eth.getAccounts(function(err,res) {for (x in res) {my.push(res[x])}});\n",
    "console.log('(2) accounts from array: ' + my[0]);"
   ]
  },
  {
   "cell_type": "code",
   "execution_count": 68,
   "id": "8d53ecdf-eebc-4f88-b51c-38920694badf",
   "metadata": {},
   "outputs": [
    {
     "name": "stdout",
     "output_type": "stream",
     "text": [
      "(2) accounts from array: undefined\n",
      "(1) accounts: 0x5E1Ed2f8f436c3250BF616706c2e541831b1ce5B,0x8Adae434F34308aC5200FFC1Acd89f12701caa52,0x8f191Ea924E90E10b55EBaBafaC1baf4738775c9,0x4A1A56D293BCf030c35A45cB983aF2945871c664,0x326DA9caB608602EFf3CaEE609879b403658bc30,0xEf4F08321fe56894e70ae07e53a84296075D2bA8,0xe753C92dd3c31B0fAd731c0576FFBc9Cf7957301,0x1e8BfAc5a8f7F4aD39dCD39E1B305E51e25E0A48,0x1370ac82109B85199E7Ea9E28D1BFfae7422D7fF,0x2c4d9d1D07648976BcC574300ae79EFD1025b552\n"
     ]
    }
   ],
   "source": [
    "!node src/web3accounts.js"
   ]
  },
  {
   "cell_type": "code",
   "execution_count": 13,
   "id": "bd8ff6df-1275-4fcd-bf99-647e0bab3665",
   "metadata": {},
   "outputs": [
    {
     "name": "stdout",
     "output_type": "stream",
     "text": [
      "Writing src/promiseThen.js\n"
     ]
    }
   ],
   "source": [
    "%%writefile src/promiseThen.js\n",
    "var doPromise = new Promise(function(myResolve, myReject) {\n",
    "    myResolve(123);\n",
    "});\n",
    "doPromise.then(function(my){\n",
    "        console.log(\"RETURNED: \"+my);\n",
    "    }).catch(function(err) {\n",
    "        console.log(\"ERROR: \"+err);\n",
    "    });"
   ]
  },
  {
   "cell_type": "code",
   "execution_count": 69,
   "id": "18ff4fbf-b323-4aef-801e-7391e2ac1874",
   "metadata": {},
   "outputs": [
    {
     "name": "stdout",
     "output_type": "stream",
     "text": [
      "RETURNED: 123\n"
     ]
    }
   ],
   "source": [
    "!node src/promiseThen.js"
   ]
  },
  {
   "cell_type": "code",
   "execution_count": 16,
   "id": "2186d46c-6d4f-459d-968b-27fd07094b77",
   "metadata": {},
   "outputs": [
    {
     "name": "stdout",
     "output_type": "stream",
     "text": [
      "Writing scripts/simpleCoinbase.html\n"
     ]
    }
   ],
   "source": [
    "%%writefile scripts/simpleCoinbase.html\n",
    "<!doctype>\n",
    "<html>\n",
    "<head>\n",
    "<script src=\"https://cdn.jsdelivr.net/npm/web3@1.2.5/dist/web3.min.js\"></script>\n",
    "<!-- script src=\"https://cdn.jsdelivr.net/npm/web3@0.20.5/dist/web3.min.js\"></script -->\n",
    "<script type=\"text/javascript\">\n",
    "    //var Web3 = require('web3');\n",
    "    var web3 = new Web3(new Web3.providers.HttpProvider(\"http://localhost:8345\"));\n",
    "\n",
    "    function displayCoinbase() {\n",
    "        var web3version = web3.version;  //web3.version.api\n",
    "        //web3@0.20.x\n",
    "        //document.getElementById('web3ver').innerText = 'web3 version 0.20.x: '+web3version.api;\n",
    "        //document.getElementById('web3coinbase').innerText = 'coinbase: ' + web3.eth.coinbase;\n",
    "        //web3@1.2.x\n",
    "        document.getElementById('web3ver').innerText = 'web3 version: '+web3version;\n",
    "        web3.eth.getCoinbase().then(function(coin) {\n",
    "            document.getElementById('web3coinbase').innerText = 'coinbase: ' + coin;\n",
    "            });\n",
    "    }\n",
    "</script>\n",
    "</head>\n",
    "<body>\n",
    "    <h1>Hello</h1>\n",
    "    <button type=\"button\" onClick=\"displayCoinbase();\">Display Coinbase</button>\n",
    "    <div></div>\n",
    "    <div id=\"web3ver\"></div>\n",
    "    <div id=\"web3coinbase\"></div>\n",
    "</body>\n",
    "</html>"
   ]
  },
  {
   "cell_type": "code",
   "execution_count": 22,
   "id": "1c4ac92b-9d49-416f-8733-28aeb8942ab1",
   "metadata": {},
   "outputs": [
    {
     "name": "stdout",
     "output_type": "stream",
     "text": [
      "032916ba0fc9c63fc5440a3b20069370da1b5d3c605797b28ac1a5a5876dc7e0\n",
      "f4a46fe8ab4ec747ff50409006c6d8a71bd9b7eeabf24d5bd93bd65da8b4d9de\n",
      "840890abd2025d836dcf27a59f2a94304e8c16631a337b6402d3519c1d01e75e\n"
     ]
    }
   ],
   "source": [
    "import hashlib\n",
    "\n",
    "nonce = 1\n",
    "txA = 'Hello'\n",
    "txB = 'How are you?'\n",
    "txC = 'This is Thursday'\n",
    "txD = 'Happy new Year'\n",
    "\n",
    "hashA = hashlib.sha256(hashlib.sha256(txA.encode()).digest()).hexdigest()\n",
    "hashB = hashlib.sha256(hashlib.sha256(txB.encode()).digest()).hexdigest()\n",
    "hashC = hashlib.sha256(hashlib.sha256(txC.encode()).digest()).hexdigest()\n",
    "hashD = hashlib.sha256(hashlib.sha256(txD.encode()).digest()).hexdigest()\n",
    "\n",
    "hashAswap = \"\".join(reversed([_hashA[i:i+2] for i in range(0, hashlib.sha256(txA.encode()).digest_size*2, 2)]))\n",
    "hashBswap = \"\".join(reversed([_hashB[i:i+2] for i in range(0, hashlib.sha256(txB.encode()).digest_size*2, 2)]))\n",
    "hashCswap = \"\".join(reversed([_hashC[i:i+2] for i in range(0, hashlib.sha256(txC.encode()).digest_size*2, 2)]))\n",
    "hashDswap = \"\".join(reversed([_hashD[i:i+2] for i in range(0, hashlib.sha256(txD.encode()).digest_size*2, 2)]))\n",
    "\n",
    "_hashAB = hashAswap+hashBswap\n",
    "hashAB = hashlib.sha256(hashlib.sha256(_hashAB.encode()).digest()).hexdigest()\n",
    "hashABswap = \"\".join(reversed([hashAB[i:i+2] for i in range(0, hashlib.sha256(hashAB.encode()).digest_size*2, 2)]))\n",
    "\n",
    "_hashCD = hashCswap + hashDswap\n",
    "hashCD = hashlib.sha256(hashlib.sha256(_hashCD.encode()).digest()).hexdigest()\n",
    "hashCDswap = \"\".join(reversed([hashCD[i:i+2] for i in range(0, hashlib.sha256(hashCD.encode()).digest_size*2, 2)]))\n",
    "\n",
    "print(hashABswap)\n",
    "print(hashCDswap)\n",
    "\n",
    "_hashABCD = hashABswap + hashCDswap\n",
    "hashABCD = hashlib.sha256(hashlib.sha256(_hashABCD.encode()).digest()).hexdigest()\n",
    "hashABCDswap = \"\".join(reversed([hashABCD[i:i+2] for i in range(0, hashlib.sha256(hashABCD.encode()).digest_size*2, 2)]))\n",
    "print(hashABCDswap)\n"
   ]
  },
  {
   "cell_type": "code",
   "execution_count": 23,
   "id": "c32f8257-c394-4e60-9554-b98a5e4a6e3f",
   "metadata": {},
   "outputs": [
    {
     "name": "stdout",
     "output_type": "stream",
     "text": [
      "\"0xd888207069c6c7652768216b26db265b07641e74\"\n"
     ]
    }
   ],
   "source": [
    "!geth --exec eth.coinbase attach http://localhost:8445"
   ]
  },
  {
   "cell_type": "code",
   "execution_count": 48,
   "id": "0b4d2c12-548b-403f-9617-c13492e66073",
   "metadata": {},
   "outputs": [
    {
     "name": "stdout",
     "output_type": "stream",
     "text": [
      "Overwriting src/e_testTran2.js\n"
     ]
    }
   ],
   "source": [
    "%%writefile src/e_testTran2.js\n",
    "console.log('account0 balance: ', eth.getBalance(eth.coinbase));\n",
    "console.log('account1 balance: ', eth.getBalance(eth.accounts[1]));\n",
    "var ba1 = eth.getBalance(eth.accounts[1]);\n",
    "console.log('block number:', eth.blockNumber);\n",
    "var t = eth.sendTransaction({\n",
    "    from: eth.coinbase,\n",
    "    to: eth.accounts[1],\n",
    "    value: 111});\n",
    "console.log('gas price:', eth.gasPrice);\n",
    "console.log('transactionHash:', t);\n",
    "console.log('\\n\\n...mining start')\n",
    "miner.start(1); admin.sleepBlocks(1); miner.stop();\n",
    "console.log('mining done...\\n')\n",
    "\n",
    "console.log('account0 balance: ', eth.getBalance(eth.coinbase));\n",
    "console.log('account1 balance: ', eth.getBalance(eth.accounts[1]));\n",
    "var ba2 = eth.getBalance(eth.accounts[1]);\n",
    "console.log('block number:', eth.blockNumber);\n",
    "\n",
    "console.log('increased balance:', ba2-ba1);\n",
    "console.log('gasUsed:', eth.getTransactionReceipt(t).gasUsed)"
   ]
  },
  {
   "cell_type": "code",
   "execution_count": 49,
   "id": "68b104cd-4637-4baf-a9d9-a66af6a6373d",
   "metadata": {},
   "outputs": [
    {
     "name": "stdout",
     "output_type": "stream",
     "text": [
      "account0 balance:  2.012889999999999979556e+21\n",
      "account1 balance:  1110000000000020444\n",
      "block number: 2479\n",
      "gas price: 1000000000\n",
      "transactionHash: 0x74f8d84c6bbb3cf462f35366720d828754a7fb548e1c4db647b6687ed724b36e\n",
      "\n",
      "\n",
      "...mining start\n",
      "mining done...\n",
      "\n",
      "account0 balance:  2.014889999999999979445e+21\n",
      "account1 balance:  1110000000000020555\n",
      "block number: 2480\n",
      "increased balance: 128\n",
      "gasUsed: 21000\n",
      "null\n"
     ]
    }
   ],
   "source": [
    "!geth --exec \"loadScript('src/e_testTran2.js')\" attach http://localhost:8445"
   ]
  },
  {
   "cell_type": "code",
   "execution_count": 90,
   "id": "4f11bb82-d426-4f37-8492-c7d9f6445de6",
   "metadata": {},
   "outputs": [
    {
     "name": "stdout",
     "output_type": "stream",
     "text": [
      "\"0x8c75cf6212b515b33ba5bae2b9277c9f7633f690\"\n"
     ]
    }
   ],
   "source": [
    "!geth --exec eth.coinbase attach http://localhost:8345"
   ]
  },
  {
   "cell_type": "code",
   "execution_count": 89,
   "id": "51ac954b-d20d-4930-9447-db4f61c4daca",
   "metadata": {},
   "outputs": [
    {
     "name": "stdout",
     "output_type": "stream",
     "text": [
      "\"0xd888207069c6c7652768216b26db265b07641e74\"\n"
     ]
    }
   ],
   "source": [
    "!geth --exec eth.coinbase attach http://localhost:8445"
   ]
  },
  {
   "cell_type": "code",
   "execution_count": 157,
   "id": "903f621d-e88e-4ca0-9ab2-3bbd2f7e1b67",
   "metadata": {},
   "outputs": [
    {
     "name": "stdout",
     "output_type": "stream",
     "text": [
      "Overwriting src/transToGanache.js\n"
     ]
    }
   ],
   "source": [
    "%%writefile src/transToGanache.js\n",
    "var Web3 = require('web3');\n",
    "var web3 = new Web3('http://localhost:8345');\n",
    "web3.eth.getBalance(\"0x8c75cf6212b515b33ba5bae2b9277c9f7633f690\").then(console.log);\n",
    "web3.eth.getBalance(\"0xd888207069c6c7652768216b26db265b07641e74\").then(console.log);\n",
    "web3.eth.sendTransaction({\n",
    "    from: '0x8c75cf6212b515b33ba5bae2b9277c9f7633f690',\n",
    "    to: '0xd888207069c6c7652768216b26db265b07641e74',\n",
    "    value: web3.utils.toWei('1', 'ether')});\n"
   ]
  },
  {
   "cell_type": "code",
   "execution_count": 158,
   "id": "64cfa51a-9c2d-4da1-b05c-d5623b1ae2d3",
   "metadata": {},
   "outputs": [
    {
     "name": "stdout",
     "output_type": "stream",
     "text": [
      "997999965543659375000\n",
      "2000000000000000000\n"
     ]
    }
   ],
   "source": [
    "!node src/transToGanache.js"
   ]
  },
  {
   "cell_type": "code",
   "execution_count": 159,
   "id": "8b6b9d3d-d33f-4bd1-8e21-61b3971fc92b",
   "metadata": {},
   "outputs": [
    {
     "name": "stdout",
     "output_type": "stream",
     "text": [
      "Overwriting src/checkTrans.js\n"
     ]
    }
   ],
   "source": [
    "%%writefile src/checkTrans.js\n",
    "var Web3 = require('web3');\n",
    "var web3 = new Web3('http://localhost:8345');\n",
    "web3.eth.getBalance('0x8c75cf6212b515b33ba5bae2b9277c9f7633f690').then(console.log);\n",
    "web3.eth.getBalance('0xd888207069c6c7652768216b26db265b07641e74').then(console.log);"
   ]
  },
  {
   "cell_type": "code",
   "execution_count": 160,
   "id": "c62f94d1-ebb3-4024-8cd1-f7cd7201be4f",
   "metadata": {},
   "outputs": [
    {
     "name": "stdout",
     "output_type": "stream",
     "text": [
      "996999951469672084000\n",
      "3000000000000000000\n"
     ]
    }
   ],
   "source": [
    "!node src/checkTrans.js"
   ]
  },
  {
   "cell_type": "code",
   "execution_count": null,
   "id": "f23ab3f3-e180-40ed-b8a9-f3e06c30c38e",
   "metadata": {},
   "outputs": [],
   "source": [
    "//web3.eth.getAccounts().then(ac => {console.log(ac[0])});\n",
    "async function getAccount0() {\n",
    "    var accounts = await web3.eth.getAccounts();\n",
    "    var account0 = accounts[0];\n",
    "    console.log(account0);\n",
    "}\n",
    "getAccount0();"
   ]
  },
  {
   "cell_type": "code",
   "execution_count": 165,
   "id": "ae37f23b-6815-4ba4-b8ee-bb7ef9454ae5",
   "metadata": {},
   "outputs": [
    {
     "name": "stdout",
     "output_type": "stream",
     "text": [
      "Overwriting src/getCBBalance.js\n"
     ]
    }
   ],
   "source": [
    "%%writefile src/getCBBalance.js\n",
    "var Web3 = require('web3');\n",
    "var web3 = new Web3('http://localhost:8345');\n",
    "\n",
    "web3.eth.getBalance(\"0x8c75cf6212b515b33ba5bae2b9277c9f7633f690\").then(web3.utils.fromWei).then(console.log);"
   ]
  },
  {
   "cell_type": "code",
   "execution_count": 166,
   "id": "86789488-f8b2-4ea0-b56f-70d037034c5c",
   "metadata": {},
   "outputs": [
    {
     "name": "stdout",
     "output_type": "stream",
     "text": [
      "996.999951469672084\n"
     ]
    }
   ],
   "source": [
    "!node src/getCBBalance.js"
   ]
  },
  {
   "cell_type": "code",
   "execution_count": 244,
   "id": "f417abcc-92d3-41f3-91ff-ad717de4f13a",
   "metadata": {},
   "outputs": [
    {
     "name": "stdout",
     "output_type": "stream",
     "text": [
      "Overwriting src/getTransaction.js\n"
     ]
    }
   ],
   "source": [
    "%%writefile src/getTransaction.js\n",
    "var Web3 = require('web3');\n",
    "var web3 = new Web3('http://localhost:8345');\n",
    "\n",
    "async function printAccountInfo() {\n",
    "    accounts = await web3.eth.getAccounts();\n",
    "    console.log(\"account0:\", accounts[0]);\n",
    "    console.log(\"account0 balance:\", await web3.eth.getBalance(accounts[0]));\n",
    "    console.log(\"account1:\", accounts[1]);\n",
    "    console.log(\"account1 balance:\", await web3.eth.getBalance(accounts[1]));\n",
    "}\n",
    "\n",
    "async function sendEther() {\n",
    "    accounts = await web3.eth.getAccounts();\n",
    "\n",
    "    tx = await web3.eth.sendTransaction({\n",
    "        from: accounts[0],\n",
    "        to: accounts[1],\n",
    "        value: 111\n",
    "    });\n",
    "\n",
    "    console.log('transaction hash:', tx.transactionHash);\n",
    "}\n",
    "\n",
    "async function printGasInfo() {\n",
    "    gasPrice = await web3.eth.getGasPrice();\n",
    "    console.log('gas Price:', gasPrice);\n",
    "}\n",
    "\n",
    "async function printNonce() {\n",
    "    accounts = await web3.eth.getAccounts();\n",
    "    nonce = await web3.eth.getTransactionCount(accounts[0]);\n",
    "    console.log('nonce:', nonce);\n",
    "}\n",
    "\n",
    "async function printBalanceChanges() {\n",
    "    accounts = await web3.eth.getAccounts();\n",
    "\n",
    "    balanceBefore0 = await web3.eth.getBalance(accounts[0]);\n",
    "    balanceBefore1 = await web3.eth.getBalance(accounts[1]);\n",
    "    \n",
    "    await sendEther();\n",
    "\n",
    "    balanceAfter0 = await web3.eth.getBalance(accounts[0]);\n",
    "    balanceAfter1 = await web3.eth.getBalance(accounts[1]);\n",
    "\n",
    "    console.log('account0 balance changes:', balanceBefore0 - balanceAfter0);\n",
    "    console.log('account1 balance changes:', balanceAfter1 - balanceBefore1);\n",
    "}\n",
    "\n",
    "async function printTotalBalance() {\n",
    "    accounts = await web3.eth.getAccounts();\n",
    "    balance0 = await web3.eth.getBalance(accounts[0]);\n",
    "    balance1 = await web3.eth.getBalance(accounts[1]);\n",
    "    totalBalance = balance0 + balance1;\n",
    "    console.log('total balance:', totalBalance);\n",
    "}\n",
    "\n",
    "(async () => {\n",
    "    await printAccountInfo();\n",
    "    await printGasInfo();\n",
    "    await printNonce();\n",
    "    await printBalanceChanges();\n",
    "    await printTotalBalance();\n",
    "})();"
   ]
  },
  {
   "cell_type": "code",
   "execution_count": 245,
   "id": "d9346a7e-19b2-44fb-bb26-9d0c24728001",
   "metadata": {},
   "outputs": [
    {
     "name": "stdout",
     "output_type": "stream",
     "text": [
      "account0: 0x8c75CF6212b515B33bA5Bae2B9277C9F7633f690\n",
      "account0 balance: 996999856314237181225\n",
      "account1: 0xB6bdc51fdcF11E0cBC825AF19a3F5fa85A6Bd1c8\n",
      "account1 balance: 1000000000000000017664\n",
      "gas Price: 2000000000\n",
      "nonce: \u001b[33m28\u001b[39m\n",
      "transaction hash: 0xa92b35cad39aeebdbdb3204cf4ea7a102ace63571adec4e4c41dd064ed27f9a0\n",
      "account0 balance changes: \u001b[33m439424909312\u001b[39m\n",
      "account1 balance changes: \u001b[33m0\u001b[39m\n",
      "total balance: 9969998558748122231141000000000000000017775\n"
     ]
    }
   ],
   "source": [
    "!node src/getTransaction.js"
   ]
  },
  {
   "cell_type": "markdown",
   "id": "0c69619a-9a90-49c1-83d8-56ad9ed0a339",
   "metadata": {},
   "source": [
    "# 컨트랙 배포"
   ]
  },
  {
   "cell_type": "code",
   "execution_count": 134,
   "id": "5a6bfdc3-7f73-4170-8623-6dccd4d3f78f",
   "metadata": {},
   "outputs": [
    {
     "name": "stdout",
     "output_type": "stream",
     "text": [
      "Overwriting src/Hello.sol\n"
     ]
    }
   ],
   "source": [
    "%%writefile src/Hello.sol\n",
    "// SPDX-License-Identifier: GPL-3.0\n",
    "pragma solidity ^0.8.0;\n",
    "contract Hello {\n",
    "    function sayHello() pure public returns(string memory) {\n",
    "        return \"Hello World\";\n",
    "    }\n",
    "}"
   ]
  },
  {
   "cell_type": "code",
   "execution_count": 135,
   "id": "08506bf0-605b-4357-ac42-275ae95e1a30",
   "metadata": {},
   "outputs": [
    {
     "name": "stdout",
     "output_type": "stream",
     "text": [
      "\n",
      "======= src/Hello.sol:Hello =======\n",
      "Gas estimation:\n",
      "construction:\n",
      "   121 + 72000 = 72121\n",
      "external:\n",
      "   sayHello():\tinfinite\n",
      "Binary:\n",
      "608060405234801561000f575f80fd5b506101688061001d5f395ff3fe608060405234801561000f575f80fd5b5060043610610029575f3560e01c8063ef5fb05b1461002d575b5f80fd5b61003561004b565b6040516100429190610112565b60405180910390f35b60606040518060400160405280600b81526020017f48656c6c6f20576f726c64000000000000000000000000000000000000000000815250905090565b5f81519050919050565b5f82825260208201905092915050565b5f5b838110156100bf5780820151818401526020810190506100a4565b5f8484015250505050565b5f601f19601f8301169050919050565b5f6100e482610088565b6100ee8185610092565b93506100fe8185602086016100a2565b610107816100ca565b840191505092915050565b5f6020820190508181035f83015261012a81846100da565b90509291505056fea264697066735822122001a64d049d033122411d61d67ad7c64eed5d54263462304f34a2c6c36f6d337b64736f6c63430008180033\n",
      "Contract JSON ABI\n",
      "[{\"inputs\":[],\"name\":\"sayHello\",\"outputs\":[{\"internalType\":\"string\",\"name\":\"\",\"type\":\"string\"}],\"stateMutability\":\"pure\",\"type\":\"function\"}]\n"
     ]
    }
   ],
   "source": [
    "!solc-windows.exe --abi --bin --gas src/Hello.sol"
   ]
  },
  {
   "cell_type": "code",
   "execution_count": 136,
   "id": "c4f72f42-55e7-4b98-8703-abc55068ce93",
   "metadata": {},
   "outputs": [
    {
     "name": "stdout",
     "output_type": "stream",
     "text": [
      "Overwriting src/getMyAddr.js\n"
     ]
    }
   ],
   "source": [
    "%%writefile src/getMyAddr.js\n",
    "var Web3 = require('web3');\n",
    "var web3 = new Web3('http://localhost:8345');\n",
    "web3.eth.getAccounts().then(console.log);"
   ]
  },
  {
   "cell_type": "code",
   "execution_count": 137,
   "id": "bb7b221e-1889-43a6-b93c-5b0537a2726f",
   "metadata": {},
   "outputs": [
    {
     "name": "stdout",
     "output_type": "stream",
     "text": [
      "[\n",
      "  \u001b[32m'0x3aCcFf945E390127b9e324B68cA090b65a0E5Bd8'\u001b[39m,\n",
      "  \u001b[32m'0x00b64C72946a840325096472006666e3ddd0bDA8'\u001b[39m,\n",
      "  \u001b[32m'0x37c1e771D081e734B4372Ed873B19dCe8Acc63d2'\u001b[39m,\n",
      "  \u001b[32m'0x310275A539F57d28C480B911DE97B55d906BAe2C'\u001b[39m,\n",
      "  \u001b[32m'0x503890ef3f4349Ea5D0F2Bc18fE2F3b412bbd6b2'\u001b[39m,\n",
      "  \u001b[32m'0xED73Cd9165904C222f38Ea73f44BFa3E9EBC1261'\u001b[39m,\n",
      "  \u001b[32m'0x23B0A990e0197Bd12bf4220Bf57fee179bd32fbF'\u001b[39m,\n",
      "  \u001b[32m'0x3484827F5EfD594069d3D31c1b9dEEFC6BF85281'\u001b[39m,\n",
      "  \u001b[32m'0x1bd201cD0595D4022DAda493Cd7fACD2183e0eAb'\u001b[39m,\n",
      "  \u001b[32m'0x35F551441c58A09E850C450388B20cC009C5dB60'\u001b[39m\n",
      "]\n"
     ]
    }
   ],
   "source": [
    "!node src/getMyAddr.js"
   ]
  },
  {
   "cell_type": "code",
   "execution_count": 143,
   "id": "bf0cf4a4-3a7c-4c2c-adb4-dcf562ab0826",
   "metadata": {},
   "outputs": [
    {
     "name": "stdout",
     "output_type": "stream",
     "text": [
      "Overwriting src/HelloDeployGas.js\n"
     ]
    }
   ],
   "source": [
    "%%writefile src/HelloDeployGas.js\n",
    "var Web3 = require('web3');\n",
    "var web3 = new Web3('http://localhost:8345');\n",
    "\n",
    "var shelloContract = new web3.eth.Contract([{\"inputs\":[],\"name\":\"sayHello\",\"outputs\":[{\"internalType\":\"string\",\"name\":\"\",\"type\":\"string\"}],\"stateMutability\":\"pure\",\"type\":\"function\"}]);\n",
    "\n",
    "shelloContract.deploy({\n",
    "    from: '0x3aCcFf945E390127b9e324B68cA090b65a0E5Bd8',\n",
    "    data: '608060405234801561000f575f80fd5b506101688061001d5f395ff3fe608060405234801561000f575f80fd5b5060043610610029575f3560e01c8063ef5fb05b1461002d575b5f80fd5b61003561004b565b6040516100429190610112565b60405180910390f35b60606040518060400160405280600b81526020017f48656c6c6f20576f726c64000000000000000000000000000000000000000000815250905090565b5f81519050919050565b5f82825260208201905092915050565b5f5b838110156100bf5780820151818401526020810190506100a4565b5f8484015250505050565b5f601f19601f8301169050919050565b5f6100e482610088565b6100ee8185610092565b93506100fe8185602086016100a2565b610107816100ca565b840191505092915050565b5f6020820190508181035f83015261012a81846100da565b90509291505056fea264697066735822122001a64d049d033122411d61d67ad7c64eed5d54263462304f34a2c6c36f6d337b64736f6c63430008180033',\n",
    "}).estimateGas().then(function(myGas) {\n",
    "    console.log(\"Estimated gas: \" + myGas);\n",
    "    gas = myGas;\n",
    "}).catch(console.error);"
   ]
  },
  {
   "cell_type": "code",
   "execution_count": 144,
   "id": "98f56ba0-2ce4-4c0c-971f-0f3ae5ce9cdf",
   "metadata": {},
   "outputs": [
    {
     "name": "stdout",
     "output_type": "stream",
     "text": [
      "Estimated gas: 130879\n"
     ]
    }
   ],
   "source": [
    "!node src/HelloDeployGas.js"
   ]
  },
  {
   "cell_type": "code",
   "execution_count": 145,
   "id": "dbf445af-e188-43e2-aac7-ee6c65b8a0c6",
   "metadata": {},
   "outputs": [
    {
     "name": "stdout",
     "output_type": "stream",
     "text": [
      "Overwriting src/HelloDeploy.js\n"
     ]
    }
   ],
   "source": [
    "%%writefile src/HelloDeploy.js\n",
    "var Web3 = require('web3');\n",
    "var web3 = new Web3('http://localhost:8345');\n",
    "\n",
    "var shelloContract = new web3.eth.Contract([{\"inputs\":[],\"name\":\"sayHello\",\"outputs\":[{\"internalType\":\"string\",\"name\":\"\",\"type\":\"string\"}],\"stateMutability\":\"pure\",\"type\":\"function\"}]);\n",
    "\n",
    "shelloContract.deploy({\n",
    "    data: '608060405234801561000f575f80fd5b506101688061001d5f395ff3fe608060405234801561000f575f80fd5b5060043610610029575f3560e01c8063ef5fb05b1461002d575b5f80fd5b61003561004b565b6040516100429190610112565b60405180910390f35b60606040518060400160405280600b81526020017f48656c6c6f20576f726c64000000000000000000000000000000000000000000815250905090565b5f81519050919050565b5f82825260208201905092915050565b5f5b838110156100bf5780820151818401526020810190506100a4565b5f8484015250505050565b5f601f19601f8301169050919050565b5f6100e482610088565b6100ee8185610092565b93506100fe8185602086016100a2565b610107816100ca565b840191505092915050565b5f6020820190508181035f83015261012a81846100da565b90509291505056fea264697066735822122001a64d049d033122411d61d67ad7c64eed5d54263462304f34a2c6c36f6d337b64736f6c63430008180033'\n",
    "}).send({\n",
    "    from: '0x3aCcFf945E390127b9e324B68cA090b65a0E5Bd8',\n",
    "    gas: '4700000'\n",
    "}, function(error, transactionHash) {\n",
    "    console.log(error, transactionHash);\n",
    "}).then(function(newContractInstance) {\n",
    "    console.log(newContractInstance.options.address);\n",
    "});"
   ]
  },
  {
   "cell_type": "code",
   "execution_count": 146,
   "id": "95c783c6-d6bf-4820-9590-588701f22b3f",
   "metadata": {},
   "outputs": [
    {
     "name": "stdout",
     "output_type": "stream",
     "text": [
      "\u001b[1mnull\u001b[22m 0x7e8e39d6da80c4b27d4ae7540fe3fe2b323bc28ccca93fe6bbc90924de4cbe5c\n",
      "0x99a546c4D34153c12c41b75D194D7CF1d17d4046\n"
     ]
    }
   ],
   "source": [
    "!node src/HelloDeploy.js"
   ]
  },
  {
   "cell_type": "code",
   "execution_count": 147,
   "id": "11e5a758-a860-4a60-8af0-57183d919350",
   "metadata": {},
   "outputs": [
    {
     "name": "stdout",
     "output_type": "stream",
     "text": [
      "Overwriting src/HelloDeploy2.js\n"
     ]
    }
   ],
   "source": [
    "%%writefile src/HelloDeploy2.js\n",
    "var Web3 = require('web3');\n",
    "var web3 = new Web3('http://localhost:8445');\n",
    "\n",
    "var shelloContract = new web3.eth.Contract([{\"constant\":true, \"inputs\":[],\"name\":\"sayHello\",\"outputs\":[{\"internalType\":\"string\",\"name\":\"\",\"type\":\"string\"}],\"stateMutability\":\"pure\",\"type\":\"function\"}]);\n",
    "\n",
    "shelloContract.deploy({\n",
    "    data: '608060405234801561000f575f80fd5b506101688061001d5f395ff3fe608060405234801561000f575f80fd5b5060043610610029575f3560e01c8063ef5fb05b1461002d575b5f80fd5b61003561004b565b6040516100429190610112565b60405180910390f35b60606040518060400160405280600b81526020017f48656c6c6f20576f726c64000000000000000000000000000000000000000000815250905090565b5f81519050919050565b5f82825260208201905092915050565b5f5b838110156100bf5780820151818401526020810190506100a4565b5f8484015250505050565b5f601f19601f8301169050919050565b5f6100e482610088565b6100ee8185610092565b93506100fe8185602086016100a2565b610107816100ca565b840191505092915050565b5f6020820190508181035f83015261012a81846100da565b90509291505056fea264697066735822122001a64d049d033122411d61d67ad7c64eed5d54263462304f34a2c6c36f6d337b64736f6c63430008180033'\n",
    "}).send({\n",
    "    from: '0x3aCcFf945E390127b9e324B68cA090b65a0E5Bd8',\n",
    "    gas: '600000'\n",
    "}, function (error, transactionHash) {\n",
    "    console.log(error, transactionHash);\n",
    "}).on('receipt', function(receipt) {\n",
    "    console.log('receipt: ' + receipt.contractAddress);\n",
    "}).then(function(newContractInstance) {\n",
    "    console.log('address:' + newContractInstance.options.address);\n",
    "});"
   ]
  },
  {
   "cell_type": "code",
   "execution_count": 148,
   "id": "376c1035-9370-4534-8a61-d941ec945df6",
   "metadata": {},
   "outputs": [
    {
     "name": "stdout",
     "output_type": "stream",
     "text": [
      "Error: Returned error: unknown account\n",
      "    at Object.ErrorResponse \u001b[90m(C:\\Users\\CHOYS\\Code\\202010818\\\u001b[39mnode_modules\\\u001b[4mweb3-core-helpers\u001b[24m\\lib\\errors.js:28:19\u001b[90m)\u001b[39m\n",
      "    at \u001b[90mC:\\Users\\CHOYS\\Code\\202010818\\\u001b[39mnode_modules\\\u001b[4mweb3-core-requestmanager\u001b[24m\\lib\\index.js:300:36\n",
      "    at \u001b[90mC:\\Users\\CHOYS\\Code\\202010818\\\u001b[39mnode_modules\\\u001b[4mweb3-providers-http\u001b[24m\\lib\\index.js:131:13\n",
      "\u001b[90m    at process.processTicksAndRejections (node:internal/process/task_queues:95:5)\u001b[39m {\n",
      "  data: \u001b[1mnull\u001b[22m\n",
      "} \u001b[90mundefined\u001b[39m\n"
     ]
    },
    {
     "name": "stderr",
     "output_type": "stream",
     "text": [
      "node:internal/process/promises:289\n",
      "            triggerUncaughtException(err, true /* fromPromise */);\n",
      "            ^\n",
      "\n",
      "Error: Returned error: unknown account\n",
      "    at Object.ErrorResponse \u001b[90m(C:\\Users\\CHOYS\\Code\\202010818\\\u001b[39mnode_modules\\\u001b[4mweb3-core-helpers\u001b[24m\\lib\\errors.js:28:19\u001b[90m)\u001b[39m\n",
      "    at \u001b[90mC:\\Users\\CHOYS\\Code\\202010818\\\u001b[39mnode_modules\\\u001b[4mweb3-core-requestmanager\u001b[24m\\lib\\index.js:300:36\n",
      "    at \u001b[90mC:\\Users\\CHOYS\\Code\\202010818\\\u001b[39mnode_modules\\\u001b[4mweb3-providers-http\u001b[24m\\lib\\index.js:131:13\n",
      "\u001b[90m    at process.processTicksAndRejections (node:internal/process/task_queues:95:5)\u001b[39m {\n",
      "  data: \u001b[1mnull\u001b[22m\n",
      "}\n",
      "\n",
      "Node.js v20.12.2\n"
     ]
    }
   ],
   "source": [
    "!node src/HelloDeploy2.js"
   ]
  },
  {
   "cell_type": "code",
   "execution_count": 151,
   "id": "395769f1-c173-4ff3-bde6-819a845595c7",
   "metadata": {},
   "outputs": [
    {
     "name": "stdout",
     "output_type": "stream",
     "text": [
      "Overwriting src/HelloUse.js\n"
     ]
    }
   ],
   "source": [
    "%%writefile src/HelloUse.js\n",
    "var Web3 = require('web3');\n",
    "var web3 = new Web3('http://localhost:8345');\n",
    "var shelloContract = new web3.eth.Contract([{\"inputs\":[],\"name\":\"sayHello\",\"outputs\":[{\"internalType\":\"string\",\"name\":\"\",\"type\":\"string\"}],\"stateMutability\":\"pure\",\"type\":\"function\"}], '0x99a546c4D34153c12c41b75D194D7CF1d17d4046');\n",
    "\n",
    "shelloContract.methods.sayHello().call().then(function (str) { console.log(str);});"
   ]
  },
  {
   "cell_type": "code",
   "execution_count": 152,
   "id": "119d79aa-b67c-46b0-adba-693cee1adcbb",
   "metadata": {},
   "outputs": [
    {
     "name": "stdout",
     "output_type": "stream",
     "text": [
      "Hello World\n"
     ]
    }
   ],
   "source": [
    "!node src/HelloUse.js"
   ]
  },
  {
   "cell_type": "code",
   "execution_count": 19,
   "id": "62d1a8c6-7736-456c-bb4e-4faff2e636e7",
   "metadata": {},
   "outputs": [
    {
     "name": "stdout",
     "output_type": "stream",
     "text": [
      "Writing scripts/hello.html\n"
     ]
    }
   ],
   "source": [
    "%%writefile scripts/hello.html\n",
    "<!doctype>\n",
    "<html>\n",
    "<head>\n",
    "<script src=\"https://cdn.jsdelivr.net/npm/web3@1.2.5/dist/web3.min.js\"></script>\n",
    "<!-- script src=\"https://cdn.jsdelivr.net/npm/web3@0.20.5/dist/web3.min.js\"></script -->\n",
    "<script type=\"text/javascript\">\n",
    "    var web3 = new Web3(new Web3.providers.HttpProvider(\"http://localhost:8345\"));\n",
    "\n",
    "    function displayHello() {\n",
    "        var web3version = web3.version;  //web3.version.api\n",
    "\n",
    "        var shelloContract = new web3.eth.Contract([{\"inputs\":[],\"name\":\"sayHello\",\"outputs\":[{\"internalType\":\"string\",\"name\":\"\",\"type\":\"string\"}],\"stateMutability\":\"pure\",\"type\":\"function\"}], '0xB6D1062172A9675Cc3DFc140323B8b99D02a25F7');\n",
    "        shelloContract.methods.sayHello().call().then(function(str) {\n",
    "            document.getElementById('sayhello').innerText = \"The message from blockchain: \" + str;\n",
    "        });\n",
    "        document.getElementById('web3ver').innerText = '*web3 version: '+web3version;\n",
    "        web3.eth.getCoinbase().then(function(coin) {\n",
    "            document.getElementById('web3coinbase').innerText = 'coinbase: ' + coin;\n",
    "            });\n",
    "    }\n",
    "</script>\n",
    "</head>\n",
    "<body>\n",
    "    <h1>Hello</h1>\n",
    "    <button type=\"button\" onClick=\"displayHello();\">Display Hello</button>\n",
    "    <div></div>\n",
    "    <div id=\"sayhello\"></div>\n",
    "    <div id=\"web3ver\"></div>\n",
    "    <div id=\"web3coinbase\"></div>\n",
    "</body>\n",
    "</html>"
   ]
  },
  {
   "cell_type": "code",
   "execution_count": 12,
   "id": "fc7653d0-39ca-4837-ad1d-ca07ae86d1f6",
   "metadata": {},
   "outputs": [
    {
     "name": "stdout",
     "output_type": "stream",
     "text": [
      "Overwriting src/Greeter.sol\n"
     ]
    }
   ],
   "source": [
    "%%writefile src/Greeter.sol\n",
    "// SPDX-License-Identifier: GPL-3.0\n",
    "\n",
    "pragma solidity ^0.8.0;\n",
    "\n",
    "contract Greeter {\n",
    "    string greeting;\n",
    "\n",
    "    constructor() {\n",
    "        greeting = 'Hello';\n",
    "    }\n",
    "\n",
    "    function setGreeting(string memory _greeting) public {\n",
    "        greeting = _greeting;\n",
    "    }\n",
    "\n",
    "    function greet() view public returns (string memory) {\n",
    "        return greeting;\n",
    "    }\n",
    "}"
   ]
  },
  {
   "cell_type": "code",
   "execution_count": 13,
   "id": "214a1f13-1f2f-4316-b3ce-0e405b01af89",
   "metadata": {},
   "outputs": [
    {
     "name": "stdout",
     "output_type": "stream",
     "text": [
      "\n",
      "======= src/Greeter.sol:Greeter =======\n",
      "Gas estimation:\n",
      "construction:\n",
      "   infinite + 321800 = infinite\n",
      "external:\n",
      "   greet():\tinfinite\n",
      "   setGreeting(string):\tinfinite\n",
      "Binary:\n",
      "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\n",
      "Contract JSON ABI\n",
      "[{\"inputs\":[],\"stateMutability\":\"nonpayable\",\"type\":\"constructor\"},{\"inputs\":[],\"name\":\"greet\",\"outputs\":[{\"internalType\":\"string\",\"name\":\"\",\"type\":\"string\"}],\"stateMutability\":\"view\",\"type\":\"function\"},{\"inputs\":[{\"internalType\":\"string\",\"name\":\"_greeting\",\"type\":\"string\"}],\"name\":\"setGreeting\",\"outputs\":[],\"stateMutability\":\"nonpayable\",\"type\":\"function\"}]\n"
     ]
    }
   ],
   "source": [
    "!solc-windows.exe --abi --bin --gas src/Greeter.sol"
   ]
  },
  {
   "cell_type": "code",
   "execution_count": 8,
   "id": "f6fe4adc-47d0-4fc2-9161-14638e359f15",
   "metadata": {},
   "outputs": [
    {
     "name": "stdout",
     "output_type": "stream",
     "text": [
      "Overwriting src/greeterDeploy.js\n"
     ]
    }
   ],
   "source": [
    "%%writefile src/greeterDeploy.js\n",
    "var Web3 = require('web3');\n",
    "var web3 = new Web3('http://localhost:8345');\n",
    "\n",
    "var _abiArray = [{\"inputs\":[],\"stateMutability\":\"nonpayable\",\"type\":\"constructor\"},{\"inputs\":[],\"name\":\"greet\",\"outputs\":[{\"internalType\":\"string\",\"name\":\"\",\"type\":\"string\"}],\"stateMutability\":\"view\",\"type\":\"function\"},{\"inputs\":[{\"internalType\":\"string\",\"name\":\"_greeting\",\"type\":\"string\"}],\"name\":\"setGreeting\",\"outputs\":[],\"stateMutability\":\"nonpayable\",\"type\":\"function\"}];\n",
    "var _bin = '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';\n",
    "var _contract = new web3.eth.Contract(_abiArray);\n",
    "\n",
    "_contract\n",
    "    .deploy({data: '0x'+_bin})\n",
    "    .send({from: '0xb33ba1622c164Cd85baA770De1a51b6d3DC5f0FC',\n",
    "           gas: '494750',\n",
    "           //gasPrice: '1000000000'\n",
    "          })\n",
    "    .then(function(newContractInstance) {\n",
    "        console.log(newContractInstance.options.address);\n",
    "    });"
   ]
  },
  {
   "cell_type": "code",
   "execution_count": 9,
   "id": "d611475b-dccb-43aa-b1c4-efdc7fc63310",
   "metadata": {},
   "outputs": [
    {
     "name": "stdout",
     "output_type": "stream",
     "text": [
      "0x1Cfc7AA0a01fF625472C77B454f01AB2C183fEac\n"
     ]
    }
   ],
   "source": [
    "!node src/greeterDeploy.js"
   ]
  },
  {
   "cell_type": "code",
   "execution_count": 12,
   "id": "8b034631-bc6e-4796-a4ef-4739600ad75c",
   "metadata": {},
   "outputs": [
    {
     "name": "stdout",
     "output_type": "stream",
     "text": [
      "Overwriting src/greeterUse.js\n"
     ]
    }
   ],
   "source": [
    "%%writefile src/greeterUse.js\n",
    "var Web3 = require('web3');\n",
    "var web3 = new Web3('http://localhost:8345');\n",
    "\n",
    "var _abiArray = [{\"inputs\":[],\"stateMutability\":\"nonpayable\",\"type\":\"constructor\"},{\"inputs\":[],\"name\":\"greet\",\"outputs\":[{\"internalType\":\"string\",\"name\":\"\",\"type\":\"string\"}],\"stateMutability\":\"view\",\"type\":\"function\"},{\"inputs\":[{\"internalType\":\"string\",\"name\":\"_greeting\",\"type\":\"string\"}],\"name\":\"setGreeting\",\"outputs\":[],\"stateMutability\":\"nonpayable\",\"type\":\"function\"}];\n",
    "var greeter = new web3.eth.Contract(_abiArray, \"0x1Cfc7AA0a01fF625472C77B454f01AB2C183fEac\");\n",
    "\n",
    "greeter.methods.greet().call().then(function(value) {console.log(value);});\n",
    "greeter.methods.setGreeting(\"Hello SMU\").send({from:\"0xb33ba1622c164Cd85baA770De1a51b6d3DC5f0FC\",gas:100000});\n",
    "greeter.methods.greet().call().then(function(value) {console.log(value);});\n",
    "\n"
   ]
  },
  {
   "cell_type": "code",
   "execution_count": 13,
   "id": "c2be813e-23c8-421c-96c1-53bb07c0152a",
   "metadata": {},
   "outputs": [
    {
     "name": "stdout",
     "output_type": "stream",
     "text": [
      "Hello\n",
      "Hello\n"
     ]
    }
   ],
   "source": [
    "!node src/greeterUse.js"
   ]
  },
  {
   "cell_type": "code",
   "execution_count": 14,
   "id": "5b340467-b1db-4160-bfb1-41eff3929f56",
   "metadata": {},
   "outputs": [
    {
     "name": "stdout",
     "output_type": "stream",
     "text": [
      "Overwriting src/Counter.sol\n"
     ]
    }
   ],
   "source": [
    "%%writefile src/Counter.sol\n",
    "// SPDX-License-Identifier: GPL-3.0\n",
    "pragma solidity ^0.8.0;\n",
    "contract Counter {\n",
    "    uint256 counter = 0;\n",
    "    function add() public {\n",
    "        counter++;\n",
    "    }\n",
    "    function subtract() public {\n",
    "        counter--;\n",
    "    }\n",
    "    function getCounter() public view returns (uint256) {\n",
    "        return counter;\n",
    "    }\n",
    "}"
   ]
  },
  {
   "cell_type": "code",
   "execution_count": 15,
   "id": "fd25eb09-2ced-4f4f-8a95-4a6e5518dbc6",
   "metadata": {},
   "outputs": [
    {
     "name": "stdout",
     "output_type": "stream",
     "text": [
      "\n",
      "======= src/Counter.sol:Counter =======\n",
      "Gas estimation:\n",
      "construction:\n",
      "   5138 + 86200 = 91338\n",
      "external:\n",
      "   add():\t24475\n",
      "   getCounter():\t2454\n",
      "   subtract():\t24496\n",
      "Binary:\n",
      "60806040525f8055348015610012575f80fd5b506101af806100205f395ff3fe608060405234801561000f575f80fd5b506004361061003f575f3560e01c80634f2be91f146100435780636deebae31461004d5780638ada066e14610057575b5f80fd5b61004b610075565b005b61005561008d565b005b61005f6100a5565b60405161006c91906100c5565b60405180910390f35b5f808154809291906100869061010b565b9190505550565b5f8081548092919061009e90610152565b9190505550565b5f8054905090565b5f819050919050565b6100bf816100ad565b82525050565b5f6020820190506100d85f8301846100b6565b92915050565b7f4e487b71000000000000000000000000000000000000000000000000000000005f52601160045260245ffd5b5f610115826100ad565b91507fffffffffffffffffffffffffffffffffffffffffffffffffffffffffffffffff8203610147576101466100de565b5b600182019050919050565b5f61015c826100ad565b91505f820361016e5761016d6100de565b5b60018203905091905056fea2646970667358221220b5664e8d3d6cae2e97d9e492d6b940b71544fc960557b6a45f850f7143b0cd2164736f6c63430008180033\n",
      "Contract JSON ABI\n",
      "[{\"inputs\":[],\"name\":\"add\",\"outputs\":[],\"stateMutability\":\"nonpayable\",\"type\":\"function\"},{\"inputs\":[],\"name\":\"getCounter\",\"outputs\":[{\"internalType\":\"uint256\",\"name\":\"\",\"type\":\"uint256\"}],\"stateMutability\":\"view\",\"type\":\"function\"},{\"inputs\":[],\"name\":\"subtract\",\"outputs\":[],\"stateMutability\":\"nonpayable\",\"type\":\"function\"}]\n"
     ]
    }
   ],
   "source": [
    "!solc-windows.exe --abi --bin --gas src/Counter.sol"
   ]
  },
  {
   "cell_type": "code",
   "execution_count": 16,
   "id": "ab475985-3b6a-41a7-986e-a79eac55f51a",
   "metadata": {},
   "outputs": [
    {
     "name": "stdout",
     "output_type": "stream",
     "text": [
      "Overwriting src/counterDeploy.js\n"
     ]
    }
   ],
   "source": [
    "%%writefile src/counterDeploy.js\n",
    "var Web3=require('web3');\n",
    "var web3=new Web3('http://localhost:8345');\n",
    "\n",
    "var _abi = [{\"inputs\":[],\"name\":\"add\",\"outputs\":[],\"stateMutability\":\"nonpayable\",\"type\":\"function\"},{\"inputs\":[],\"name\":\"getCounter\",\"outputs\":[{\"internalType\":\"uint256\",\"name\":\"\",\"type\":\"uint256\"}],\"stateMutability\":\"view\",\"type\":\"function\"},{\"inputs\":[],\"name\":\"subtract\",\"outputs\":[],\"stateMutability\":\"nonpayable\",\"type\":\"function\"}];\n",
    "var _bin = '60806040525f8055348015610012575f80fd5b506101af806100205f395ff3fe608060405234801561000f575f80fd5b506004361061003f575f3560e01c80634f2be91f146100435780636deebae31461004d5780638ada066e14610057575b5f80fd5b61004b610075565b005b61005561008d565b005b61005f6100a5565b60405161006c91906100c5565b60405180910390f35b5f808154809291906100869061010b565b9190505550565b5f8081548092919061009e90610152565b9190505550565b5f8054905090565b5f819050919050565b6100bf816100ad565b82525050565b5f6020820190506100d85f8301846100b6565b92915050565b7f4e487b71000000000000000000000000000000000000000000000000000000005f52601160045260245ffd5b5f610115826100ad565b91507fffffffffffffffffffffffffffffffffffffffffffffffffffffffffffffffff8203610147576101466100de565b5b600182019050919050565b5f61015c826100ad565b91505f820361016e5761016d6100de565b5b60018203905091905056fea2646970667358221220b5664e8d3d6cae2e97d9e492d6b940b71544fc960557b6a45f850f7143b0cd2164736f6c63430008180033';\n",
    "\n",
    "var _contract = new web3.eth.Contract(_abi);\n",
    "_contract\n",
    "    .deploy({data: '0x'+_bin})\n",
    "    .send({from: '0xb33ba1622c164Cd85baA770De1a51b6d3DC5f0FC', gas: 364124, gasPrice:'1000000000'})\n",
    "    .then(function(newContractInstance) {\n",
    "        console.log(newContractInstance.options.address)\n",
    "    });"
   ]
  },
  {
   "cell_type": "code",
   "execution_count": 17,
   "id": "a90f57c5-ce0b-4345-8c3e-1798538938e4",
   "metadata": {},
   "outputs": [
    {
     "name": "stdout",
     "output_type": "stream",
     "text": [
      "0xe13374D806DDb4A412800512c67402002f02C470\n"
     ]
    }
   ],
   "source": [
    "!node src/counterDeploy.js"
   ]
  },
  {
   "cell_type": "code",
   "execution_count": 20,
   "id": "affeb1b2-f26d-4f31-a189-4870e24c8b0c",
   "metadata": {},
   "outputs": [
    {
     "name": "stdout",
     "output_type": "stream",
     "text": [
      "Overwriting src/counterUse.js\n"
     ]
    }
   ],
   "source": [
    "%%writefile src/counterUse.js\n",
    "var Web3=require('web3');\n",
    "var web3=new Web3('http://localhost:8345');\n",
    "\n",
    "var abi = [{\"inputs\":[],\"name\":\"add\",\"outputs\":[],\"stateMutability\":\"nonpayable\",\"type\":\"function\"},{\"inputs\":[],\"name\":\"getCounter\",\"outputs\":[{\"internalType\":\"uint256\",\"name\":\"\",\"type\":\"uint256\"}],\"stateMutability\":\"view\",\"type\":\"function\"},{\"inputs\":[],\"name\":\"subtract\",\"outputs\":[],\"stateMutability\":\"nonpayable\",\"type\":\"function\"}];\n",
    "var addr = '0xe13374D806DDb4A412800512c67402002f02C470';\n",
    "var counter = new web3.eth.Contract(abi, addr);\n",
    "\n",
    "counter.methods.getCounter().call().then(function(str) {console.log(str)});\n",
    "counter.methods.add().send({from: '0xb33ba1622c164Cd85baA770De1a51b6d3DC5f0FC', gas:100000});\n",
    "counter.methods.add().send({from: '0xb33ba1622c164Cd85baA770De1a51b6d3DC5f0FC', gas:100000});\n",
    "counter.methods.getCounter().call().then(function(str) {console.log(str)});"
   ]
  },
  {
   "cell_type": "code",
   "execution_count": 21,
   "id": "157dc400-0036-4cd9-8d7e-4e30fa930339",
   "metadata": {},
   "outputs": [
    {
     "name": "stdout",
     "output_type": "stream",
     "text": [
      "2\n",
      "2\n"
     ]
    }
   ],
   "source": [
    "!node src/counterUse.js"
   ]
  },
  {
   "cell_type": "code",
   "execution_count": 1,
   "id": "2a04db3f-6433-4572-bd71-4ed9c85e588e",
   "metadata": {},
   "outputs": [
    {
     "name": "stdout",
     "output_type": "stream",
     "text": [
      "Overwriting src/Timer.sol\n"
     ]
    }
   ],
   "source": [
    "%%writefile src/Timer.sol\n",
    "// SPDX-License-Identifier: GPL-3.0\n",
    "pragma solidity ^0.8.0;\n",
    "contract Timer {\n",
    "    uint256 startTime;\n",
    "    function start() public {\n",
    "        startTime = block.timestamp;\n",
    "    }\n",
    "    function timePassed() public view returns(uint256) {\n",
    "        return block.timestamp - startTime;\n",
    "    }\n",
    "    function getNow() view public returns(uint) {\n",
    "        return block.timestamp;\n",
    "    }\n",
    "}"
   ]
  },
  {
   "cell_type": "code",
   "execution_count": 2,
   "id": "cc7dbccd-0d85-4e1f-87ef-0f1714329b98",
   "metadata": {},
   "outputs": [],
   "source": [
    "!solc-windows.exe --optimize --combined-json abi,bin src/Timer.sol > src/Timer.json"
   ]
  },
  {
   "cell_type": "code",
   "execution_count": 3,
   "id": "57751134-42cf-4743-9ecb-33e213c83f48",
   "metadata": {},
   "outputs": [
    {
     "name": "stdout",
     "output_type": "stream",
     "text": [
      "{\"contracts\":{\"src/Timer.sol:Timer\":{\"abi\":[{\"inputs\":[],\"name\":\"getNow\",\"outputs\":[{\"internalType\":\"uint256\",\"name\":\"\",\"type\":\"uint256\"}],\"stateMutability\":\"view\",\"type\":\"function\"},{\"inputs\":[],\"name\":\"start\",\"outputs\":[],\"stateMutability\":\"nonpayable\",\"type\":\"function\"},{\"inputs\":[],\"name\":\"timePassed\",\"outputs\":[{\"internalType\":\"uint256\",\"name\":\"\",\"type\":\"uint256\"}],\"stateMutability\":\"view\",\"type\":\"function\"}],\"bin\":\"608060405234801561000f575f80fd5b5060ce8061001c5f395ff3fe6080604052348015600e575f80fd5b5060043610603a575f3560e01c8063b445425314603e578063bbe4fd50146056578063be9a655514605b575b5f80fd5b60446064565b60405190815260200160405180910390f35b426044565b6062425f55565b005b5f8054606f90426074565b905090565b81810381811115609257634e487b7160e01b5f52601160045260245ffd5b9291505056fea264697066735822122055b839ba3b522956e2c5b986488b2916650d1b342c2e4e82310fa001a8ff6e1c64736f6c63430008180033\"}},\"version\":\"0.8.24+commit.e11b9ed9.Windows.msvc\"}\n"
     ]
    }
   ],
   "source": [
    "!type src\\Timer.json"
   ]
  },
  {
   "cell_type": "code",
   "execution_count": 4,
   "id": "112f4b79-1228-4b36-814a-08152e60b315",
   "metadata": {},
   "outputs": [
    {
     "name": "stdout",
     "output_type": "stream",
     "text": [
      "Overwriting src/TimerImportTest.js\n"
     ]
    }
   ],
   "source": [
    "%%writefile src/TimerImportTest.js\n",
    "const _abiBinJson = require('./Timer.json');\n",
    "contractName = Object.keys(_abiBinJson.contracts);\n",
    "\n",
    "console.log('- contract name: ', contractName);\n",
    "_abi = _abiBinJson.contracts[contractName].abi;\n",
    "_abiArray = JSON.parse(JSON.stringify(_abi));\n",
    "_bin = _abiBinJson.contracts[contractName].bin;\n",
    "\n",
    "console.log(\"- ABI: \", _abi);\n",
    "console.log(\"- ABIArray: \", _abiArray);\n",
    "console.log(\"- Bytecode: \", _bin);"
   ]
  },
  {
   "cell_type": "code",
   "execution_count": 5,
   "id": "4a02cf1c-dc34-459b-97ec-9a51d5b5aa64",
   "metadata": {},
   "outputs": [
    {
     "name": "stdout",
     "output_type": "stream",
     "text": [
      "- contract name:  [ \u001b[32m'src/Timer.sol:Timer'\u001b[39m ]\n",
      "- ABI:  [\n",
      "  {\n",
      "    inputs: [],\n",
      "    name: \u001b[32m'getNow'\u001b[39m,\n",
      "    outputs: [ \u001b[36m[Object]\u001b[39m ],\n",
      "    stateMutability: \u001b[32m'view'\u001b[39m,\n",
      "    type: \u001b[32m'function'\u001b[39m\n",
      "  },\n",
      "  {\n",
      "    inputs: [],\n",
      "    name: \u001b[32m'start'\u001b[39m,\n",
      "    outputs: [],\n",
      "    stateMutability: \u001b[32m'nonpayable'\u001b[39m,\n",
      "    type: \u001b[32m'function'\u001b[39m\n",
      "  },\n",
      "  {\n",
      "    inputs: [],\n",
      "    name: \u001b[32m'timePassed'\u001b[39m,\n",
      "    outputs: [ \u001b[36m[Object]\u001b[39m ],\n",
      "    stateMutability: \u001b[32m'view'\u001b[39m,\n",
      "    type: \u001b[32m'function'\u001b[39m\n",
      "  }\n",
      "]\n",
      "- ABIArray:  [\n",
      "  {\n",
      "    inputs: [],\n",
      "    name: \u001b[32m'getNow'\u001b[39m,\n",
      "    outputs: [ \u001b[36m[Object]\u001b[39m ],\n",
      "    stateMutability: \u001b[32m'view'\u001b[39m,\n",
      "    type: \u001b[32m'function'\u001b[39m\n",
      "  },\n",
      "  {\n",
      "    inputs: [],\n",
      "    name: \u001b[32m'start'\u001b[39m,\n",
      "    outputs: [],\n",
      "    stateMutability: \u001b[32m'nonpayable'\u001b[39m,\n",
      "    type: \u001b[32m'function'\u001b[39m\n",
      "  },\n",
      "  {\n",
      "    inputs: [],\n",
      "    name: \u001b[32m'timePassed'\u001b[39m,\n",
      "    outputs: [ \u001b[36m[Object]\u001b[39m ],\n",
      "    stateMutability: \u001b[32m'view'\u001b[39m,\n",
      "    type: \u001b[32m'function'\u001b[39m\n",
      "  }\n",
      "]\n",
      "- Bytecode:  608060405234801561000f575f80fd5b5060ce8061001c5f395ff3fe6080604052348015600e575f80fd5b5060043610603a575f3560e01c8063b445425314603e578063bbe4fd50146056578063be9a655514605b575b5f80fd5b60446064565b60405190815260200160405180910390f35b426044565b6062425f55565b005b5f8054606f90426074565b905090565b81810381811115609257634e487b7160e01b5f52601160045260245ffd5b9291505056fea264697066735822122055b839ba3b522956e2c5b986488b2916650d1b342c2e4e82310fa001a8ff6e1c64736f6c63430008180033\n"
     ]
    }
   ],
   "source": [
    "!node src/TimerImportTest.js"
   ]
  },
  {
   "cell_type": "code",
   "execution_count": 6,
   "id": "0385fec6-3eec-4831-9aba-8eb36cde44cf",
   "metadata": {},
   "outputs": [
    {
     "name": "stdout",
     "output_type": "stream",
     "text": [
      "Overwriting src/TimerDeployAbiBinFromFile.js\n"
     ]
    }
   ],
   "source": [
    "%%writefile src/TimerDeployAbiBinFromFile.js\n",
    "var Web3 = require('web3');\n",
    "var web3 = new Web3('http://localhost:8345');\n",
    "\n",
    "_abiBinJson = require('./Timer.json');\n",
    "contractName = Object.keys(_abiBinJson.contracts);\n",
    "_abi = _abiBinJson.contracts[contractName].abi;\n",
    "_bin = _abiBinJson.contracts[contractName].bin;\n",
    "\n",
    "console.log(\"- ABI: \" + _abi);\n",
    "console.log(\"- Bytecode: \" + _bin);\n",
    "\n",
    "async function deploy() {\n",
    "    const accounts = await web3.eth.getAccounts();\n",
    "    console.log(\"\\nDeploying the contract from \" + accounts[0]);\n",
    "    var deployed = await new web3.eth.Contract(_abi)\n",
    "        .deploy({data: '0x'+_bin})\n",
    "        .send({from: accounts[0], gas: 364124}, function(err, transactionHash) {\n",
    "            if(!err) console.log('\\nhash: ' + transactionHash);\n",
    "        })\n",
    "        .then(function(newContractInstance) {\n",
    "            console.log(\"---> The contract deployed to: \" + newContractInstance.options.address);\n",
    "        })\n",
    "}\n",
    "\n",
    "deploy()"
   ]
  },
  {
   "cell_type": "code",
   "execution_count": 7,
   "id": "87459456-f404-4b03-ba4b-2b0728693a65",
   "metadata": {},
   "outputs": [
    {
     "name": "stdout",
     "output_type": "stream",
     "text": [
      "- ABI: [object Object],[object Object],[object Object]\n",
      "- Bytecode: 608060405234801561000f575f80fd5b5060ce8061001c5f395ff3fe6080604052348015600e575f80fd5b5060043610603a575f3560e01c8063b445425314603e578063bbe4fd50146056578063be9a655514605b575b5f80fd5b60446064565b60405190815260200160405180910390f35b426044565b6062425f55565b005b5f8054606f90426074565b905090565b81810381811115609257634e487b7160e01b5f52601160045260245ffd5b9291505056fea264697066735822122055b839ba3b522956e2c5b986488b2916650d1b342c2e4e82310fa001a8ff6e1c64736f6c63430008180033\n",
      "\n",
      "Deploying the contract from 0xeB50ba7f372633028E3A28c838DdE992A17C61b6\n",
      "\n",
      "hash: 0xaf3679d0d8d9108054ae0ff4bf3f823c0e68ab74bc936c8587f8cf85258b32be\n",
      "---> The contract deployed to: 0x5fB1b59320163A62015f1A9B8B326Cd406c2E43A\n"
     ]
    }
   ],
   "source": [
    "!node src/TimerDeployAbiBinFromFile.js"
   ]
  },
  {
   "cell_type": "code",
   "execution_count": 16,
   "id": "57a508d6-bbff-4728-a521-69077bb4d326",
   "metadata": {},
   "outputs": [
    {
     "name": "stdout",
     "output_type": "stream",
     "text": [
      "Overwriting src/TimerUse.js\n"
     ]
    }
   ],
   "source": [
    "%%writefile src/TimerUse.js\n",
    "var Web3 = require('web3');\n",
    "var web3 = new Web3('http://localhost:8345');\n",
    "\n",
    "var _abiBinJson = require('./Timer.json');\n",
    "contractName = Object.keys(_abiBinJson.contracts);\n",
    "abi = _abiBinJson.contracts[contractName].abi;\n",
    "addr = '0x5fB1b59320163A62015f1A9B8B326Cd406c2E43A'\n",
    "\n",
    "var timer = new web3.eth.Contract(abi, addr);\n",
    "\n",
    "async function doIt() {\n",
    "    const accounts = await web3.eth.getAccounts();\n",
    "    console.log(\"Call from: \" + accounts[0]);\n",
    "    await timer.methods.getNow().call().then(function(str) {console.log(\"Now: \", str)});\n",
    "    await timer.methods.start().send({from: accounts[0], gas:100000});\n",
    "    await 4000;\n",
    "    await timer.methods.timePassed().call().then(function(str) {console.log(\"Passed: \", str)});\n",
    "}\n",
    "\n",
    "doIt();"
   ]
  },
  {
   "cell_type": "code",
   "execution_count": 17,
   "id": "fea63a25-1724-46d3-bdfc-853e966dcb28",
   "metadata": {},
   "outputs": [
    {
     "name": "stdout",
     "output_type": "stream",
     "text": [
      "Call from: 0xeB50ba7f372633028E3A28c838DdE992A17C61b6\n",
      "Now:  1716444210\n",
      "Passed:  0\n"
     ]
    }
   ],
   "source": [
    "!node src/TimerUse.js"
   ]
  },
  {
   "cell_type": "code",
   "execution_count": 19,
   "id": "827ae7df-0cdc-40a7-adae-dbc413bad4b6",
   "metadata": {},
   "outputs": [
    {
     "name": "stdout",
     "output_type": "stream",
     "text": [
      "Overwriting src/IntBool.sol\n"
     ]
    }
   ],
   "source": [
    "%%writefile src/IntBool.sol\n",
    "//SPDX-License-Identifier: GPL-3.0-or-later\n",
    "pragma solidity ^0.8.0;\n",
    "\n",
    "contract IntBoolTest {\n",
    "    bool married = true;\n",
    "    uint256 xAge = 22;\n",
    "    uint256 yAge = 25;\n",
    "    //fixed phi; // = 3.14; // 선언만 가능\n",
    "    function update() public {\n",
    "        xAge = yAge;\n",
    "        yAge = 33;\n",
    "    }\n",
    "    function setXAge(int age) public {\n",
    "        xAge = uint(age);  //type conversion\n",
    "    }\n",
    "    function getXAge() public view returns(uint) {\n",
    "        return xAge;\n",
    "    }\n",
    "    function getYAge() public view returns(uint) {\n",
    "        return yAge;\n",
    "    }\n",
    "    function testInt() public view returns(bool) {\n",
    "        assert(xAge>=20 && yAge>=20);\n",
    "        return true;\n",
    "    }\n",
    "    function isMarried() public view returns(bool) {\n",
    "        return married;\n",
    "    }\n",
    "}"
   ]
  },
  {
   "cell_type": "code",
   "execution_count": 20,
   "id": "90de8812-fe59-44c4-b7da-72defda2c9ea",
   "metadata": {},
   "outputs": [
    {
     "name": "stdout",
     "output_type": "stream",
     "text": [
      "Compiler run successful. No output generated.\n"
     ]
    }
   ],
   "source": [
    "!solc-windows.exe src/IntBool.sol"
   ]
  },
  {
   "cell_type": "code",
   "execution_count": 31,
   "id": "f06f1e0a-2c48-48f1-8113-1a46b436be59",
   "metadata": {},
   "outputs": [
    {
     "name": "stdout",
     "output_type": "stream",
     "text": [
      "Overwriting src/ByteStringTest.sol\n"
     ]
    }
   ],
   "source": [
    "%%writefile src/ByteStringTest.sol\n",
    "//SPDX-License-Identifier: GPL-3.0-or-later\n",
    "pragma solidity ^0.8.0;\n",
    "\n",
    "contract ByteStringTest {\n",
    "    bytes1 b1 = 0xFF;\n",
    "    bytes2 b2 = 0xFFAA;\n",
    "    bytes8 place8 = \"7 hongji\";\n",
    "    bytes23 place23 = \"7 hongji-dong jongro-gu\";\n",
    "    bytes place = \"7 hongji-dong jongro-gu Seoul\"; // 가변길이\n",
    "    bytes myBytes = new bytes(3); // 0x000000\n",
    "    string constant name = \"jsl\"; // utf-8 문자열\n",
    "    function getB1() public view returns(bytes1) {\n",
    "        return b1;\n",
    "    }\n",
    "    function getB2() public view returns(bytes2) {\n",
    "        return b2;\n",
    "    }\n",
    "    function getB23() public view returns(bytes23) {\n",
    "        return place23;\n",
    "    }\n",
    "    function getBytes() public view returns(bytes memory) {\n",
    "        return myBytes;\n",
    "    }\n",
    "    function getLengOfBytes23() public view returns(uint) {\n",
    "        return place23.length;\n",
    "    }\n",
    "    function getLenOfBytes() pure public returns(uint) {\n",
    "        bytes memory bm = \"7 hongji-dong jongro-gu\";\n",
    "        return bm.length;\n",
    "    }\n",
    "    function setB2(bytes2 _b2) public {\n",
    "        b2 = _b2;\n",
    "    }\n",
    "    function setBytes() public{\n",
    "        myBytes = \"smu\";\n",
    "    }\n",
    "    function getLenOfString() pure public returns(uint) {\n",
    "        string memory nameLocal = \"jslLocal\";\n",
    "        return bytes(nameLocal).length;\n",
    "    }\n",
    "    function getString() pure public returns(string memory) {\n",
    "        string memory s = \"\\xec\\x95\\x88\\xeb\\x85\\x95\";\n",
    "        return s;\n",
    "    }\n",
    "}"
   ]
  },
  {
   "cell_type": "code",
   "execution_count": 32,
   "id": "a93d3c28-d7f6-4692-9d58-926d507e7cbf",
   "metadata": {},
   "outputs": [
    {
     "name": "stdout",
     "output_type": "stream",
     "text": [
      "Compiler run successful. No output generated.\n"
     ]
    }
   ],
   "source": [
    "!solc-windows.exe src/ByteStringTest.sol"
   ]
  },
  {
   "cell_type": "code",
   "execution_count": 5,
   "id": "04063757-60cc-4b77-be97-9fc73a0f24ba",
   "metadata": {},
   "outputs": [
    {
     "name": "stdout",
     "output_type": "stream",
     "text": [
      "Overwriting src/StructTest.sol\n"
     ]
    }
   ],
   "source": [
    "%%writefile src/StructTest.sol\n",
    "//SPDX-License-Identifier: GPL-3.0-or-later\n",
    "pragma solidity ^0.8.0;\n",
    "\n",
    "contract StructTest {\n",
    "    struct Student {\n",
    "        uint num;\n",
    "        string name;\n",
    "        bool isEnrolled;\n",
    "    }\n",
    "    Student s1 = Student(202010818, \"yscho\", true);\n",
    "    Student s2;\n",
    "\n",
    "    function setStudent2(uint n, string memory sn, bool e) public {\n",
    "        s2.num = n;\n",
    "        s2.name = sn;\n",
    "        s2.isEnrolled = e;\n",
    "    }\n",
    "    function getStudent1() public view returns(uint, string memory, bool) {\n",
    "        return (s1.num, s1.name, s1.isEnrolled);\n",
    "    }\n",
    "    function getStudent2() public view returns(uint, string memory, bool) {\n",
    "        return (s2.num, s2.name, s2.isEnrolled);\n",
    "    }\n",
    "    function getStudentName() pure public returns(string memory) {\n",
    "        Student memory s3 = Student(201911112, \"jsl3\", true);\n",
    "        return s3.name;\n",
    "    }\n",
    "}"
   ]
  },
  {
   "cell_type": "code",
   "execution_count": 6,
   "id": "441f6fe9-4f4e-47bf-9fe4-6cdc0ba46c43",
   "metadata": {},
   "outputs": [
    {
     "name": "stdout",
     "output_type": "stream",
     "text": [
      "Compiler run successful. No output generated.\n"
     ]
    }
   ],
   "source": [
    "!solc-windows.exe src/StructTest.sol"
   ]
  },
  {
   "cell_type": "code",
   "execution_count": 7,
   "id": "3a109747-3f28-4c78-a833-b5e531416db5",
   "metadata": {},
   "outputs": [
    {
     "name": "stdout",
     "output_type": "stream",
     "text": [
      "Overwriting src/EnumTest.sol\n"
     ]
    }
   ],
   "source": [
    "%%writefile src/EnumTest.sol\n",
    "//SPDX-License-Identifier: GPL-3.0-or-later\n",
    "pragma solidity ^0.8.0;\n",
    "\n",
    "contract EnumTest {\n",
    "    enum Day {MONDAY,TUESDAY,WEDNESDAY,THURSDAY,FRIDAY,SATURDAY,SUNDAY}\n",
    "    Day myDay = Day.FRIDAY;\n",
    "\n",
    "    function getMyDay() public view returns(Day) {\n",
    "        return myDay;\n",
    "    }\n",
    "    function setMyDay(Day d) public {\n",
    "        myDay = d;\n",
    "    }\n",
    "    function setMyDayInt(uint d) public {\n",
    "        myDay = Day(d);\n",
    "    }\n",
    "}"
   ]
  },
  {
   "cell_type": "code",
   "execution_count": 8,
   "id": "c8cde920-03fc-46de-9938-f4f3fb451657",
   "metadata": {},
   "outputs": [
    {
     "name": "stdout",
     "output_type": "stream",
     "text": [
      "Compiler run successful. No output generated.\n"
     ]
    }
   ],
   "source": [
    "!solc-windows.exe src/EnumTest.sol"
   ]
  },
  {
   "cell_type": "code",
   "execution_count": 15,
   "id": "97719c05-7797-4ca5-b715-0c55caad77bf",
   "metadata": {},
   "outputs": [
    {
     "name": "stdout",
     "output_type": "stream",
     "text": [
      "Overwriting src/ArrayTest.sol\n"
     ]
    }
   ],
   "source": [
    "%%writefile src/ArrayTest.sol\n",
    "//SPDX-License-Identifier: GPL-3.0-or-later\n",
    "pragma solidity ^0.8.0;\n",
    "\n",
    "contract ArrayTest {\n",
    "    uint[3] ages = [15, 25, 35]; //고정배열\n",
    "    int[] marks; //동적배열\n",
    "\n",
    "    function updateAges(uint index, uint val) public {\n",
    "        if (index >= 0 && index <= 2)\n",
    "            ages[index] = val;\n",
    "    }\n",
    "    function initMarks() public {\n",
    "        marks = new int[](5); // 5개의 요소 생성, 기본 값은 0으로 설정\n",
    "    }\n",
    "    function appendMark(int mark) public {\n",
    "        marks.push(mark);\n",
    "    }\n",
    "    function popMark() public {\n",
    "        marks.pop();\n",
    "    }\n",
    "    function getMarks() public view returns(int[] memory) {\n",
    "        return marks;\n",
    "    }\n",
    "    function getAges() public view returns(uint[3] memory) {\n",
    "        return ages;\n",
    "    }\n",
    "    function getLenOfArr() pure public returns(uint) {\n",
    "        uint8[3] memory arr = [0, 1, 2];\n",
    "        return arr.length;\n",
    "    }\n",
    "        \n",
    "}"
   ]
  },
  {
   "cell_type": "code",
   "execution_count": 16,
   "id": "d1f41019-228b-4efc-a2ed-7bc41ee855bc",
   "metadata": {},
   "outputs": [
    {
     "name": "stdout",
     "output_type": "stream",
     "text": [
      "Compiler run successful. No output generated.\n"
     ]
    }
   ],
   "source": [
    "!solc-windows.exe src/ArrayTest.sol"
   ]
  },
  {
   "cell_type": "code",
   "execution_count": 17,
   "id": "64c6c457-7a8d-4944-8c6f-c96e402488a5",
   "metadata": {},
   "outputs": [
    {
     "name": "stdout",
     "output_type": "stream",
     "text": [
      "Overwriting src/AddressTest.sol\n"
     ]
    }
   ],
   "source": [
    "%%writefile src/AddressTest.sol\n",
    "//SPDX-License-Identifier: GPL-3.0-or-later\n",
    "pragma solidity ^0.8.0;\n",
    "\n",
    "contract AddressTest {\n",
    "    address owner;\n",
    "    address payable receiver; // 수신 계정\n",
    "    uint balanceOfOwner;\n",
    "\n",
    "    constructor() {\n",
    "        owner = msg.sender;\n",
    "        balanceOfOwner = owner.balance; // 잔고 설정\n",
    "    }\n",
    "    function deposit() payable public {\n",
    "        // payable로 선언하여, 코드가 없어도 입금이 된다.\n",
    "    }\n",
    "    function setReceiver(address payable addr) public {\n",
    "        receiver = addr;\n",
    "    }\n",
    "    function getReceiver() public view returns(address) {\n",
    "        return receiver;\n",
    "    }\n",
    "    function getBalanceOfThis() public view returns(uint) {\n",
    "        return address(this).balance; // 컨트랙 자체의 잔고\n",
    "    }\n",
    "    function getBalanceOfOwner() public view returns(uint) {\n",
    "        return owner.balance;\n",
    "    }\n",
    "    function getBalanceOfReceiver() public view returns(uint) {\n",
    "        return receiver.balance;\n",
    "    }\n",
    "    function send() public payable {\n",
    "        require(receiver.send(111)); // 111 wei를 receiver로 송금. require()로 예외처리\n",
    "    }\n",
    "    function transfer() public payable {\n",
    "        receiver.transfer(11111);\n",
    "    }\n",
    "    function callValue() public payable {\n",
    "        (bool success, ) = receiver.call{value: 11111}(\"\"); // gas를 적어주지 않으면 실제 사용량 지급\n",
    "        require(success, \"transfer call failed.\");\n",
    "        (success, ) = receiver.call{gas: 10, value: 11111}(\"\"); //gas를 적게 설정하고 테스트\n",
    "        require(success, \"transfer call failed with gas 10.\");\n",
    "    }\n",
    "}"
   ]
  },
  {
   "cell_type": "code",
   "execution_count": 18,
   "id": "11992b48-05b4-4d47-a223-414febdbf388",
   "metadata": {},
   "outputs": [
    {
     "name": "stdout",
     "output_type": "stream",
     "text": [
      "Compiler run successful. No output generated.\n"
     ]
    }
   ],
   "source": [
    "!solc-windows.exe src/AddressTest.sol"
   ]
  },
  {
   "cell_type": "code",
   "execution_count": 19,
   "id": "572a8bf2-039d-46b2-81f9-0397015383bc",
   "metadata": {},
   "outputs": [
    {
     "name": "stdout",
     "output_type": "stream",
     "text": [
      "Writing src/AbiTest.sol\n"
     ]
    }
   ],
   "source": [
    "%%writefile src/AbiTest.sol\n",
    "//SPDX-License-Identifier: GPL-3.0-or-later\n",
    "pragma solidity ^0.8.0;\n",
    "\n",
    "contract AbiTest {\n",
    "    function encodeUint(uint256 _uint) public pure returns(bytes memory) {\n",
    "        return abi.encode(_uint);\n",
    "    }\n",
    "    function encodeAddress(address addr) public pure returns(bytes memory) {\n",
    "        return abi.encode(addr);\n",
    "    }\n",
    "    function encodeString(string memory s) public pure returns(bytes memory) {\n",
    "        return abi.encode(s);\n",
    "    }\n",
    "    function encodePackedString(string memory s) public pure returns(bytes memory) {\n",
    "        return abi.encodePacked(s);\n",
    "    }\n",
    "    function encodePackedStringConcat(string memory s1, string memory s2) public pure returns(bytes memory) {\n",
    "        return abi.encodePacked(string.concat(s1,s2));\n",
    "    }\n",
    "    function encodeBytes(bytes memory b) public pure returns(bytes memory) {\n",
    "        return abi.encode(b);\n",
    "    }\n",
    "    function encodePackedBytes(bytes memory b) public pure returns(bytes memory) {\n",
    "        return abi.encodePacked(b);\n",
    "    }\n",
    "    function encodePackedBytes2String(bytes  memory b)  public  pure  returns(string  memory)  {\n",
    "\t\treturn  string(abi.encodePacked(b));\n",
    "\t}\n",
    "}"
   ]
  },
  {
   "cell_type": "code",
   "execution_count": 20,
   "id": "f5755d8a-3308-45c3-a5a3-c51c7dc5629e",
   "metadata": {},
   "outputs": [
    {
     "name": "stdout",
     "output_type": "stream",
     "text": [
      "Compiler run successful. No output generated.\n"
     ]
    }
   ],
   "source": [
    "!solc-windows.exe src/AbiTest.sol"
   ]
  },
  {
   "cell_type": "code",
   "execution_count": 15,
   "id": "cf39fa1e-4a8e-4825-a46b-c8f2d927cc22",
   "metadata": {},
   "outputs": [
    {
     "name": "stdout",
     "output_type": "stream",
     "text": [
      "Overwriting src/MyBank.sol\n"
     ]
    }
   ],
   "source": [
    "%%writefile src/MyBank.sol\n",
    "//SPDX-License-Identifier:GPL-3.0-or-later\n",
    "pragma solidity ^0.8.0;\n",
    "\n",
    "contract MyBank {\n",
    "    address owner;\n",
    "    uint balance;\n",
    "    constructor() {\n",
    "        owner = msg.sender;\n",
    "        balance = address(this).balance;\n",
    "    }\n",
    "    function deposit(uint amount) public payable {\n",
    "        require(amount == msg.value);\n",
    "        balance += amount;\n",
    "    }\n",
    "    function withdraw(uint amount) public payable {\n",
    "        balance -= amount;\n",
    "        payable(owner).transfer(amount);\n",
    "    }\n",
    "    function transferTo(address payable receiver, uint amount) public payable {\n",
    "        balance -= amount;\n",
    "        receiver.transfer(amount);\n",
    "    }\n",
    "    function getBalance() public view returns(uint) {\n",
    "        return balance;\n",
    "    }\n",
    "    function getBalanceOfThis() public view returns(uint) {\n",
    "        return address(this).balance;\n",
    "    }\n",
    "    function getBalanceOfOwner() public view returns(uint) {\n",
    "        return owner.balance;\n",
    "    }\n",
    "}"
   ]
  },
  {
   "cell_type": "code",
   "execution_count": 16,
   "id": "c0130404-00e0-42e1-96b6-342415eba8e0",
   "metadata": {},
   "outputs": [],
   "source": [
    "!solc-windows.exe --optimize --combined-json abi,bin src/MyBank.sol > src/MyBank.json"
   ]
  },
  {
   "cell_type": "code",
   "execution_count": 17,
   "id": "2d068392-d0c4-4b96-844a-ba1ec84eab14",
   "metadata": {},
   "outputs": [
    {
     "name": "stdout",
     "output_type": "stream",
     "text": [
      "{\"contracts\":{\"src/MyBank.sol:MyBank\":{\"abi\":[{\"inputs\":[],\"stateMutability\":\"nonpayable\",\"type\":\"constructor\"},{\"inputs\":[{\"internalType\":\"uint256\",\"name\":\"amount\",\"type\":\"uint256\"}],\"name\":\"deposit\",\"outputs\":[],\"stateMutability\":\"payable\",\"type\":\"function\"},{\"inputs\":[],\"name\":\"getBalance\",\"outputs\":[{\"internalType\":\"uint256\",\"name\":\"\",\"type\":\"uint256\"}],\"stateMutability\":\"view\",\"type\":\"function\"},{\"inputs\":[],\"name\":\"getBalanceOfOwner\",\"outputs\":[{\"internalType\":\"uint256\",\"name\":\"\",\"type\":\"uint256\"}],\"stateMutability\":\"view\",\"type\":\"function\"},{\"inputs\":[],\"name\":\"getBalanceOfThis\",\"outputs\":[{\"internalType\":\"uint256\",\"name\":\"\",\"type\":\"uint256\"}],\"stateMutability\":\"view\",\"type\":\"function\"},{\"inputs\":[{\"internalType\":\"address payable\",\"name\":\"receiver\",\"type\":\"address\"},{\"internalType\":\"uint256\",\"name\":\"amount\",\"type\":\"uint256\"}],\"name\":\"transferTo\",\"outputs\":[],\"stateMutability\":\"payable\",\"type\":\"function\"},{\"inputs\":[{\"internalType\":\"uint256\",\"name\":\"amount\",\"type\":\"uint256\"}],\"name\":\"withdraw\",\"outputs\":[],\"stateMutability\":\"payable\",\"type\":\"function\"}],\"bin\":\"608060405234801561000f575f80fd5b505f80546001600160a01b0319163317905547600155610268806100325f395ff3fe608060405260043610610054575f3560e01c806312065fe0146100585780632ccb1b301461007a5780632e1a7d4d1461008f578063934d85b4146100a2578063b6b55f25146100b4578063d8c24541146100c7575b5f80fd5b348015610063575f80fd5b506001545b60405190815260200160405180910390f35b61008d6100883660046101a6565b6100e4565b005b61008d61009d3660046101db565b610132565b3480156100ad575f80fd5b5047610068565b61008d6100c23660046101db565b610182565b3480156100d2575f80fd5b505f546001600160a01b031631610068565b8060015f8282546100f59190610206565b90915550506040516001600160a01b0383169082156108fc029083905f818181858888f1935050505015801561012d573d5f803e3d5ffd5b505050565b8060015f8282546101439190610206565b90915550505f80546040516001600160a01b039091169183156108fc02918491818181858888f1935050505015801561017e573d5f803e3d5ffd5b5050565b34811461018d575f80fd5b8060015f82825461019e919061021f565b909155505050565b5f80604083850312156101b7575f80fd5b82356001600160a01b03811681146101cd575f80fd5b946020939093013593505050565b5f602082840312156101eb575f80fd5b5035919050565b634e487b7160e01b5f52601160045260245ffd5b81810381811115610219576102196101f2565b92915050565b80820180821115610219576102196101f256fea264697066735822122004f0f8c9e230841371ceb8db54bb37205a510b2dbcc97e6332bd61abfb93ade564736f6c63430008180033\"}},\"version\":\"0.8.24+commit.e11b9ed9.Windows.msvc\"}\n"
     ]
    }
   ],
   "source": [
    "!type src\\MyBank.json"
   ]
  },
  {
   "cell_type": "code",
   "execution_count": 18,
   "id": "334868c1-bb3a-4592-b6fd-e28e96037178",
   "metadata": {},
   "outputs": [
    {
     "name": "stdout",
     "output_type": "stream",
     "text": [
      "Overwriting src/MyBankDeployAbiBinFromFile.js\n"
     ]
    }
   ],
   "source": [
    "%%writefile src/MyBankDeployAbiBinFromFile.js\n",
    "var Web3 = require('web3');\n",
    "var web3 = new Web3('http://localhost:8345');\n",
    "\n",
    "var _abiBinJson = require('./MyBank.json');\n",
    "\n",
    "contractName = Object.keys(_abiBinJson.contracts);\n",
    "_abi = _abiBinJson.contracts[contractName].abi;\n",
    "_bin = _abiBinJson.contracts[contractName].bin;\n",
    "\n",
    "async function deploy() {\n",
    "    const accounts = await web3.eth.getAccounts();\n",
    "    var deployed = await new web3.eth.Contract(_abi)\n",
    "        .deploy({data: '0x'+_bin})\n",
    "        .send({from: accounts[0], gas:364124}, function(err, transactionHash) {\n",
    "            if (!err) console.log(\"hash: \" + transactionHash);\n",
    "        })\n",
    "        //.then(function(a) {console.log(\"The contract deployed to: \" + a.options.address)})\n",
    "    console.log(\"---> The contract deployed to: \" + deployed.options.address)\n",
    "}\n",
    "\n",
    "deploy()"
   ]
  },
  {
   "cell_type": "code",
   "execution_count": 19,
   "id": "006ed88d-67c6-47fc-a289-a0988d3231bb",
   "metadata": {},
   "outputs": [
    {
     "name": "stdout",
     "output_type": "stream",
     "text": [
      "hash: 0x3bc7c594790cb7478c694d6b17545abc9e8c6345e0bfa9eb9a18321a65bae236\n",
      "---> The contract deployed to: 0xd2d0308b8771ef7829B044804AfC712a5d9216ea\n"
     ]
    }
   ],
   "source": [
    "!node src/MyBankDeployAbiBinFromFile.js"
   ]
  },
  {
   "cell_type": "code",
   "execution_count": 20,
   "id": "2387891c-3df9-47e0-af2f-4b0d6db7a0c9",
   "metadata": {},
   "outputs": [
    {
     "name": "stdout",
     "output_type": "stream",
     "text": [
      "Overwriting src/MyBankUse.js\n"
     ]
    }
   ],
   "source": [
    "%%writefile src/MyBankUse.js\n",
    "var Web3 = require('web3');\n",
    "var web3 = new Web3('http://localhost:8345');\n",
    "\n",
    "var _abiBinJson = require('./MyBank.json');\n",
    "contractName = Object.keys(_abiBinJson.contracts);\n",
    "abi = _abiBinJson.contracts[contractName].abi;\n",
    "addr = '0xd2d0308b8771ef7829B044804AfC712a5d9216ea';\n",
    "\n",
    "var myBank = new web3.eth.Contract(abi, addr);\n",
    "\n",
    "async function doIt() {\n",
    "    const accounts = await web3.eth.getAccounts();\n",
    "    console.log(\"Call from: \" + accounts[0]);\n",
    "    await myBank.methods.getBalance().call().then(console.log);\n",
    "    await myBank.methods.deposit(1111).send({from: accounts[0], gas:80000, value:1111});\n",
    "    await myBank.methods.getBalance().call().then(console.log);\n",
    "}\n",
    "\n",
    "doIt()"
   ]
  },
  {
   "cell_type": "code",
   "execution_count": 21,
   "id": "3953426c-bb46-4ed2-8878-2f64facc3940",
   "metadata": {},
   "outputs": [
    {
     "name": "stdout",
     "output_type": "stream",
     "text": [
      "Call from: 0xB5d0B797dC8224Ae6Cc89fA2C83a871d613F750E\n",
      "0\n",
      "1111\n"
     ]
    }
   ],
   "source": [
    "!node src/MyBankUse.js"
   ]
  },
  {
   "cell_type": "code",
   "execution_count": 19,
   "id": "5f07425d-55bf-4ee8-a017-dd32c2edf21c",
   "metadata": {},
   "outputs": [
    {
     "name": "stdout",
     "output_type": "stream",
     "text": [
      "Overwriting src/DataConversionTest.sol\n"
     ]
    }
   ],
   "source": [
    "%%writefile src/DataConversionTest.sol\n",
    "//SPDX-License-Identifier: GPL-3.0-or-later\n",
    "pragma solidity ^0.8.0;\n",
    "\n",
    "contract DataConversionTest {\n",
    "    function convertInt8ToInt() pure public returns(int) {\n",
    "        int8 i8 = 20;\n",
    "        return int(i8); //20\n",
    "    }\n",
    "    function convertIntToBytes32() pure public returns(bytes32) {\n",
    "        uint x = 20;\n",
    "        return bytes32(x); //0x0000000000000000000000000000000000000000000000000000000000000014\n",
    "    }\n",
    "    function convertInt64ToBytes8() pure public returns(bytes8) {\n",
    "        uint64 x = 10;\n",
    "        return bytes8(x); //0x000000000000000a\n",
    "    }\n",
    "    function convertIntToBytes() pure public returns(bytes memory) {\n",
    "        // can not convert uint -> bytes\n",
    "        // convert uint -> bytes32 -> bytes\n",
    "        uint x = 20;\n",
    "        bytes32 y = bytes32(x); //uint <=> uint256\n",
    "        // can not convert from bytes32 -> bytes;\n",
    "        bytes memory z = new bytes(32);\n",
    "        for (uint i=0; i < 32; i++) {\n",
    "            z[i] = y[i];\n",
    "        }\n",
    "        //0x0000000000000000000000000000000000000000000000000000000000000014\n",
    "        return z;\n",
    "    }\n",
    "    function convertStringToBytes() pure public returns(bytes memory) {\n",
    "        string memory s = \"hello\";\n",
    "        return bytes(s); //0x68656c6c6f\n",
    "    }\n",
    "    function convertBytes4ToBytes2() pure public returns(bytes2) {\n",
    "        bytes4 b4=0x68656c6c;\n",
    "        return bytes2(b4);  //0x6865\n",
    "    }\n",
    "    function convertBytes4ToInt32() pure public returns(uint32) {\n",
    "        bytes4 b4=0x68656c6c;\n",
    "        return uint32(b4);\n",
    "    }\n",
    "    \n",
    "}"
   ]
  },
  {
   "cell_type": "code",
   "execution_count": 20,
   "id": "0faf9e71-7274-4af1-a93c-682a49305967",
   "metadata": {},
   "outputs": [
    {
     "name": "stdout",
     "output_type": "stream",
     "text": [
      "Compiler run successful. No output generated.\n"
     ]
    }
   ],
   "source": [
    "!solc-windows.exe src/DataConversionTest.sol"
   ]
  },
  {
   "cell_type": "markdown",
   "id": "152a758f-8090-476c-984e-582b8d16a4e4",
   "metadata": {},
   "source": [
    "# Chapter 9. Solidity 함수, 이벤트|"
   ]
  },
  {
   "cell_type": "code",
   "execution_count": 32,
   "id": "32a17563-b22d-4e23-b681-4292e644261f",
   "metadata": {},
   "outputs": [
    {
     "name": "stdout",
     "output_type": "stream",
     "text": [
      "Overwriting src/FunctionTest.sol\n"
     ]
    }
   ],
   "source": [
    "%%writefile src/FunctionTest.sol\n",
    "//SPDX-License-Identifier: GPL-3.0-or-later\n",
    "pragma solidity ^0.8.0;\n",
    "contract FunctionTest {\n",
    "    int x;\n",
    "    constructor() {\n",
    "        x = 0;\n",
    "    }\n",
    "    function incrementX() public {\n",
    "        x += 1; // 상태변수 x의 변경\n",
    "    }\n",
    "    function doubleX() public {\n",
    "        X2(); // 아래에 internal로 저의. 현재 public에서 호출\n",
    "    }\n",
    "    function divideBy(int by) view public returns(int) {\n",
    "        return x / by; // 소수를 지원하지 않는다. 0, 1/3 등을 테스트 해보자.\n",
    "    }\n",
    "    function getX() view public returns(int) {\n",
    "        return x;\n",
    "    }\n",
    "    function getBalance() view public returns(uint) {\n",
    "        return address(this).balance;\n",
    "    }\n",
    "    // payable을 붙이면 코드가 없어도 입금가능 (msg.value가 입금된다)\n",
    "    function deposit() public payable {\n",
    "    }\n",
    "    // 외부에서 사용할 수 없다\n",
    "    function X2() internal {\n",
    "        x *= 2;\n",
    "    }\n",
    "    function getBlockNumber() view public returns(uint) {\n",
    "        return block.number;\n",
    "    }\n",
    "}"
   ]
  },
  {
   "cell_type": "code",
   "execution_count": 33,
   "id": "7310b8e9-2d1e-496e-a482-4138a48fd50d",
   "metadata": {},
   "outputs": [
    {
     "name": "stdout",
     "output_type": "stream",
     "text": [
      "Compiler run successful. No output generated.\n"
     ]
    }
   ],
   "source": [
    "!solc-windows.exe src/FunctionTest.sol"
   ]
  },
  {
   "cell_type": "code",
   "execution_count": 34,
   "id": "e5b99a50-ce0a-4f49-a38a-3880f55f7127",
   "metadata": {},
   "outputs": [
    {
     "name": "stdout",
     "output_type": "stream",
     "text": [
      "Writing src/UnderscoreTest.sol\n"
     ]
    }
   ],
   "source": [
    "%%writefile src/UnderscoreTest.sol\n",
    "//SPDX-License-Identifier: GPL-3.0-or-later\n",
    "pragma solidity ^0.8.0;\n",
    "\n",
    "contract UnderscoreTest {\n",
    "    string season = \"\";\n",
    "    function getSeason() view public returns(string memory) {\n",
    "        return season;\n",
    "    }\n",
    "    function setWinter() public setSummerAfter { // setWinter()를 setSummerAfter의 _ 위치에서 실행\n",
    "        season = \"winter\";\n",
    "    }\n",
    "    function setSpring() public setSummerBefore { // setSpring()을 setSummerBefore의 _ 위치에서 실행\n",
    "        season = \"spring\";\n",
    "    }\n",
    "    modifier setSummerAfter() {\n",
    "        season = \"summer\";\n",
    "        _;\n",
    "    }\n",
    "    modifier setSummerBefore() {\n",
    "        _;\n",
    "        season = \"summer\";\n",
    "    }\n",
    "}"
   ]
  },
  {
   "cell_type": "code",
   "execution_count": 35,
   "id": "0a888041-e041-4af0-a371-a63cf4c2ddd9",
   "metadata": {},
   "outputs": [
    {
     "name": "stdout",
     "output_type": "stream",
     "text": [
      "Compiler run successful. No output generated.\n"
     ]
    }
   ],
   "source": [
    "!solc-windows.exe src/UnderscoreTest.sol"
   ]
  },
  {
   "cell_type": "code",
   "execution_count": 46,
   "id": "e0abc174-7169-4538-bb8c-3c0b9ba87ee8",
   "metadata": {},
   "outputs": [
    {
     "name": "stdout",
     "output_type": "stream",
     "text": [
      "Overwriting src/BankV3.sol\n"
     ]
    }
   ],
   "source": [
    "%%writefile src/BankV3.sol\n",
    "//SPDX-License-Identifier: GPL-3.0-or-later\n",
    "pragma solidity ^0.8.0;\n",
    "\n",
    "contract BankV3 {\n",
    "    address owner;\n",
    "    uint balance;\n",
    "    uint256 timeToDeposit;\n",
    "\n",
    "    event PrintLog(string);\n",
    "    event Sent(address from, address to, uint amount);\n",
    "\n",
    "    constructor() {\n",
    "        owner = msg.sender;\n",
    "        balance = 0;\n",
    "    }\n",
    "    fallback() external {\n",
    "        emit PrintLog(\"Fallback called\");\n",
    "    }\n",
    "    function forwardTo(address payable _receiver) public payable onlyOwner {\n",
    "        _receiver.transfer(msg.value);\n",
    "        emit Sent(msg.sender, _receiver, msg.value);\n",
    "    }\n",
    "    function getBalance() public view returns(uint, uint) {\n",
    "        return (balance, address(this).balance);\n",
    "    }\n",
    "    function deposit(uint amount) public payable onlyAfter {\n",
    "        timeToDeposit = block.timestamp + 10 seconds;\n",
    "        require(msg.value == amount);\n",
    "        balance += amount;\n",
    "    }\n",
    "    function withdrawAll() public onlyOwner minBalance {\n",
    "        balance -= address(this).balance;\n",
    "        payable(msg.sender).transfer(address(this).balance);\n",
    "    }\n",
    "    function getTimeToDeposit() view public returns(uint256) { return timeToDeposit;}\n",
    "    modifier onlyOwner {\n",
    "        require(msg.sender == owner);\n",
    "        _;\n",
    "    }\n",
    "    modifier onlyAfter {\n",
    "        require(block.timestamp >= timeToDeposit);\n",
    "        _;\n",
    "    }\n",
    "    modifier minBalance {\n",
    "        require(address(this).balance > 101 wei);\n",
    "        _;\n",
    "    }\n",
    "}"
   ]
  },
  {
   "cell_type": "code",
   "execution_count": 47,
   "id": "752b57fa-58f6-4db5-b4bd-47803d350bf0",
   "metadata": {},
   "outputs": [],
   "source": [
    "!solc-windows.exe --optimize --combined-json abi,bin src/BankV3.sol > src/BankV3.json"
   ]
  },
  {
   "cell_type": "code",
   "execution_count": 48,
   "id": "bc654cd4-4ef5-4138-9794-b337c65fb78b",
   "metadata": {},
   "outputs": [
    {
     "name": "stdout",
     "output_type": "stream",
     "text": [
      "Overwriting src/BankV3DeployFromFile.js\n"
     ]
    }
   ],
   "source": [
    "%%writefile src/BankV3DeployFromFile.js\n",
    "var Web3 = require('web3');\n",
    "var web3 = new Web3('http://localhost:8345');\n",
    "\n",
    "var _abiBinJson = require('./BankV3.json');\n",
    "contractName = Object.keys(_abiBinJson.contracts);\n",
    "_abi = _abiBinJson.contracts[contractName].abi;\n",
    "_bin = _abiBinJson.contracts[contractName].bin;\n",
    "\n",
    "async function deploy() {\n",
    "    const accounts = await web3.eth.getAccounts();\n",
    "    var deployed = await new web3.eth.Contract(_abi)\n",
    "        .deploy({data: '0x'+_bin})\n",
    "        .send({from: accounts[0], gas:259210}, function(err, transactionHash) {\n",
    "            if(!err) console.log(\"hash: \" + transactionHash);\n",
    "        })\n",
    "    console.log(\"The contract deployed to: \" + deployed.options.address);\n",
    "}\n",
    "deploy()"
   ]
  },
  {
   "cell_type": "code",
   "execution_count": 49,
   "id": "91bfa555-7cdd-4ee0-9a54-6b8f865f6474",
   "metadata": {},
   "outputs": [
    {
     "name": "stdout",
     "output_type": "stream",
     "text": [
      "hash: 0x5ca81c194d61aab07296737093191429bdb8d5bed3794c765d32952ceac77c5a\n",
      "The contract deployed to: 0x6fd2B455BA3Ce1e6719ebEE4AfFb563655c59B11\n"
     ]
    }
   ],
   "source": [
    "!node src/BankV3DeployFromFile.js"
   ]
  },
  {
   "cell_type": "code",
   "execution_count": 58,
   "id": "05430709-a6d9-4c33-99cc-f83b662cd46b",
   "metadata": {},
   "outputs": [
    {
     "name": "stdout",
     "output_type": "stream",
     "text": [
      "Overwriting src/BankV3Use.js\n"
     ]
    }
   ],
   "source": [
    "%%writefile src/BankV3Use.js\n",
    "var Web3 = require('web3');\n",
    "var web3 = new Web3('http://localhost:8345');\n",
    "\n",
    "var _abiBinJson = require('./BankV3.json');\n",
    "contractName = Object.keys(_abiBinJson.contracts);\n",
    "abi = _abiBinJson.contracts[contractName].abi;\n",
    "addr = '0x6fd2B455BA3Ce1e6719ebEE4AfFb563655c59B11';\n",
    "\n",
    "var bank = new web3.eth.Contract(abi, addr);\n",
    "\n",
    "async function doIt() {\n",
    "    const accounts = await web3.eth.getAccounts();\n",
    "    console.log(\"Account: \" + accounts[0]);\n",
    "    const balanceBefore = await web3.eth.getBalance(accounts[0]);\n",
    "    console.log(\"Balance before: \" + balanceBefore);\n",
    "    await bank.methods.getBalance().call().then(console.log);\n",
    "    await bank.methods.deposit(111).send({from: accounts[0], value:111});\n",
    "    await bank.methods.getBalance().call().then(console.log);\n",
    "    await bank.methods.withdrawAll().send({from: accounts[0]});\n",
    "    await bank.methods.getBalance().call().then(console.log);\n",
    "\n",
    "    const balanceAfter = await web3.eth.getBalance(accounts[0]);\n",
    "    console.log(\"Balance after: \" + balanceAfter);\n",
    "    //console.log(\"Balance diff:\", balanceBefore - balanceAfter);\n",
    "    Baldiff = web3.utils.toBN(balanceBefore).sub(web3.utils.toBN(balanceAfter));\n",
    "    console.log(\"Balance diff:\", Baldiff.toString());\n",
    "}\n",
    "doIt()"
   ]
  },
  {
   "cell_type": "code",
   "execution_count": 59,
   "id": "0a1daa15-8d7d-43d9-a53a-d235a87f69f3",
   "metadata": {},
   "outputs": [
    {
     "name": "stdout",
     "output_type": "stream",
     "text": [
      "Account: 0xb4a75679C3cb6782d914f4c4ab58234CC0D32D84\n",
      "Balance before: 999998141913938536798\n",
      "Result { \u001b[32m'0'\u001b[39m: \u001b[32m'0'\u001b[39m, \u001b[32m'1'\u001b[39m: \u001b[32m'0'\u001b[39m }\n",
      "Result { \u001b[32m'0'\u001b[39m: \u001b[32m'111'\u001b[39m, \u001b[32m'1'\u001b[39m: \u001b[32m'111'\u001b[39m }\n",
      "Result { \u001b[32m'0'\u001b[39m: \u001b[32m'0'\u001b[39m, \u001b[32m'1'\u001b[39m: \u001b[32m'0'\u001b[39m }\n",
      "Balance after: 999997923552562461707\n",
      "Balance diff: 218361376075091\n"
     ]
    }
   ],
   "source": [
    "!node src/BankV3Use.js"
   ]
  },
  {
   "cell_type": "code",
   "execution_count": 2,
   "id": "40ee94b3-f197-40e9-a9ac-184d68b90fd6",
   "metadata": {},
   "outputs": [
    {
     "name": "stdout",
     "output_type": "stream",
     "text": [
      "Writing src/webSocketTest.js\n"
     ]
    }
   ],
   "source": [
    "%%writefile src/webSocketTest.js\n",
    "var Web3 = require('web3');\n",
    "const myProvider = new Web3.providers.WebsocketProvider(\"ws://localhost:8345\", {\n",
    "    clientConfig: {\n",
    "        keepalive:true, keepaliveInterval:10000\n",
    "    }\n",
    "});\n",
    "var web3 = new Web3(myProvider);\n",
    "console.log(\"(1) websocket url \", myProvider.connection.url);\n",
    "myProvider.on('connect', function() {\n",
    "    console.log(\"(2) connecting websocket: \" + web3.currentProvider.connected);\n",
    "    web3.currentProvider.connection.close();\n",
    "    console.log(\"(3) disconnecting websocket: \" + web3.currentProvider.connected);\n",
    "});\n",
    "myProvider.on('close', function() { console.log(\"--> Websocket closed\"); });\n",
    "myProvider.on('end', function() { console.log(\"--> Websocket ended\"); });\n",
    "myProvider.on('error', function(error) { console.error(error); });"
   ]
  },
  {
   "cell_type": "code",
   "execution_count": 3,
   "id": "576b77d4-3ecf-45b1-9b68-7ec3e1277d77",
   "metadata": {},
   "outputs": [
    {
     "name": "stdout",
     "output_type": "stream",
     "text": [
      "(1) websocket url  ws://localhost:8345\n",
      "(2) connecting websocket: true\n",
      "(3) disconnecting websocket: false\n",
      "--> Websocket closed\n"
     ]
    }
   ],
   "source": [
    "!node src/webSocketTest.js"
   ]
  },
  {
   "cell_type": "code",
   "execution_count": 1,
   "id": "ed6f5acd-0ed9-4bf0-b53d-14e357609be8",
   "metadata": {},
   "outputs": [
    {
     "name": "stdout",
     "output_type": "stream",
     "text": [
      "Overwriting src/EventTest.sol\n"
     ]
    }
   ],
   "source": [
    "%%writefile src/EventTest.sol\n",
    "//SPDX-License-Identifier: GPL-3.0-or-later\n",
    "pragma solidity ^0.8.0;\n",
    "\n",
    "contract EventTest {\n",
    "    event MyLog(string my);\n",
    "    function myFunction() public {\n",
    "        emit MyLog(\"Hello World!\");\n",
    "    }\n",
    "}"
   ]
  },
  {
   "cell_type": "code",
   "execution_count": 2,
   "id": "e4fb0c91-c165-4f9c-84ec-e1263a52c629",
   "metadata": {},
   "outputs": [],
   "source": [
    "!solc-windows.exe --optimize --combined-json abi,bin src/EventTest.sol > src/EventTest.json"
   ]
  },
  {
   "cell_type": "code",
   "execution_count": 3,
   "id": "0f39baa4-924b-4333-89e9-8043a582e144",
   "metadata": {},
   "outputs": [
    {
     "name": "stdout",
     "output_type": "stream",
     "text": [
      "Overwriting src/EventTestDeployFromFile.js\n"
     ]
    }
   ],
   "source": [
    "%%writefile src/EventTestDeployFromFile.js\n",
    "var Web3 = require('web3');\n",
    "var web3 = new Web3('http://localhost:8345');\n",
    "\n",
    "var _abiBinJson = require('./EventTest.json');\n",
    "contractName = Object.keys(_abiBinJson.contracts);\n",
    "console.log(\"- contract name: \", contractName);\n",
    "_abi = _abiBinJson.contracts[contractName].abi;\n",
    "_bin = _abiBinJson.contracts[contractName].bin;\n",
    "\n",
    "async function deploy() {\n",
    "    const accounts = await web3.eth.getAccounts();\n",
    "    console.log(\"Deploying the contract from \" + accounts[0]);\n",
    "    var deployed = await new web3.eth.Contract(_abi)\n",
    "        .deploy({data: \"0x\" + _bin})\n",
    "        .send({from: accounts[0], gas: 259210}, function(err, transactionHash) {\n",
    "            if (!err) console.log(\"hash: \" + transactionHash);\n",
    "        })\n",
    "    console.log(\"---> The contract deployedto: \" + deployed.options.address);\n",
    "}\n",
    "deploy()"
   ]
  },
  {
   "cell_type": "code",
   "execution_count": 4,
   "id": "8d39ccc0-ac73-4420-8373-76e93510c3c5",
   "metadata": {},
   "outputs": [
    {
     "name": "stdout",
     "output_type": "stream",
     "text": [
      "- contract name:  [ \u001b[32m'src/EventTest.sol:EventTest'\u001b[39m ]\n",
      "Deploying the contract from 0x79432f5aF39483ac1e467769dCa0631fC9D3bCb7\n",
      "hash: 0xb9c531701f93a1db80f4483a2e0bc56944ddd3c5236f560278b8fb7e1d09773c\n",
      "---> The contract deployedto: 0xB181faD83595135C8d2608524a5559fC4C919c4C\n"
     ]
    }
   ],
   "source": [
    "!node src/EventTestDeployFromFile.js"
   ]
  },
  {
   "cell_type": "code",
   "execution_count": 5,
   "id": "b0bca864-5c10-40a7-b70b-a984c319ffe0",
   "metadata": {},
   "outputs": [
    {
     "name": "stdout",
     "output_type": "stream",
     "text": [
      "Overwriting src/EventTestHttpNoEventFireUse.js\n"
     ]
    }
   ],
   "source": [
    "%%writefile src/EventTestHttpNoEventFireUse.js\n",
    "var Web3 = require('web3');\n",
    "var web3 = new Web3('http://localhost:8345');\n",
    "\n",
    "var _abiBinJson = require('./EventTest.json');\n",
    "contractName = Object.keys(_abiBinJson.contracts);\n",
    "\n",
    "abi = _abiBinJson.contracts[contractName].abi;\n",
    "addr = \"0xB181faD83595135C8d2608524a5559fC4C919c4C\";\n",
    "\n",
    "var _test = new web3.eth.Contract(abi, addr);\n",
    "var event = _test.events.MyLog({fromBlock: 0}, function (error, result) {\n",
    "    if (!error) {\n",
    "        console.log(\"Event fired: \" + JSON.stringify(result.returnValues));\n",
    "    }\n",
    "});\n",
    "\n",
    "async function doIt() {\n",
    "    const accounts = await web3.eth.getAccounts();\n",
    "    const value = await _test.methods.myFunction()\n",
    "        .send({from: accounts[0], gas:364124, gasPrice:'1000000000'});\n",
    "    console.log(\"---> myFunction called \" + JSON.stringify(value.events.MyLog.returnValues));\n",
    "}\n",
    "doIt()"
   ]
  },
  {
   "cell_type": "code",
   "execution_count": 6,
   "id": "82725918-84b5-41a7-85a2-e2db400466ea",
   "metadata": {},
   "outputs": [
    {
     "name": "stdout",
     "output_type": "stream",
     "text": [
      "---> myFunction called {\"0\":\"Hello World!\",\"my\":\"Hello World!\"}\n"
     ]
    }
   ],
   "source": [
    "!node src/EventTestHttpNoEventFireUse.js"
   ]
  },
  {
   "cell_type": "code",
   "execution_count": 7,
   "id": "6c082df9-21db-4628-8a2a-1cefff073682",
   "metadata": {},
   "outputs": [
    {
     "name": "stdout",
     "output_type": "stream",
     "text": [
      "Overwriting src/EventTestWsUse.js\n"
     ]
    }
   ],
   "source": [
    "%%writefile src/EventTestWsUse.js\n",
    "var Web3 = require('web3');\n",
    "var fs = require('fs');\n",
    "var web3 = new Web3(new Web3.providers.WebsocketProvider(\"ws://localhost:8345\"));\n",
    "\n",
    "var _abiBinJson = require('./EventTest.json');\n",
    "contractName=Object.keys(_abiBinJson.contracts);\n",
    "abi = _abiBinJson.contracts[contractName].abi\n",
    "addr = \"0xB181faD83595135C8d2608524a5559fC4C919c4C\";\n",
    "\n",
    "console.log(\"ABI: \" + abi);\n",
    "\n",
    "async function doIt() {\n",
    "    var _test = new web3.eth.Contract(abi, addr);\n",
    "    var event = _test.events.MyLog({fromBlock: 0}, function (error, result) {\n",
    "        if (!error) {\n",
    "            log = JSON.stringify(result.returnValues);\n",
    "            console.log(\"Event fired: \" + log);\n",
    "            fs.appendFile(\"src/EventTestLog.txt\", log, \"utf-8\", function(e) {\n",
    "                if(!e) {\n",
    "                    console.log(\">> Writing to file\");\n",
    "                }\n",
    "            });\n",
    "        }\n",
    "    });\n",
    "    const accounts = await web3.eth.getAccounts();\n",
    "    console.log(\"Account: \" + accounts[0]);\n",
    "    const balanceBefore = await web3.eth.getBalance(accounts[0]);\n",
    "    console.log(\"Balance before: \" + balanceBefore);\n",
    "    const value = await _test.methods.myFunction()\n",
    "        .send({from: accounts[0], gas: 364124, gasPrice: '1000000000'});\n",
    "    console.log(\"---> myFunction called \" + JSON.stringify(value.events.MyLog.returnValues));\n",
    "    const balanceAfter = await web3.eth.getBalance(accounts[0]);\n",
    "    console.log(\"Balance after: \" + balanceAfter);\n",
    "    console.log(\"Balance diff: \" + (balanceBefore - balanceAfter));\n",
    "    process.exit(1);\n",
    "}\n",
    "doIt()"
   ]
  },
  {
   "cell_type": "code",
   "execution_count": 8,
   "id": "2e695305-777d-4365-b030-33f7309a188e",
   "metadata": {},
   "outputs": [
    {
     "name": "stdout",
     "output_type": "stream",
     "text": [
      "ABI: [object Object],[object Object]\n",
      "Event fired: {\"0\":\"Hello World!\",\"my\":\"Hello World!\"}\n",
      "Account: 0x79432f5aF39483ac1e467769dCa0631fC9D3bCb7\n",
      "Balance before: 999998521536911600989\n",
      ">> Writing to file\n",
      "Event fired: {\"0\":\"Hello World!\",\"my\":\"Hello World!\"}\n",
      "---> myFunction called {\"0\":\"Hello World!\",\"my\":\"Hello World!\"}\n",
      "Balance after: 999998498722911600989\n",
      "Balance diff: 22814000021504\n"
     ]
    }
   ],
   "source": [
    "!node src/EventTestWsUse.js"
   ]
  },
  {
   "cell_type": "code",
   "execution_count": 1,
   "id": "2fdbb882-f351-454f-a44a-c1337bc4f44e",
   "metadata": {},
   "outputs": [
    {
     "name": "stdout",
     "output_type": "stream",
     "text": [
      "Overwriting src/OrderEvent.sol\n"
     ]
    }
   ],
   "source": [
    "%%writefile src/OrderEvent.sol\n",
    "//SPDX-License-Identifier: GPL-3.0-or-later\n",
    "pragma solidity ^0.8.0;\n",
    "\n",
    "contract OrderEvent {\n",
    "    uint unitPrice = 10;\n",
    "    event OrderLog(string);\n",
    "    event OrderLog(bytes2 _itemId, uint _value);\n",
    "    event OrderLog(uint256 timestamp);\n",
    "    event OrderLog(address indexed _from, bytes2 _itemId, uint indexed _value);\n",
    "\n",
    "    function order(bytes2 _itemId, uint quantity) public payable {\n",
    "        uint orderTime = block.timestamp;\n",
    "        uint orderAmount = quantity * unitPrice;\n",
    "        require(msg.value == orderAmount);\n",
    "        emit OrderLog(\"Ordered\");\n",
    "        emit OrderLog(orderTime);\n",
    "        emit OrderLog(msg.sender, _itemId, msg.value);\n",
    "    }\n",
    "}"
   ]
  },
  {
   "cell_type": "code",
   "execution_count": 2,
   "id": "43512139-34cc-46a7-8cdf-4d1fbfa5dc27",
   "metadata": {},
   "outputs": [],
   "source": [
    "!solc-windows.exe --optimize --combined-json abi,bin src/OrderEvent.sol > src/OrderEvent.json"
   ]
  },
  {
   "cell_type": "code",
   "execution_count": 3,
   "id": "bb6b53b6-2c1d-47cf-a678-df51d37716e4",
   "metadata": {},
   "outputs": [
    {
     "name": "stdout",
     "output_type": "stream",
     "text": [
      "Overwriting src/OrderEventDeploy.js\n"
     ]
    }
   ],
   "source": [
    "%%writefile src/OrderEventDeploy.js\n",
    "var Web3 = require('web3');\n",
    "var web3 = new Web3('http://localhost:8345');\n",
    "\n",
    "var _abiBinJson = require('./OrderEvent.json');\n",
    "contractName = Object.keys(_abiBinJson.contracts);\n",
    "_abi = _abiBinJson.contracts[contractName].abi;\n",
    "_bin = _abiBinJson.contracts[contractName].bin;\n",
    "\n",
    "async function deploy() {\n",
    "    const accounts = await web3.eth.getAccounts();\n",
    "    console.log(\"Deploying the contract frim \" + accounts[0]);\n",
    "    var deployed = await new web3.eth.Contract(_abi)\n",
    "        .deploy({data: \"0x\" + _bin})\n",
    "        .send({from: accounts[0], gas:259210}, function(err, transactionHash) {\n",
    "            if(!err) console.log(\"hash: \" + transactionHash);\n",
    "        })\n",
    "    console.log(\"---> The contract deployed to: \" + deployed.options.address)\n",
    "}\n",
    "deploy()"
   ]
  },
  {
   "cell_type": "code",
   "execution_count": 4,
   "id": "6b608cbe-49d1-44c6-a0fe-1fe3cc925994",
   "metadata": {},
   "outputs": [
    {
     "name": "stdout",
     "output_type": "stream",
     "text": [
      "Deploying the contract frim 0xd9f4dF6782f64D745f242D8B1768bEb54a3Ee310\n",
      "hash: 0xc72e486123aeb282e2eec77777debc283f78569bd891bcd4f4b2c3003b7dee85\n",
      "---> The contract deployed to: 0xa9dD2070Ae3a950513DF844d79F91b502C04b336\n"
     ]
    }
   ],
   "source": [
    "!node src/OrderEventDeploy.js"
   ]
  },
  {
   "cell_type": "code",
   "execution_count": 21,
   "id": "cb0227b0-815c-4385-ba94-90867fde2b01",
   "metadata": {},
   "outputs": [
    {
     "name": "stdout",
     "output_type": "stream",
     "text": [
      "Overwriting src/OrderEventUse.js\n"
     ]
    }
   ],
   "source": [
    "%%writefile src/OrderEventUse.js\n",
    "var Web3 = require('web3');\n",
    "var web3 = new Web3(new Web3.providers.WebsocketProvider(\"ws://localhost:8345\"));\n",
    "\n",
    "var _abiBinJson = require('./OrderEvent.json');\n",
    "contractName = Object.keys(_abiBinJson.contracts);\n",
    "abi = _abiBinJson.contracts[contractName].abi;\n",
    "addr = \"0xa9dD2070Ae3a950513DF844d79F91b502C04b336\";\n",
    "\n",
    "async function doIt() {\n",
    "    var _order = new web3.eth.Contract(abi, addr);\n",
    "    const accounts = await web3.eth.getAccounts();\n",
    "    console.log(\"Account: \" + accounts[0]);\n",
    "    var event = _order.events.OrderLog({\n",
    "        filter: {_from: accounts[0], _value: 30},\n",
    "        fromBlock: 'latest', toBlock: 'pending'\n",
    "    }, function (error, result) {\n",
    "        if (!error) {\n",
    "            console.log(\"Event fired: \" + JSON.stringify(result.returnValues));\n",
    "        }\n",
    "    });\n",
    "    var value;\n",
    "    const balanceBefore = await web3.eth.getBalance(accounts[0]);\n",
    "    console.log(\"Balance before: \" + balanceBefore);\n",
    "    // (1) 이벤트가 발생하고 value: 30은 출력한다.\n",
    "    my = await _order.methods.order(\"0x1234\", 3)\n",
    "            .send({from: accounts[0], gas:100000, value:30});\n",
    "    console.log(\"---> MyFunction called \" + JSON.stringify(my.events.OrderLog.returnValues));\n",
    "    // (2) 이벤트가 발생하지만, value: 40이라서 걸러진다.\n",
    "    my = await _order.methods.order(\"0x1234\", 4).send({from: accounts[0], gas:100000, value:40});\n",
    "    console.log(\"---> MyFunction called \" + JSON.stringify(my.events.OrderLog.returnValues));\n",
    "    // (3) 이벤트가 발생하지만, value: 100이라서 걸러지게 된다.\n",
    "    my = await _order.methods.order(\"0x1234\", 10).send({from: accounts[0], gas:100000, value: 100});\n",
    "    console.log(\"---> MyFunction called \" + JSON.stringify(my.events.OrderLog.returnValues));\n",
    "    const balanceAfter = await web3.eth.getBalance(accounts[0]);\n",
    "    console.log(\"Balance after: \" +balanceAfter);\n",
    "    console.log(\"Balance diff: \" + (balanceBefore - balanceAfter));\n",
    "    process.exit(1);\n",
    "}\n",
    "doIt()"
   ]
  },
  {
   "cell_type": "code",
   "execution_count": 22,
   "id": "46515b2d-5618-4558-a7a5-761676950136",
   "metadata": {},
   "outputs": [
    {
     "name": "stdout",
     "output_type": "stream",
     "text": [
      "Account: 0xd9f4dF6782f64D745f242D8B1768bEb54a3Ee310\n",
      "Balance before: 999997631350926158890\n",
      "Event fired: {\"0\":\"0xd9f4dF6782f64D745f242D8B1768bEb54a3Ee310\",\"1\":\"0x1234\",\"2\":\"30\",\"_from\":\"0xd9f4dF6782f64D745f242D8B1768bEb54a3Ee310\",\"_itemId\":\"0x1234\",\"_value\":\"30\"}\n",
      "---> MyFunction called undefined\n",
      "---> MyFunction called undefined\n",
      "---> MyFunction called undefined\n",
      "Balance after: 999997416046970342120\n",
      "Balance diff: 215303955808256\n"
     ]
    },
    {
     "name": "stderr",
     "output_type": "stream",
     "text": [
      "Invalid option: toBlock. Use getPastEvents for specific range.\n"
     ]
    }
   ],
   "source": [
    "!node src/OrderEventUse.js"
   ]
  },
  {
   "cell_type": "code",
   "execution_count": 1,
   "id": "e6890201-77ac-45b5-9d56-13e2235d4593",
   "metadata": {},
   "outputs": [
    {
     "name": "stdout",
     "output_type": "stream",
     "text": [
      "Overwriting src/Multiply7Event.sol\n"
     ]
    }
   ],
   "source": [
    "%%writefile src/Multiply7Event.sol\n",
    "//SPDX-License-Identifier: GPL-3.0-or-later\n",
    "pragma solidity ^0.8.0;\n",
    "\n",
    "contract Multiply7Event {\n",
    "    event Print(address _addr, uint256 timestamp, uint res);\n",
    "\n",
    "    function multiply(uint input) public {\n",
    "        uint res = input * 7;\n",
    "        emit Print(msg.sender, block.timestamp, res);\n",
    "    }\n",
    "}"
   ]
  },
  {
   "cell_type": "code",
   "execution_count": 2,
   "id": "1732a4e7-9059-4a21-8ad0-7e741d18f7bb",
   "metadata": {},
   "outputs": [],
   "source": [
    "!solc-windows.exe --optimize --combined-json abi,bin src/Multiply7Event.sol > src/Multiply7Event.json"
   ]
  },
  {
   "cell_type": "code",
   "execution_count": 3,
   "id": "efb2c066-a516-4114-85c4-f89463055b9d",
   "metadata": {},
   "outputs": [
    {
     "name": "stdout",
     "output_type": "stream",
     "text": [
      "Overwriting src/Multiply7EventDeploy.js\n"
     ]
    }
   ],
   "source": [
    "%%writefile src/Multiply7EventDeploy.js\n",
    "var Web3 = require('web3');\n",
    "var web3 = new Web3('http://localhost:8345');\n",
    "\n",
    "var _abiBinJson = require('./Multiply7Event.json');\n",
    "contractName = Object.keys(_abiBinJson.contracts);\n",
    "_abi = _abiBinJson.contracts[contractName].abi;\n",
    "_bin = _abiBinJson.contracts[contractName].bin;\n",
    "\n",
    "async function deploy() {\n",
    "    const accounts = await web3.eth.getAccounts();\n",
    "    console.log(\"Deploying the contract from \" + accounts[0]);\n",
    "    var deployed = await new web3.eth.Contract(_abi)\n",
    "        .deploy({data: \"0x\" + _bin})\n",
    "        .send({from: accounts[0], gas: 259210}, function(err, transactionHash) {\n",
    "            if(!err) console.log(\"hash: \" + transactionHash);\n",
    "        })\n",
    "    console.log(\"---> The contract deployed to: \" + deployed.options.address);\n",
    "}\n",
    "deploy()"
   ]
  },
  {
   "cell_type": "code",
   "execution_count": 4,
   "id": "f9cb8c13-1679-4262-8889-9d59537b5868",
   "metadata": {},
   "outputs": [
    {
     "name": "stdout",
     "output_type": "stream",
     "text": [
      "Deploying the contract from 0xd9f4dF6782f64D745f242D8B1768bEb54a3Ee310\n",
      "hash: 0x92d51af36c7daa2699a363a265793510490ea4702522e68958e2115e09ca54b0\n",
      "---> The contract deployed to: 0xC878Db9349902f81eF5E1F1c752B6105010610d4\n"
     ]
    }
   ],
   "source": [
    "!node src/Multiply7EventDeploy.js"
   ]
  },
  {
   "cell_type": "code",
   "execution_count": 5,
   "id": "91a0212d-169b-4f2d-9ef9-3e145383408d",
   "metadata": {},
   "outputs": [
    {
     "name": "stdout",
     "output_type": "stream",
     "text": [
      "Overwriting src/Multiply7EventUse.js\n"
     ]
    }
   ],
   "source": [
    "%%writefile src/Multiply7EventUse.js\n",
    "var Web3 = require('web3');\n",
    "var web3 = new Web3(new Web3.providers.WebsocketProvider(\"ws://localhost:8345\"));\n",
    "\n",
    "var _abiBinJson = require('./Multiply7Event.json');\n",
    "contractName = Object.keys(_abiBinJson.contracts);\n",
    "abi = _abiBinJson.contracts[contractName].abi;\n",
    "addr = \"0xC878Db9349902f81eF5E1F1c752B6105010610d4\";\n",
    "\n",
    "var m7 = new web3.eth.Contract(abi, addr);\n",
    "var event = m7.events.Print({fromBlock: 0}, function(err, result) {\n",
    "    if (!err) {\n",
    "        console.log(\"Event fired: \" + JSON.stringify(result.returnValues));\n",
    "        //process.exit(1);\n",
    "    }\n",
    "});\n",
    "\n",
    "async function doIt() {\n",
    "    const accounts = await web3.eth.getAccounts();\n",
    "    console.log(\"Account: \" + accounts[0]);\n",
    "    const balanceBefore = await web3.eth.getBalance(accounts[0]);\n",
    "    console.log(\"Balance before: \" + balanceBefore);\n",
    "\n",
    "    //const value = m7.methods.multiply(8).call();\n",
    "    const value = await m7.methods.multiply(8).send({from: accounts[0]});\n",
    "\n",
    "    console.log(\"---> Function called \" + JSON.stringify(value.events.Print.returnValues));\n",
    "    const balanceAfter = await web3.eth.getBalance(accounts[0]);\n",
    "    console.log(\"Balance after: \" + balanceAfter);\n",
    "    console.log(\"Balance diff: \" + (balanceBefore - balanceAfter));\n",
    "    process.exit(1);\n",
    "}\n",
    "doIt()"
   ]
  },
  {
   "cell_type": "code",
   "execution_count": 6,
   "id": "30a488db-4c76-4b92-b6e8-a3afd3902434",
   "metadata": {},
   "outputs": [
    {
     "name": "stdout",
     "output_type": "stream",
     "text": [
      "Account: 0xd9f4dF6782f64D745f242D8B1768bEb54a3Ee310\n",
      "Balance before: 999995742616657983247\n",
      "Event fired: {\"0\":\"0xd9f4dF6782f64D745f242D8B1768bEb54a3Ee310\",\"1\":\"1717220809\",\"2\":\"56\",\"_addr\":\"0xd9f4dF6782f64D745f242D8B1768bEb54a3Ee310\",\"timestamp\":\"1717220809\",\"res\":\"56\"}\n",
      "---> Function called {\"0\":\"0xd9f4dF6782f64D745f242D8B1768bEb54a3Ee310\",\"1\":\"1717220809\",\"2\":\"56\",\"_addr\":\"0xd9f4dF6782f64D745f242D8B1768bEb54a3Ee310\",\"timestamp\":\"1717220809\",\"res\":\"56\"}\n",
      "Balance after: 999995684743110777697\n",
      "Balance diff: 57873547264000\n"
     ]
    }
   ],
   "source": [
    "!node src/Multiply7EventUse.js"
   ]
  },
  {
   "cell_type": "code",
   "execution_count": 7,
   "id": "4290e563-0d39-4a94-a484-74f5e78c719a",
   "metadata": {},
   "outputs": [
    {
     "name": "stdout",
     "output_type": "stream",
     "text": [
      "Writing src/FallbackTest2.sol\n"
     ]
    }
   ],
   "source": [
    "%%writefile src/FallbackTest2.sol\n",
    "//SPDX-License-Identifier: GPL-3.0-or-later\n",
    "pragma solidity ^0.8.0;\n",
    "\n",
    "contract FallbackCounter {\n",
    "    uint public nOfFallback = 0;\n",
    "    fallback() external { nOfFallback += 1; } // 입금 불가능\n",
    "}\n",
    "\n",
    "contract CallFallback {\n",
    "    function callFallbackCounter(FallbackCounter fb) public returns (bool) {\n",
    "        address payable _fb = payable(address(fb));\n",
    "        return (_fb.send(11 wei)); // 수신측 fallback이 호출되지 않고, 입금실패의 예외 발생\n",
    "    }\n",
    "}"
   ]
  },
  {
   "cell_type": "code",
   "execution_count": 8,
   "id": "6a161628-1bbb-4060-9af5-026cadbd537c",
   "metadata": {},
   "outputs": [
    {
     "name": "stdout",
     "output_type": "stream",
     "text": [
      "Writing src/FallbackTest3.sol\n"
     ]
    }
   ],
   "source": [
    "%%writefile src/FallbackTest3.sol\n",
    "//SPDX-License-Identifier: GPL-3.0-or-later\n",
    "pragma solidity ^0.8.0;\n",
    "\n",
    "contract Receiving {\n",
    "    event PrintLog(string s, address _from, uint amount);\n",
    "    receive() external payable {\n",
    "        emit PrintLog(\"now receiving...\", msg.sender, msg.value);\n",
    "    }\n",
    "    fallback() external payable {\n",
    "        emit PrintLog(\"now fallback...\", msg.sender, msg.value);\n",
    "    }\n",
    "}\n",
    "\n",
    "contract Sending {\n",
    "    Receiving r = new Receiving();\n",
    "    function deposit(uint amount) payable public {\n",
    "        require(msg.value==amount);\n",
    "    }\n",
    "    function sending() public payable {\n",
    "        //(bool success, bytes memory data) = address(r).call{value:11}(\"\"); // (1) receive 호출\n",
    "        (bool success, bytes memory data) = address(r).call{value:11, gas:5000}(abi.encodeWithSignature(\"nonExistingFn()\")); // (2) fallback 호출\n",
    "        require(success);\n",
    "    }\n",
    "    function getBalanceOfThis() public view returns(uint) {\n",
    "        return address(this).balance;\n",
    "    }\n",
    "    function getBalanceOfReceiving() public view returns(uint) {\n",
    "        return address(r).balance;\n",
    "    }\n",
    "}"
   ]
  },
  {
   "cell_type": "code",
   "execution_count": 1,
   "id": "9ba3f448-89df-4a97-9730-faacc875c754",
   "metadata": {},
   "outputs": [
    {
     "name": "stdout",
     "output_type": "stream",
     "text": [
      "Overwriting src/FallbackTest.sol\n"
     ]
    }
   ],
   "source": [
    "%%writefile src/FallbackTest.sol\n",
    "//SPDX-License-Identifier: GPL-3.0-or-later\n",
    "pragma solidity ^0.8.0;\n",
    "\n",
    "contract FallbackTest {\n",
    "    event PrintLog(string);\n",
    "    function callA () pure public returns(string memory) {\n",
    "        return \"doing callA\";\n",
    "    }\n",
    "    fallback() external {\n",
    "        emit PrintLog(\"fallback called\");\n",
    "    }\n",
    "}"
   ]
  },
  {
   "cell_type": "code",
   "execution_count": 2,
   "id": "00b76b3a-21eb-43a6-a367-1a43f095ed2b",
   "metadata": {},
   "outputs": [],
   "source": [
    "!solc-windows.exe --optimize --combined-json abi,bin src/FallbackTest.sol > src/FallbackTest.json"
   ]
  },
  {
   "cell_type": "code",
   "execution_count": 3,
   "id": "9f8af1bf-e26c-4f07-9690-bbf7aa2c6d6b",
   "metadata": {},
   "outputs": [
    {
     "name": "stdout",
     "output_type": "stream",
     "text": [
      "Overwriting src/FallbackTestDeployFromFile.js\n"
     ]
    }
   ],
   "source": [
    "%%writefile src/FallbackTestDeployFromFile.js\n",
    "var Web3 = require('web3');\n",
    "var web3 = new Web3('http://localhost:8345');\n",
    "\n",
    "var _abiBinJson = require('./FallbackTest.json');\n",
    "contractName = Object.keys(_abiBinJson.contracts);\n",
    "_abi = _abiBinJson.contracts[contractName].abi;\n",
    "_bin = _abiBinJson.contracts[contractName].bin;\n",
    "\n",
    "async function deploy() {\n",
    "    const accounts = await web3.eth.getAccounts();\n",
    "    console.log(\"Deploying the contract from \" + accounts[0]);\n",
    "    var deployed = await new web3.eth.Contract(_abi)\n",
    "        .deploy({data: \"0x\" + _bin})\n",
    "        .send({from: accounts[0], gas:364124}, function(err, transactionHash) {\n",
    "            if(!err) {\n",
    "                console.log(\"hash: \" + transactionHash);\n",
    "            }\n",
    "        });\n",
    "    console.log(\"---> The contract deployed to: \" + deployed.options.address);\n",
    "}\n",
    "deploy()"
   ]
  },
  {
   "cell_type": "code",
   "execution_count": 4,
   "id": "3bb53d63-05e9-430e-bfba-b9e6d67af9b4",
   "metadata": {},
   "outputs": [
    {
     "name": "stdout",
     "output_type": "stream",
     "text": [
      "Deploying the contract from 0xd9f4dF6782f64D745f242D8B1768bEb54a3Ee310\n",
      "hash: 0x27af0d5b7406c4eeeec24ff2044d1220374e7d1235445b6db714e0878420f067\n",
      "---> The contract deployed to: 0xAF8f9E2805D95931BE36259CCeEcD0a6BCc3dD32\n"
     ]
    }
   ],
   "source": [
    "!node src/FallbackTestDeployFromFile.js"
   ]
  },
  {
   "cell_type": "code",
   "execution_count": 5,
   "id": "b7dc4286-a2c3-4f94-a864-251318c2e090",
   "metadata": {},
   "outputs": [
    {
     "name": "stdout",
     "output_type": "stream",
     "text": [
      "Overwriting src/FallbackTestUseFromFile.js\n"
     ]
    }
   ],
   "source": [
    "%%writefile src/FallbackTestUseFromFile.js\n",
    "var Web3 = require('web3');\n",
    "var web3 = new Web3(new Web3.providers.WebsocketProvider('ws://localhost:8345'));\n",
    "\n",
    "var _abiBinJson = require('./FallbackTest.json');\n",
    "contractName = Object.keys(_abiBinJson.contracts);\n",
    "abi = _abiBinJson.contracts[contractName].abi;\n",
    "addr = \"0xAF8f9E2805D95931BE36259CCeEcD0a6BCc3dD32\";\n",
    "\n",
    "async function doIt() {\n",
    "    const accounts = await web3.eth.getAccounts();\n",
    "    console.log(\"Account: \" + accounts[0]);\n",
    "    const balanceBefore = await web3.eth.getBalance(accounts[0]);\n",
    "    console.log(\"Balance before: \" + balanceBefore);\n",
    "    var _instance = new web3.eth.Contract(abi, addr);\n",
    "    var event = _instance.events.PrintLog({fromBlock: 0}, function (err, result) {\n",
    "        if (!err) {\n",
    "            console.log(\"Event fired: \" + JSON.stringify(result.returnValues));\n",
    "        }\n",
    "    });\n",
    "\n",
    "    await _instance.methods.callA().call().then(function(res) { console.log(res);});\n",
    "    await web3.eth.sendTransaction({from: accounts[0], to: addr});\n",
    "    const balanceAfter = await web3.eth.getBalance(accounts[0]);\n",
    "    console.log(\"Balance after: \" + balanceAfter);\n",
    "    console.log(\"Balance diff: \" + (balanceBefore - balanceAfter));\n",
    "    process.exit(1);\n",
    "}\n",
    "doIt()"
   ]
  },
  {
   "cell_type": "code",
   "execution_count": 6,
   "id": "6e7b428f-cd7b-4f94-ba6b-96088f2c10ef",
   "metadata": {},
   "outputs": [
    {
     "name": "stdout",
     "output_type": "stream",
     "text": [
      "Account: 0xd9f4dF6782f64D745f242D8B1768bEb54a3Ee310\n",
      "Balance before: 999994736823340983619\n",
      "doing callA\n",
      "Event fired: {\"0\":\"fallback called\"}\n",
      "Balance after: 999994680052783052565\n",
      "Balance diff: 56770558033920\n"
     ]
    }
   ],
   "source": [
    "!node src/FallbackTestUseFromFile.js"
   ]
  },
  {
   "cell_type": "code",
   "execution_count": 1,
   "id": "add4f106-8e74-419f-acc0-f0d7717d5a93",
   "metadata": {},
   "outputs": [
    {
     "name": "stdout",
     "output_type": "stream",
     "text": [
      "Overwriting src/MathMultiply7.sol\n"
     ]
    }
   ],
   "source": [
    "%%writefile src/MathMultiply7.sol\n",
    "//SPDX-License-Identifier: GPL-3.0-or-later\n",
    "pragma solidity ^0.8.0;\n",
    "\n",
    "contract Multiply7 {\n",
    "    event PrintLog(string s, address _from, uint _amount);\n",
    "    event PrintLog(string s, address _from);\n",
    "    event PrintLog(uint);\n",
    "    receive() external payable {\n",
    "        emit PrintLog(\"now receiving in Multiply7\", tx.origin);\n",
    "    }\n",
    "    fallback() external payable {\n",
    "        emit PrintLog(\"now fallback in Multiply7\", tx.origin);\n",
    "    }\n",
    "    function multiply(uint input) pure public returns(uint) {\n",
    "        return input * 7;\n",
    "    }\n",
    "    function getAddress() view public returns(address) {\n",
    "        return address(this);\n",
    "    }\n",
    "}\n",
    "\n",
    "contract Math {\n",
    "    Multiply7 m7 = new Multiply7();\n",
    "    function deposit(uint amount) payable public {\n",
    "        require(msg.value == amount);\n",
    "    }\n",
    "    function setM7(address payable _addr) public {\n",
    "        m7 = Multiply7(_addr);\n",
    "    }\n",
    "    function multiply() view public returns(uint) {\n",
    "        uint res = m7.multiply(8);\n",
    "        return res;\n",
    "    }\n",
    "    function send11M7() public payable {\n",
    "        payable(address(m7)).transfer(11);\n",
    "    }\n",
    "    function getBalanceOfThis() public view returns(uint) {\n",
    "        return address(this).balance;\n",
    "    }\n",
    "    function getBalanceOfM7() public view returns(uint) {\n",
    "        return address(m7).balance;\n",
    "    }\n",
    "    function getAddressOfM7() view public returns(address) {\n",
    "        return address(m7);\n",
    "   }\n",
    "}"
   ]
  },
  {
   "cell_type": "code",
   "execution_count": 2,
   "id": "b094f951-99f1-49ff-9198-4e117679884b",
   "metadata": {},
   "outputs": [],
   "source": [
    "!solc-windows.exe --optimize --combined-json abi,bin src/MathMultiply7.sol > src/MathMultiply7.json"
   ]
  },
  {
   "cell_type": "code",
   "execution_count": 3,
   "id": "0d20e513-b021-412c-a9ab-819bc9f78369",
   "metadata": {},
   "outputs": [
    {
     "name": "stdout",
     "output_type": "stream",
     "text": [
      "Overwriting src/MathMultiply7DeployFromFile.js\n"
     ]
    }
   ],
   "source": [
    "%%writefile src/MathMultiply7DeployFromFile.js\n",
    "var Web3 = require('web3');\n",
    "var web3 = new Web3('http://localhost:8345');\n",
    "\n",
    "var _abiBinJson = require('./MathMultiply7.json');\n",
    "contractNames = Object.keys(_abiBinJson.contracts);\n",
    "contractName = contractNames[0];\n",
    "console.log(\"- contract name: \", contractName);\n",
    "_abi = _abiBinJson.contracts[contractName].abi;\n",
    "_bin = _abiBinJson.contracts[contractName].bin;\n",
    "\n",
    "async function deploy() {\n",
    "    const accounts = await web3.eth.getAccounts();\n",
    "    console.log(\"Deploying the contract from \" + accounts[0]);\n",
    "    var deployed = await new web3.eth.Contract(_abi)\n",
    "        .deploy({data: \"0x\" + _bin})\n",
    "        .send({from: accounts[0], gas:364124}, function (err, transactionHash) {\n",
    "            if (!err) console.log(\"hash: \" + transactionHash);\n",
    "        })\n",
    "    console.log(\"---> The contract deployed to: \" + deployed.options.address);\n",
    "}\n",
    "deploy()"
   ]
  },
  {
   "cell_type": "code",
   "execution_count": 4,
   "id": "f89370f8-5c48-40a0-8985-815af310e7ec",
   "metadata": {},
   "outputs": [
    {
     "name": "stdout",
     "output_type": "stream",
     "text": [
      "- contract name:  src/MathMultiply7.sol:Math\n",
      "Deploying the contract from 0xd9f4dF6782f64D745f242D8B1768bEb54a3Ee310\n",
      "hash: 0x0397b9e750af39f465c46d052de43c03bb78c28d821e16f47d5fc519ec7ef8f3\n",
      "---> The contract deployed to: 0xe023Ae4dD70d5909Bd5092Cb6eE878e7c97cCc8b\n"
     ]
    }
   ],
   "source": [
    "!node src/MathMultiply7DeployFromFile.js"
   ]
  },
  {
   "cell_type": "code",
   "execution_count": 9,
   "id": "8b065fe4-2284-4386-aad6-66bc99f035da",
   "metadata": {},
   "outputs": [
    {
     "name": "stdout",
     "output_type": "stream",
     "text": [
      "Overwriting src/MathMultiply7UseFromFile.js\n"
     ]
    }
   ],
   "source": [
    "%%writefile src/MathMultiply7UseFromFile.js\n",
    "var Web3 = require('web3');\n",
    "var web3 = new Web3(new Web3.providers.WebsocketProvider('ws://localhost:8345'));\n",
    "\n",
    "var _abiBinJson = require('./MathMultiply7.json');\n",
    "contractNames = Object.keys(_abiBinJson.contracts);\n",
    "contractName = contractNames[0];\n",
    "abi = _abiBinJson.contracts[contractName].abi;\n",
    "addr = \"0xe023Ae4dD70d5909Bd5092Cb6eE878e7c97cCc8b\";\n",
    "\n",
    "async function doIt() {\n",
    "    const accounts = await web3.eth.getAccounts();\n",
    "    console.log(\"Account: \" + accounts[0]);\n",
    "    const balanceBefore = await web3.eth.getBalance(accounts[0]);\n",
    "    console.log(\"Balance before: \" + balanceBefore);\n",
    "    var _instance = new web3.eth.Contract(abi, addr);\n",
    "\n",
    "    await _instance.methods.multiply().call().then(console.log);\n",
    "    await _instance.methods.deposit(123).send({from: accounts[0], value: 123});\n",
    "    await _instance.methods.getBalanceOfM7().call().then(console.log);\n",
    "    await _instance.methods.send11M7().send({from: accounts[0]});\n",
    "    await _instance.methods.getBalanceOfM7().call().then(console.log);\n",
    "    const balanceAfter = await web3.eth.getBalance(accounts[0]);\n",
    "    console.log(\"Balance after: \" + balanceAfter);\n",
    "    console.log(\"Balance diff: \" + (balanceBefore - balanceAfter));\n",
    "    process.exit(1)\n",
    "}\n",
    "doIt()"
   ]
  },
  {
   "cell_type": "code",
   "execution_count": 10,
   "id": "a0f36dce-91e5-48a7-bb47-2625863dfa76",
   "metadata": {},
   "outputs": [
    {
     "name": "stdout",
     "output_type": "stream",
     "text": [
      "Account: 0xd9f4dF6782f64D745f242D8B1768bEb54a3Ee310\n",
      "Balance before: 999991672938444362624\n",
      "56\n",
      "11\n",
      "22\n",
      "Balance after: 999991532552814926009\n",
      "Balance diff: 140385629372416\n"
     ]
    }
   ],
   "source": [
    "!node src/MathMultiply7UseFromFile.js"
   ]
  },
  {
   "cell_type": "code",
   "execution_count": null,
   "id": "448c99f9-ad36-490a-a202-1637c3400cd8",
   "metadata": {},
   "outputs": [],
   "source": []
  }
 ],
 "metadata": {
  "kernelspec": {
   "display_name": "Python 3 (ipykernel)",
   "language": "python",
   "name": "python3"
  },
  "language_info": {
   "codemirror_mode": {
    "name": "ipython",
    "version": 3
   },
   "file_extension": ".py",
   "mimetype": "text/x-python",
   "name": "python",
   "nbconvert_exporter": "python",
   "pygments_lexer": "ipython3",
   "version": "3.10.6"
  }
 },
 "nbformat": 4,
 "nbformat_minor": 5
}
